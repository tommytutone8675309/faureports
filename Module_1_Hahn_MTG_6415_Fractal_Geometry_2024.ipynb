{
  "nbformat": 4,
  "nbformat_minor": 0,
  "metadata": {
    "colab": {
      "provenance": [],
      "include_colab_link": true
    },
    "kernelspec": {
      "name": "python3",
      "display_name": "Python 3"
    },
    "language_info": {
      "name": "python"
    }
  },
  "cells": [
    {
      "cell_type": "markdown",
      "metadata": {
        "id": "view-in-github",
        "colab_type": "text"
      },
      "source": [
        "<a href=\"https://colab.research.google.com/github/tommytutone8675309/faureports/blob/main/Module_1_Hahn_MTG_6415_Fractal_Geometry_2024.ipynb\" target=\"_parent\"><img src=\"https://colab.research.google.com/assets/colab-badge.svg\" alt=\"Open In Colab\"/></a>"
      ]
    },
    {
      "cell_type": "markdown",
      "source": [
        "1. **Open Google Colab**\n",
        "   - Go to [Google Colab](https://colab.research.google.com/).  \n",
        "   - Open an existing notebook from your link, Google Drive, GitHub, or a local file.\n",
        "\n",
        "2. **Make a Copy of the Notebook**\n",
        "   - Select **File > Save a copy in Drive** (or **File > Make a copy**).  \n",
        "   - This step ensures you have your own editable version of the notebook.\n",
        "\n",
        "3. **Identify the Code Cells**\n",
        "   - Code cells have `In [ ]:` on the left side.  \n",
        "   - Text (Markdown) cells look like regular text.\n",
        "\n",
        "4. **Run a Code Cell**\n",
        "   - Click the **Play** (▶) button on the left edge of the code cell, **OR**  \n",
        "   - Press **Shift + Enter** (Windows/Mac) when the cell is selected.\n",
        "\n",
        "5. **View the Output**\n",
        "   - After running a cell, its results (prints, charts, errors, etc.) appear directly below.\n",
        "\n",
        "6. **Run Cells in Sequence**\n",
        "   - It’s best to run from top to bottom, so the code has all necessary variables and libraries in memory.\n",
        "\n",
        "7. **Restart or Reset**\n",
        "   - If you need a fresh start, select **Runtime > Restart runtime**.  \n",
        "   - This clears variables, imported libraries, and reinitializes the notebook.\n",
        "\n",
        "That’s it! You now know how to make a copy of a Colab notebook, run its cells, and view outputs.\n",
        "\n"
      ],
      "metadata": {
        "id": "ctFKirK-EAp-"
      }
    },
    {
      "cell_type": "code",
      "source": [
        "# Here some simple python programs. Experiment to make new ones."
      ],
      "metadata": {
        "id": "mNRJgZE_ETkZ"
      },
      "execution_count": null,
      "outputs": []
    },
    {
      "cell_type": "code",
      "source": [
        "message = \"Hello World!\""
      ],
      "metadata": {
        "id": "7s25_2vSEGzQ"
      },
      "execution_count": null,
      "outputs": []
    },
    {
      "cell_type": "code",
      "source": [
        "print(message)"
      ],
      "metadata": {
        "colab": {
          "base_uri": "https://localhost:8080/"
        },
        "id": "kScyh9vpEHE4",
        "outputId": "81e4b29a-968a-455f-ad92-baaab0b0a43b"
      },
      "execution_count": null,
      "outputs": [
        {
          "output_type": "stream",
          "name": "stdout",
          "text": [
            "Hello World!\n"
          ]
        }
      ]
    },
    {
      "cell_type": "code",
      "source": [
        "1 + 2 + 3"
      ],
      "metadata": {
        "colab": {
          "base_uri": "https://localhost:8080/"
        },
        "id": "VdmO_ivjEHHX",
        "outputId": "477d8007-fd4c-495b-f74a-9eadd284e3a8"
      },
      "execution_count": null,
      "outputs": [
        {
          "output_type": "execute_result",
          "data": {
            "text/plain": [
              "6"
            ]
          },
          "metadata": {},
          "execution_count": 20
        }
      ]
    },
    {
      "cell_type": "code",
      "source": [
        "4*5"
      ],
      "metadata": {
        "colab": {
          "base_uri": "https://localhost:8080/"
        },
        "id": "dNz6BcXzEHJ_",
        "outputId": "366ece0b-9b53-43f6-e383-e0c17e7add58"
      },
      "execution_count": null,
      "outputs": [
        {
          "output_type": "execute_result",
          "data": {
            "text/plain": [
              "20"
            ]
          },
          "metadata": {},
          "execution_count": 21
        }
      ]
    },
    {
      "cell_type": "code",
      "source": [
        "2**8"
      ],
      "metadata": {
        "colab": {
          "base_uri": "https://localhost:8080/"
        },
        "id": "vympMtXEEHMn",
        "outputId": "36bc93e4-85db-46fd-97ce-5bc93982e0fc"
      },
      "execution_count": null,
      "outputs": [
        {
          "output_type": "execute_result",
          "data": {
            "text/plain": [
              "256"
            ]
          },
          "metadata": {},
          "execution_count": 22
        }
      ]
    },
    {
      "cell_type": "code",
      "source": [
        "2**12345"
      ],
      "metadata": {
        "colab": {
          "base_uri": "https://localhost:8080/"
        },
        "id": "T3Os4j2eERUb",
        "outputId": "6bb0fe3e-5557-475b-afc3-1ff3cab22140"
      },
      "execution_count": null,
      "outputs": [
        {
          "output_type": "execute_result",
          "data": {
            "text/plain": [
              "164171010688258216356020741663906501410127235530735881272116103087925094171390144280159034536439457734870419127140401667195510331085657185332721089236401193044493457116299768844344303479235489462436380672117015123283299131391904179287678259173308536738761981139958654880852234908448338817289014166774169869251339379828599748492918775437864739032217778051333882990074116246281269364933724892342134504702491040016637557429810893780765197418589477584716543480995722533317862352141459217781316266211186486157019262080414077670264642736018426998113523445732680856144329876972273300703392584997729207197971083945700345494092400147186997307012069454068489589035676979448169848060836924945824197706493306108258511936030341393221586423523264452449403781993352421885094664052270795527632721896121424813173522474674395886155092203404036730748474781710715745446135468098139831824083259647919175273503681561172684624283384438504776503000432241604550454374116320822227191911322123484085063926350606342197146407841178028071147192533942517270553513988142925976090769695456221159699052583533011331652079347093098173086975483539274464023357456484465482927479569437320368592222760278170306076733438801098370797675711274671054970711442158930561684343135774118741594506702833147396758825015850042983343690345185995956235143825771620543546030664562647854656431302644574119873820215595718618624485232422006575550007068883734241454686368856734496265385908809403972494685137741122866896719678053937285818409751670320140501843039224040735870096889596273419106389103662095318937990625980136711988237421962315266686856089505981438440850638067589321141759499017023839596858455548192000140085142294166987063499024792681334843159790936321351919859758669569200541507612099780909705198902176026219872201715422096090343686272984351441594569506778041062663266799342793856313801540959815845788584759033248828248561586450271172777240971795656082001848115815260930521663167480173886064019118572778281516735157779555888167787064432558595410843987446497881666288423233170060413025924629950477303342180149398926073618582715358742250388958231281694757980523791263699450732952325727664209947786063982561775327638504516918570101319391698412388607603742484414748268389669129118026878969735782286841116842656410574647607524418900720328045377993386279808768990376289424757351052369393977137871998119168898493037938756635621557623138404459266598837784229325799838782026060481496865561757031839002257091802876949248392744175669112242088439883248336310597001257385980776961529351198877747193531054956881808332177946751404038228718567911769630971553915410012677600002457982207465176670752102117002773980548089696530972476439694599881281812973217265853884727906535479745854085338851105144585481994156206497436745899944877732531412541279014300324594890623941145509856940982863769834430048120562966797907114102689879364945689860493474954538422367719507882513166051007352994068319251450666676648368200564329382998758875760414259654004977261309988267319806354856051784553990936610634733375984159028722378614984450255386315585631994503350002142910493190254825610707400589976364985748467955131077971641882672895854571236368282811336220769174784720113331269084746524204124263475054112841630933586166195036115696469686075600480420563557567616835633252622327172811002146392754445051182169805284630259703542633955126179520113059629914229833688535925729676778028406897316106101038469119090984567152591962365415039646394591503830797626339246986057077758611413664914168745375266786298141171496573941614387744125843685677063619782918759823106021054037757857761587472240835040580447360544029064930412569943169729238102162312218687930203068055400275795180972382856696655279408212344832"
            ]
          },
          "metadata": {},
          "execution_count": 23
        }
      ]
    },
    {
      "cell_type": "code",
      "source": [
        "apples = 5"
      ],
      "metadata": {
        "id": "xZlG8dIJFglR"
      },
      "execution_count": null,
      "outputs": []
    },
    {
      "cell_type": "code",
      "source": [
        "oranges = 10"
      ],
      "metadata": {
        "id": "pSyj7sCJFjMG"
      },
      "execution_count": null,
      "outputs": []
    },
    {
      "cell_type": "code",
      "source": [
        "total = apples + oranges"
      ],
      "metadata": {
        "id": "UvR7zP3CFmYj"
      },
      "execution_count": null,
      "outputs": []
    },
    {
      "cell_type": "code",
      "source": [
        "print(total)"
      ],
      "metadata": {
        "colab": {
          "base_uri": "https://localhost:8080/"
        },
        "id": "PPnCfw4FFo7Y",
        "outputId": "760ce9e6-fe6f-4919-c8ae-babc96d3d872"
      },
      "execution_count": null,
      "outputs": [
        {
          "output_type": "stream",
          "name": "stdout",
          "text": [
            "15\n"
          ]
        }
      ]
    },
    {
      "cell_type": "markdown",
      "source": [
        "\n",
        "\n",
        "---\n",
        "\n"
      ],
      "metadata": {
        "id": "j7o4sCq-ECPJ"
      }
    },
    {
      "cell_type": "markdown",
      "source": [
        "# Module 1: Intro to Turtle Logo Graphics\n",
        "\n",
        "---\n",
        "\n",
        "\n"
      ],
      "metadata": {
        "id": "mqvevSKYephf"
      }
    },
    {
      "cell_type": "markdown",
      "source": [
        "https://en.wikipedia.org/wiki/Logo_(programming_language)"
      ],
      "metadata": {
        "id": "YXABmLlsGPVY"
      }
    },
    {
      "cell_type": "markdown",
      "source": [
        "# Drawing a Simple Square with Turtle Graphics\n",
        "\n",
        "## Overview\n",
        "In this lesson, you will learn how to:\n",
        "- Initialize a turtle  \n",
        "- Set the turtle’s color and background  \n",
        "- Move the turtle to a suitable starting position  \n",
        "- Draw a simple square  \n",
        "- Display the drawing  \n",
        "\n",
        "## Code Explanation\n",
        "\n",
        "1. **Initialize the Turtle**  \n",
        "   - `initializeTurtle()` sets up the turtle environment.  \n",
        "   - `showturtle()` makes the turtle visible.  \n",
        "   - `color('blue')` changes the pen color to blue.  \n",
        "   - `bgcolor('white')` sets the background color to white.  \n",
        "\n",
        "2. **Move to a Suitable Starting Position**  \n",
        "   - `jump(200, 200)` repositions the turtle to coordinates (200, 200).  \n",
        "   - `face(0)` ensures the turtle faces east (0 degrees).  \n",
        "\n",
        "3. **Draw a Simple Square**  \n",
        "   - The `for _ in range(4):` loop repeats 4 times to draw 4 sides.  \n",
        "   - `forward(100)` moves the turtle forward 100 units.  \n",
        "   - `right(90)` turns the turtle 90 degrees to the right, forming the corners of the square.  \n",
        "\n",
        "4. **Display the Drawing**  \n",
        "   - `show()` displays the final drawing once the square is complete.  \n",
        "\n",
        "---"
      ],
      "metadata": {
        "id": "heF2Hurl9ki-"
      }
    },
    {
      "cell_type": "code",
      "source": [
        "# This code installs the turtle library\n",
        "!wget -O turtle_setup.py 'https://raw.githubusercontent.com/williamedwardhahn/fractal25/refs/heads/main/turtle_setup.py'\n",
        "from turtle_setup import *"
      ],
      "metadata": {
        "id": "HeHmtMpUL-WL",
        "colab": {
          "base_uri": "https://localhost:8080/"
        },
        "outputId": "77db9447-82b5-4928-af3c-4f7846dea675"
      },
      "execution_count": null,
      "outputs": [
        {
          "output_type": "stream",
          "name": "stdout",
          "text": [
            "--2025-01-13 23:20:55--  https://raw.githubusercontent.com/williamedwardhahn/fractal25/refs/heads/main/turtle_setup.py\n",
            "Resolving raw.githubusercontent.com (raw.githubusercontent.com)... 185.199.109.133, 185.199.111.133, 185.199.108.133, ...\n",
            "Connecting to raw.githubusercontent.com (raw.githubusercontent.com)|185.199.109.133|:443... connected.\n",
            "HTTP request sent, awaiting response... 200 OK\n",
            "Length: 13274 (13K) [text/plain]\n",
            "Saving to: ‘turtle_setup.py’\n",
            "\n",
            "\rturtle_setup.py       0%[                    ]       0  --.-KB/s               \rturtle_setup.py     100%[===================>]  12.96K  --.-KB/s    in 0.001s  \n",
            "\n",
            "2025-01-13 23:20:55 (21.3 MB/s) - ‘turtle_setup.py’ saved [13274/13274]\n",
            "\n"
          ]
        }
      ]
    },
    {
      "cell_type": "code",
      "source": [
        "# Initialize the turtle\n",
        "initializeTurtle()\n",
        "showturtle()\n",
        "color('blue')\n",
        "bgcolor('white')\n",
        "\n",
        "# Move to a suitable starting position\n",
        "jump(200, 200)  # Adjust these values as needed to center the square\n",
        "face(0)  # Ensure the turtle is facing up\n",
        "\n",
        "\n",
        "forward(100)\n",
        "\n",
        "\n",
        "# Display the drawing\n",
        "show()\n"
      ],
      "metadata": {
        "colab": {
          "base_uri": "https://localhost:8080/",
          "height": 661
        },
        "id": "uf72rCqM-Wd0",
        "outputId": "627d1667-a70d-4a27-dbb6-2a99f9750529"
      },
      "execution_count": null,
      "outputs": [
        {
          "output_type": "display_data",
          "data": {
            "text/plain": [
              "<IPython.core.display.HTML object>"
            ],
            "text/html": [
              "\n",
              "<style>\n",
              "table {border-collapse: collapse;}\n",
              "button {width: 80px; margin: 5px 5px 5px 0px; text-align: center; font-size: 1em;}\n",
              "canvas {margin-top: 5px;}\n",
              "#status {background-color: #cdcdff; color: #000000; font-size: 1em;}\n",
              "#art {text-align: center; background-color: #efefff; padding: 0px 5px 0px 5px;}\n",
              ".right {text-align: right;}\n",
              ".left {text-align: left;}\n",
              ".numbers {margin: 0px 10px 0px 10px; font-size: 1em; color: 'purple';\n",
              "white-space: pre; font-family: 'Courier New', monospace;}\n",
              "</style>\n",
              "<table>\n",
              "<tr><td colspan=4 id='art'><canvas id=\"turtleCanvas\"></td></tr>\n",
              "<tr id=\"status\">\n",
              "  <td class=\"left\">\n",
              "    <div id=\"info\">\n",
              "      <div class=\"numbers\"><b>Turtle</b> - Waiting ..                </div>\n",
              "    </div>\n",
              "  </td>\n",
              "  <td class=\"left\">\n",
              "    <div id=\"coord\">\n",
              "      <div class='numbers'><b>Mouse</b> - x:   0 y:   0</div>\n",
              "    </div>\n",
              "  </td>\n",
              "  <td class=\"right\">\n",
              "    <button onClick=\"replay();\" id=\"replay\">Replay</button>\n",
              "    <button onClick=\"saveImg();\" id=\"save\">Save</button>\n",
              "  </td>\n",
              "</tr>\n",
              "</table>\n",
              "<script>\n",
              "function saveImg() {\n",
              "  var a = document.createElement(\"a\");\n",
              "  a.download = \"turtle.png\"; a.href = c.toDataURL(\"image/png\"); a.click();\n",
              "}\n",
              "function replay() {\n",
              "  var t=Math.max(Math.round(2000/p.length), 1);\n",
              "  disableControls(true);\n",
              "  setTimeout(function() { play(t); }, 50);\n",
              "}\n",
              "function disableControls(disable) {\n",
              "  document.getElementById(\"replay\").disabled = disable;\n",
              "  document.getElementById(\"save\").disabled = disable;\n",
              "}\n",
              "function play(delay) {\n",
              "  clearCanvas(bgcolor);\n",
              "  cold = ctx.getImageData(0, 0, c.width, c.height);\n",
              "  if(delay > 0) {\n",
              "    (function myLoop(i) {\n",
              "      setTimeout(function() {\n",
              "        plot(i, delay);\n",
              "        if (++i < p.length) { myLoop(i); } else { disableControls(false); }\n",
              "      }, delay)\n",
              "    })(1);\n",
              "  } else {\n",
              "    for (var ip=1; ip<p.length; ip++) { plot(ip, delay); }\n",
              "    disableControls(false);\n",
              "  }\n",
              "}\n",
              "function plot(ip, delay) {\n",
              "  if(dirty) { ctx.putImageData(cold, 0, 0); }\n",
              "  if(p[ip-1].fill!=p[ip].fill   || p[ip-1].width!=p[ip].width ||\n",
              "     p[ip-1].color!=p[ip].color || p[ip-1].fillcolor!=p[ip].fillcolor ||\n",
              "     ip==1) {\n",
              "    if(p[ip-1].fill) {\n",
              "      ctx.fillStyle = p[ip-1].fillcolor;\n",
              "      ctx.fill();\n",
              "    }\n",
              "    ctx.beginPath();\n",
              "    ctx.moveTo(p[ip-1].x, p[ip-1].y);\n",
              "    ctx.strokeStyle = p[ip].color;\n",
              "    ctx.lineWidth = p[ip].width;\n",
              "  }\n",
              "  if(p[ip].pen) { ctx.lineTo(p[ip].x, p[ip].y); }\n",
              "  else          { ctx.moveTo(p[ip].x, p[ip].y); }\n",
              "  ctx.stroke();\n",
              "  if(turtle && (delay > 0 || ip==p.length-1)) { showTurtle(ip); }\n",
              "  updateStatus(p[ip].x, p[ip].y, p[ip].h, ip);\n",
              "}\n",
              "function updateStatus(x,y,h,ip) {\n",
              "  px=String(Math.round(x)).padStart(4,' ');\n",
              "  py=String(Math.round(y)).padStart(4,' ');\n",
              "  ph=String(Math.round(h)).padStart(4,' ');\n",
              "  pi=String(ip).padStart(6,' ');\n",
              "  document.getElementById(\"info\").innerHTML=\n",
              "  \"<div class='numbers'><b>Turtle</b> - x:\"+px+\" y:\"+py+\n",
              "  \" Heading:\"+ph+\" - Points:\"+pi+\"</div>\";\n",
              "}\n",
              "function updateStatusStatic(ip) {\n",
              "  pi=String(ip).padStart(6,' ');\n",
              "  document.getElementById(\"info\").innerHTML=\n",
              "  \"<div class='numbers'><b>Turtle</b> - Points:\"+pi+\n",
              "  \" (non interactive)           </div>\";\n",
              "}\n",
              "function getCoordinates(e) {\n",
              "  var rect = c.getBoundingClientRect();\n",
              "  mx=String(Math.round(e.clientX-rect.left)).padStart(4,' ');\n",
              "  my=String(Math.round(e.clientY-rect.top)).padStart(4,' ');\n",
              "  document.getElementById(\"coord\").innerHTML=\n",
              "  \"<div class='numbers'><b>Mouse</b> - x:\"+mx+\" y:\"+my+\"</div>\";\n",
              "}\n",
              "function showTurtle(ip) {\n",
              "  cold = ctx.getImageData(0, 0, c.width, c.height);\n",
              "  ctx.translate(p[ip].x, p[ip].y);\n",
              "  ctx.rotate(p[ip].h*Math.PI/180.);\n",
              "  ctx.drawImage(timg, -timg.width/2, -timg.height / 2, timg.width, timg.height);\n",
              "  ctx.rotate(-p[ip].h*Math.PI/180.);\n",
              "  ctx.translate(-p[ip].x, -p[ip].y);\n",
              "  dirty = true;\n",
              "}\n",
              "function clearCanvas(color){\n",
              "  bgcolor = color;\n",
              "  ctx.fillStyle = color;\n",
              "  ctx.fillRect(0, 0, c.width, c.height);\n",
              "}\n",
              "function initTurtle() {\n",
              "  var turl = \"https://raw.githubusercontent.com/tproffen/ORCSGirlsPython/master/Images/turtle.png\";\n",
              "  timg = new Image();\n",
              "  timg.src = turl; timg.setAttribute('crossorigin', 'anonymous');\n",
              "}\n",
              "//-----------------------------------------------------------------//\n",
              "//----------- Functions called from Python ------------------------//\n",
              "//-----------------------------------------------------------------//\n",
              "function updateDrawingCanvas(json) {\n",
              "  var art = JSON.parse(json);\n",
              "  bgcolor = art.bgcolor;\n",
              "  turtle = art.turtle;\n",
              "  c.width = art.width; c.height = art.height;\n",
              "  document.getElementById(\"art\").style.backgroundColor  = art.canvascolor;\n",
              "  document.getElementById(\"status\").style.backgroundColor  = art.statuscolor;\n",
              "\n",
              "  p=art.lines;\n",
              "  disableControls(true);\n",
              "  setTimeout(function() { play(art.delay); }, 50);\n",
              "}\n",
              "//-----------------------------------------------------------------//\n",
              "function updateDrawingSVG(svg,np) {\n",
              "\n",
              "  blob = new Blob([svg],{type:'image/svg+xml;charset=utf-8'});\n",
              "  url = URL.createObjectURL(blob);\n",
              "  var img = new Image();\n",
              "  img.onload = function(e){\n",
              "    c.width=img.width; c.height=img.height;\n",
              "    ctx.drawImage( img, 0, 0 );\n",
              "  };\n",
              "  img.src = url;\n",
              "  document.getElementById(\"save\").disabled = false;\n",
              "  updateStatusStatic(np);\n",
              "}\n",
              "//-----------------------------------------------------------------//\n",
              "//-----------------------------------------------------------------//\n",
              "var c = document.getElementById(\"turtleCanvas\");\n",
              "var ctx = c.getContext(\"2d\");\n",
              "var cold = ctx.getImageData(0, 0, c.width, c.height);\n",
              "var p = [], timg, turtle = false; path = false; dirty = false;\n",
              "\n",
              "initTurtle(); disableControls(true); c.addEventListener('mousemove',getCoordinates);\n",
              "</script>\n"
            ]
          },
          "metadata": {}
        },
        {
          "output_type": "display_data",
          "data": {
            "text/plain": [
              "<IPython.core.display.Javascript object>"
            ],
            "application/javascript": [
              "updateDrawingCanvas('{\"bgcolor\": \"white\", \"statuscolor\": \"#ededff\", \"turtle\": true, \"canvascolor\": \"#fafafa\", \"width\": 1000, \"height\": 600, \"delay\": 0, \"lines\": [{\"pen\": false, \"x\": 500.0, \"y\": 300.0, \"h\": 0.0, \"color\": \"blue\", \"width\": 2, \"fill\": false, \"fillcolor\": \"yellow\"}, {\"pen\": false, \"x\": 200, \"y\": 200, \"h\": 0.0, \"color\": \"blue\", \"width\": 2, \"fill\": false, \"fillcolor\": \"yellow\"}, {\"pen\": true, \"x\": 200, \"y\": 200, \"h\": 0, \"color\": \"blue\", \"width\": 2, \"fill\": false, \"fillcolor\": \"yellow\"}, {\"pen\": true, \"x\": 200.0, \"y\": 100.0, \"h\": 0, \"color\": \"blue\", \"width\": 2, \"fill\": false, \"fillcolor\": \"yellow\"}]}')"
            ]
          },
          "metadata": {}
        }
      ]
    },
    {
      "cell_type": "code",
      "source": [
        "initializeTurtle()\n",
        "showturtle()\n",
        "color('blue')\n",
        "bgcolor('white')\n",
        "\n",
        "jump(200, 200)\n",
        "face(0)\n",
        "\n",
        "\n",
        "forward(100)\n",
        "right(90)\n",
        "\n",
        "show()\n"
      ],
      "metadata": {
        "colab": {
          "base_uri": "https://localhost:8080/",
          "height": 661
        },
        "id": "tg-xBoUS-hRs",
        "outputId": "e4f3852b-024b-4564-a16b-6465f6b2d5ac"
      },
      "execution_count": null,
      "outputs": [
        {
          "output_type": "display_data",
          "data": {
            "text/plain": [
              "<IPython.core.display.HTML object>"
            ],
            "text/html": [
              "\n",
              "<style>\n",
              "table {border-collapse: collapse;}\n",
              "button {width: 80px; margin: 5px 5px 5px 0px; text-align: center; font-size: 1em;}\n",
              "canvas {margin-top: 5px;}\n",
              "#status {background-color: #cdcdff; color: #000000; font-size: 1em;}\n",
              "#art {text-align: center; background-color: #efefff; padding: 0px 5px 0px 5px;}\n",
              ".right {text-align: right;}\n",
              ".left {text-align: left;}\n",
              ".numbers {margin: 0px 10px 0px 10px; font-size: 1em; color: 'purple';\n",
              "white-space: pre; font-family: 'Courier New', monospace;}\n",
              "</style>\n",
              "<table>\n",
              "<tr><td colspan=4 id='art'><canvas id=\"turtleCanvas\"></td></tr>\n",
              "<tr id=\"status\">\n",
              "  <td class=\"left\">\n",
              "    <div id=\"info\">\n",
              "      <div class=\"numbers\"><b>Turtle</b> - Waiting ..                </div>\n",
              "    </div>\n",
              "  </td>\n",
              "  <td class=\"left\">\n",
              "    <div id=\"coord\">\n",
              "      <div class='numbers'><b>Mouse</b> - x:   0 y:   0</div>\n",
              "    </div>\n",
              "  </td>\n",
              "  <td class=\"right\">\n",
              "    <button onClick=\"replay();\" id=\"replay\">Replay</button>\n",
              "    <button onClick=\"saveImg();\" id=\"save\">Save</button>\n",
              "  </td>\n",
              "</tr>\n",
              "</table>\n",
              "<script>\n",
              "function saveImg() {\n",
              "  var a = document.createElement(\"a\");\n",
              "  a.download = \"turtle.png\"; a.href = c.toDataURL(\"image/png\"); a.click();\n",
              "}\n",
              "function replay() {\n",
              "  var t=Math.max(Math.round(2000/p.length), 1);\n",
              "  disableControls(true);\n",
              "  setTimeout(function() { play(t); }, 50);\n",
              "}\n",
              "function disableControls(disable) {\n",
              "  document.getElementById(\"replay\").disabled = disable;\n",
              "  document.getElementById(\"save\").disabled = disable;\n",
              "}\n",
              "function play(delay) {\n",
              "  clearCanvas(bgcolor);\n",
              "  cold = ctx.getImageData(0, 0, c.width, c.height);\n",
              "  if(delay > 0) {\n",
              "    (function myLoop(i) {\n",
              "      setTimeout(function() {\n",
              "        plot(i, delay);\n",
              "        if (++i < p.length) { myLoop(i); } else { disableControls(false); }\n",
              "      }, delay)\n",
              "    })(1);\n",
              "  } else {\n",
              "    for (var ip=1; ip<p.length; ip++) { plot(ip, delay); }\n",
              "    disableControls(false);\n",
              "  }\n",
              "}\n",
              "function plot(ip, delay) {\n",
              "  if(dirty) { ctx.putImageData(cold, 0, 0); }\n",
              "  if(p[ip-1].fill!=p[ip].fill   || p[ip-1].width!=p[ip].width ||\n",
              "     p[ip-1].color!=p[ip].color || p[ip-1].fillcolor!=p[ip].fillcolor ||\n",
              "     ip==1) {\n",
              "    if(p[ip-1].fill) {\n",
              "      ctx.fillStyle = p[ip-1].fillcolor;\n",
              "      ctx.fill();\n",
              "    }\n",
              "    ctx.beginPath();\n",
              "    ctx.moveTo(p[ip-1].x, p[ip-1].y);\n",
              "    ctx.strokeStyle = p[ip].color;\n",
              "    ctx.lineWidth = p[ip].width;\n",
              "  }\n",
              "  if(p[ip].pen) { ctx.lineTo(p[ip].x, p[ip].y); }\n",
              "  else          { ctx.moveTo(p[ip].x, p[ip].y); }\n",
              "  ctx.stroke();\n",
              "  if(turtle && (delay > 0 || ip==p.length-1)) { showTurtle(ip); }\n",
              "  updateStatus(p[ip].x, p[ip].y, p[ip].h, ip);\n",
              "}\n",
              "function updateStatus(x,y,h,ip) {\n",
              "  px=String(Math.round(x)).padStart(4,' ');\n",
              "  py=String(Math.round(y)).padStart(4,' ');\n",
              "  ph=String(Math.round(h)).padStart(4,' ');\n",
              "  pi=String(ip).padStart(6,' ');\n",
              "  document.getElementById(\"info\").innerHTML=\n",
              "  \"<div class='numbers'><b>Turtle</b> - x:\"+px+\" y:\"+py+\n",
              "  \" Heading:\"+ph+\" - Points:\"+pi+\"</div>\";\n",
              "}\n",
              "function updateStatusStatic(ip) {\n",
              "  pi=String(ip).padStart(6,' ');\n",
              "  document.getElementById(\"info\").innerHTML=\n",
              "  \"<div class='numbers'><b>Turtle</b> - Points:\"+pi+\n",
              "  \" (non interactive)           </div>\";\n",
              "}\n",
              "function getCoordinates(e) {\n",
              "  var rect = c.getBoundingClientRect();\n",
              "  mx=String(Math.round(e.clientX-rect.left)).padStart(4,' ');\n",
              "  my=String(Math.round(e.clientY-rect.top)).padStart(4,' ');\n",
              "  document.getElementById(\"coord\").innerHTML=\n",
              "  \"<div class='numbers'><b>Mouse</b> - x:\"+mx+\" y:\"+my+\"</div>\";\n",
              "}\n",
              "function showTurtle(ip) {\n",
              "  cold = ctx.getImageData(0, 0, c.width, c.height);\n",
              "  ctx.translate(p[ip].x, p[ip].y);\n",
              "  ctx.rotate(p[ip].h*Math.PI/180.);\n",
              "  ctx.drawImage(timg, -timg.width/2, -timg.height / 2, timg.width, timg.height);\n",
              "  ctx.rotate(-p[ip].h*Math.PI/180.);\n",
              "  ctx.translate(-p[ip].x, -p[ip].y);\n",
              "  dirty = true;\n",
              "}\n",
              "function clearCanvas(color){\n",
              "  bgcolor = color;\n",
              "  ctx.fillStyle = color;\n",
              "  ctx.fillRect(0, 0, c.width, c.height);\n",
              "}\n",
              "function initTurtle() {\n",
              "  var turl = \"https://raw.githubusercontent.com/tproffen/ORCSGirlsPython/master/Images/turtle.png\";\n",
              "  timg = new Image();\n",
              "  timg.src = turl; timg.setAttribute('crossorigin', 'anonymous');\n",
              "}\n",
              "//-----------------------------------------------------------------//\n",
              "//----------- Functions called from Python ------------------------//\n",
              "//-----------------------------------------------------------------//\n",
              "function updateDrawingCanvas(json) {\n",
              "  var art = JSON.parse(json);\n",
              "  bgcolor = art.bgcolor;\n",
              "  turtle = art.turtle;\n",
              "  c.width = art.width; c.height = art.height;\n",
              "  document.getElementById(\"art\").style.backgroundColor  = art.canvascolor;\n",
              "  document.getElementById(\"status\").style.backgroundColor  = art.statuscolor;\n",
              "\n",
              "  p=art.lines;\n",
              "  disableControls(true);\n",
              "  setTimeout(function() { play(art.delay); }, 50);\n",
              "}\n",
              "//-----------------------------------------------------------------//\n",
              "function updateDrawingSVG(svg,np) {\n",
              "\n",
              "  blob = new Blob([svg],{type:'image/svg+xml;charset=utf-8'});\n",
              "  url = URL.createObjectURL(blob);\n",
              "  var img = new Image();\n",
              "  img.onload = function(e){\n",
              "    c.width=img.width; c.height=img.height;\n",
              "    ctx.drawImage( img, 0, 0 );\n",
              "  };\n",
              "  img.src = url;\n",
              "  document.getElementById(\"save\").disabled = false;\n",
              "  updateStatusStatic(np);\n",
              "}\n",
              "//-----------------------------------------------------------------//\n",
              "//-----------------------------------------------------------------//\n",
              "var c = document.getElementById(\"turtleCanvas\");\n",
              "var ctx = c.getContext(\"2d\");\n",
              "var cold = ctx.getImageData(0, 0, c.width, c.height);\n",
              "var p = [], timg, turtle = false; path = false; dirty = false;\n",
              "\n",
              "initTurtle(); disableControls(true); c.addEventListener('mousemove',getCoordinates);\n",
              "</script>\n"
            ]
          },
          "metadata": {}
        },
        {
          "output_type": "display_data",
          "data": {
            "text/plain": [
              "<IPython.core.display.Javascript object>"
            ],
            "application/javascript": [
              "updateDrawingCanvas('{\"bgcolor\": \"white\", \"statuscolor\": \"#ededff\", \"turtle\": true, \"canvascolor\": \"#fafafa\", \"width\": 1000, \"height\": 600, \"delay\": 0, \"lines\": [{\"pen\": false, \"x\": 500.0, \"y\": 300.0, \"h\": 0.0, \"color\": \"blue\", \"width\": 2, \"fill\": false, \"fillcolor\": \"yellow\"}, {\"pen\": false, \"x\": 200, \"y\": 200, \"h\": 0.0, \"color\": \"blue\", \"width\": 2, \"fill\": false, \"fillcolor\": \"yellow\"}, {\"pen\": true, \"x\": 200, \"y\": 200, \"h\": 0, \"color\": \"blue\", \"width\": 2, \"fill\": false, \"fillcolor\": \"yellow\"}, {\"pen\": true, \"x\": 200.0, \"y\": 100.0, \"h\": 0, \"color\": \"blue\", \"width\": 2, \"fill\": false, \"fillcolor\": \"yellow\"}, {\"pen\": true, \"x\": 200.0, \"y\": 100.0, \"h\": 90, \"color\": \"blue\", \"width\": 2, \"fill\": false, \"fillcolor\": \"yellow\"}]}')"
            ]
          },
          "metadata": {}
        }
      ]
    },
    {
      "cell_type": "code",
      "source": [
        "# Initialize the turtle\n",
        "initializeTurtle()\n",
        "showturtle()\n",
        "color('blue')\n",
        "bgcolor('white')\n",
        "\n",
        "# Move to a suitable starting position\n",
        "jump(200, 200)  # Adjust these values as needed to center the square\n",
        "face(0)  # Ensure the turtle is facing up\n",
        "\n",
        "# Draw a simple square\n",
        "for _ in range(4):\n",
        "    forward(100)\n",
        "    right(90)\n",
        "\n",
        "# Display the drawing\n",
        "show()\n"
      ],
      "metadata": {
        "colab": {
          "base_uri": "https://localhost:8080/",
          "height": 661
        },
        "id": "evWo0D6q-AOi",
        "outputId": "4d3cb120-2ffd-437f-e90b-d3f033b264b6"
      },
      "execution_count": null,
      "outputs": [
        {
          "output_type": "display_data",
          "data": {
            "text/plain": [
              "<IPython.core.display.HTML object>"
            ],
            "text/html": [
              "\n",
              "<style>\n",
              "table {border-collapse: collapse;}\n",
              "button {width: 80px; margin: 5px 5px 5px 0px; text-align: center; font-size: 1em;}\n",
              "canvas {margin-top: 5px;}\n",
              "#status {background-color: #cdcdff; color: #000000; font-size: 1em;}\n",
              "#art {text-align: center; background-color: #efefff; padding: 0px 5px 0px 5px;}\n",
              ".right {text-align: right;}\n",
              ".left {text-align: left;}\n",
              ".numbers {margin: 0px 10px 0px 10px; font-size: 1em; color: 'purple';\n",
              "white-space: pre; font-family: 'Courier New', monospace;}\n",
              "</style>\n",
              "<table>\n",
              "<tr><td colspan=4 id='art'><canvas id=\"turtleCanvas\"></td></tr>\n",
              "<tr id=\"status\">\n",
              "  <td class=\"left\">\n",
              "    <div id=\"info\">\n",
              "      <div class=\"numbers\"><b>Turtle</b> - Waiting ..                </div>\n",
              "    </div>\n",
              "  </td>\n",
              "  <td class=\"left\">\n",
              "    <div id=\"coord\">\n",
              "      <div class='numbers'><b>Mouse</b> - x:   0 y:   0</div>\n",
              "    </div>\n",
              "  </td>\n",
              "  <td class=\"right\">\n",
              "    <button onClick=\"replay();\" id=\"replay\">Replay</button>\n",
              "    <button onClick=\"saveImg();\" id=\"save\">Save</button>\n",
              "  </td>\n",
              "</tr>\n",
              "</table>\n",
              "<script>\n",
              "function saveImg() {\n",
              "  var a = document.createElement(\"a\");\n",
              "  a.download = \"turtle.png\"; a.href = c.toDataURL(\"image/png\"); a.click();\n",
              "}\n",
              "function replay() {\n",
              "  var t=Math.max(Math.round(2000/p.length), 1);\n",
              "  disableControls(true);\n",
              "  setTimeout(function() { play(t); }, 50);\n",
              "}\n",
              "function disableControls(disable) {\n",
              "  document.getElementById(\"replay\").disabled = disable;\n",
              "  document.getElementById(\"save\").disabled = disable;\n",
              "}\n",
              "function play(delay) {\n",
              "  clearCanvas(bgcolor);\n",
              "  cold = ctx.getImageData(0, 0, c.width, c.height);\n",
              "  if(delay > 0) {\n",
              "    (function myLoop(i) {\n",
              "      setTimeout(function() {\n",
              "        plot(i, delay);\n",
              "        if (++i < p.length) { myLoop(i); } else { disableControls(false); }\n",
              "      }, delay)\n",
              "    })(1);\n",
              "  } else {\n",
              "    for (var ip=1; ip<p.length; ip++) { plot(ip, delay); }\n",
              "    disableControls(false);\n",
              "  }\n",
              "}\n",
              "function plot(ip, delay) {\n",
              "  if(dirty) { ctx.putImageData(cold, 0, 0); }\n",
              "  if(p[ip-1].fill!=p[ip].fill   || p[ip-1].width!=p[ip].width ||\n",
              "     p[ip-1].color!=p[ip].color || p[ip-1].fillcolor!=p[ip].fillcolor ||\n",
              "     ip==1) {\n",
              "    if(p[ip-1].fill) {\n",
              "      ctx.fillStyle = p[ip-1].fillcolor;\n",
              "      ctx.fill();\n",
              "    }\n",
              "    ctx.beginPath();\n",
              "    ctx.moveTo(p[ip-1].x, p[ip-1].y);\n",
              "    ctx.strokeStyle = p[ip].color;\n",
              "    ctx.lineWidth = p[ip].width;\n",
              "  }\n",
              "  if(p[ip].pen) { ctx.lineTo(p[ip].x, p[ip].y); }\n",
              "  else          { ctx.moveTo(p[ip].x, p[ip].y); }\n",
              "  ctx.stroke();\n",
              "  if(turtle && (delay > 0 || ip==p.length-1)) { showTurtle(ip); }\n",
              "  updateStatus(p[ip].x, p[ip].y, p[ip].h, ip);\n",
              "}\n",
              "function updateStatus(x,y,h,ip) {\n",
              "  px=String(Math.round(x)).padStart(4,' ');\n",
              "  py=String(Math.round(y)).padStart(4,' ');\n",
              "  ph=String(Math.round(h)).padStart(4,' ');\n",
              "  pi=String(ip).padStart(6,' ');\n",
              "  document.getElementById(\"info\").innerHTML=\n",
              "  \"<div class='numbers'><b>Turtle</b> - x:\"+px+\" y:\"+py+\n",
              "  \" Heading:\"+ph+\" - Points:\"+pi+\"</div>\";\n",
              "}\n",
              "function updateStatusStatic(ip) {\n",
              "  pi=String(ip).padStart(6,' ');\n",
              "  document.getElementById(\"info\").innerHTML=\n",
              "  \"<div class='numbers'><b>Turtle</b> - Points:\"+pi+\n",
              "  \" (non interactive)           </div>\";\n",
              "}\n",
              "function getCoordinates(e) {\n",
              "  var rect = c.getBoundingClientRect();\n",
              "  mx=String(Math.round(e.clientX-rect.left)).padStart(4,' ');\n",
              "  my=String(Math.round(e.clientY-rect.top)).padStart(4,' ');\n",
              "  document.getElementById(\"coord\").innerHTML=\n",
              "  \"<div class='numbers'><b>Mouse</b> - x:\"+mx+\" y:\"+my+\"</div>\";\n",
              "}\n",
              "function showTurtle(ip) {\n",
              "  cold = ctx.getImageData(0, 0, c.width, c.height);\n",
              "  ctx.translate(p[ip].x, p[ip].y);\n",
              "  ctx.rotate(p[ip].h*Math.PI/180.);\n",
              "  ctx.drawImage(timg, -timg.width/2, -timg.height / 2, timg.width, timg.height);\n",
              "  ctx.rotate(-p[ip].h*Math.PI/180.);\n",
              "  ctx.translate(-p[ip].x, -p[ip].y);\n",
              "  dirty = true;\n",
              "}\n",
              "function clearCanvas(color){\n",
              "  bgcolor = color;\n",
              "  ctx.fillStyle = color;\n",
              "  ctx.fillRect(0, 0, c.width, c.height);\n",
              "}\n",
              "function initTurtle() {\n",
              "  var turl = \"https://raw.githubusercontent.com/tproffen/ORCSGirlsPython/master/Images/turtle.png\";\n",
              "  timg = new Image();\n",
              "  timg.src = turl; timg.setAttribute('crossorigin', 'anonymous');\n",
              "}\n",
              "//-----------------------------------------------------------------//\n",
              "//----------- Functions called from Python ------------------------//\n",
              "//-----------------------------------------------------------------//\n",
              "function updateDrawingCanvas(json) {\n",
              "  var art = JSON.parse(json);\n",
              "  bgcolor = art.bgcolor;\n",
              "  turtle = art.turtle;\n",
              "  c.width = art.width; c.height = art.height;\n",
              "  document.getElementById(\"art\").style.backgroundColor  = art.canvascolor;\n",
              "  document.getElementById(\"status\").style.backgroundColor  = art.statuscolor;\n",
              "\n",
              "  p=art.lines;\n",
              "  disableControls(true);\n",
              "  setTimeout(function() { play(art.delay); }, 50);\n",
              "}\n",
              "//-----------------------------------------------------------------//\n",
              "function updateDrawingSVG(svg,np) {\n",
              "\n",
              "  blob = new Blob([svg],{type:'image/svg+xml;charset=utf-8'});\n",
              "  url = URL.createObjectURL(blob);\n",
              "  var img = new Image();\n",
              "  img.onload = function(e){\n",
              "    c.width=img.width; c.height=img.height;\n",
              "    ctx.drawImage( img, 0, 0 );\n",
              "  };\n",
              "  img.src = url;\n",
              "  document.getElementById(\"save\").disabled = false;\n",
              "  updateStatusStatic(np);\n",
              "}\n",
              "//-----------------------------------------------------------------//\n",
              "//-----------------------------------------------------------------//\n",
              "var c = document.getElementById(\"turtleCanvas\");\n",
              "var ctx = c.getContext(\"2d\");\n",
              "var cold = ctx.getImageData(0, 0, c.width, c.height);\n",
              "var p = [], timg, turtle = false; path = false; dirty = false;\n",
              "\n",
              "initTurtle(); disableControls(true); c.addEventListener('mousemove',getCoordinates);\n",
              "</script>\n"
            ]
          },
          "metadata": {}
        },
        {
          "output_type": "display_data",
          "data": {
            "text/plain": [
              "<IPython.core.display.Javascript object>"
            ],
            "application/javascript": [
              "updateDrawingCanvas('{\"bgcolor\": \"white\", \"statuscolor\": \"#ededff\", \"turtle\": true, \"canvascolor\": \"#fafafa\", \"width\": 1000, \"height\": 600, \"delay\": 0, \"lines\": [{\"pen\": false, \"x\": 500.0, \"y\": 300.0, \"h\": 0.0, \"color\": \"blue\", \"width\": 2, \"fill\": false, \"fillcolor\": \"yellow\"}, {\"pen\": false, \"x\": 200, \"y\": 200, \"h\": 0.0, \"color\": \"blue\", \"width\": 2, \"fill\": false, \"fillcolor\": \"yellow\"}, {\"pen\": true, \"x\": 200, \"y\": 200, \"h\": 0, \"color\": \"blue\", \"width\": 2, \"fill\": false, \"fillcolor\": \"yellow\"}, {\"pen\": true, \"x\": 200.0, \"y\": 100.0, \"h\": 0, \"color\": \"blue\", \"width\": 2, \"fill\": false, \"fillcolor\": \"yellow\"}, {\"pen\": true, \"x\": 200.0, \"y\": 100.0, \"h\": 90, \"color\": \"blue\", \"width\": 2, \"fill\": false, \"fillcolor\": \"yellow\"}, {\"pen\": true, \"x\": 300.0, \"y\": 100.0, \"h\": 90, \"color\": \"blue\", \"width\": 2, \"fill\": false, \"fillcolor\": \"yellow\"}, {\"pen\": true, \"x\": 300.0, \"y\": 100.0, \"h\": 180, \"color\": \"blue\", \"width\": 2, \"fill\": false, \"fillcolor\": \"yellow\"}, {\"pen\": true, \"x\": 300.0, \"y\": 200.0, \"h\": 180, \"color\": \"blue\", \"width\": 2, \"fill\": false, \"fillcolor\": \"yellow\"}, {\"pen\": true, \"x\": 300.0, \"y\": 200.0, \"h\": 270, \"color\": \"blue\", \"width\": 2, \"fill\": false, \"fillcolor\": \"yellow\"}, {\"pen\": true, \"x\": 200.0, \"y\": 200.00000000000003, \"h\": 270, \"color\": \"blue\", \"width\": 2, \"fill\": false, \"fillcolor\": \"yellow\"}, {\"pen\": true, \"x\": 200.0, \"y\": 200.00000000000003, \"h\": 0, \"color\": \"blue\", \"width\": 2, \"fill\": false, \"fillcolor\": \"yellow\"}]}')"
            ]
          },
          "metadata": {}
        }
      ]
    },
    {
      "cell_type": "markdown",
      "source": [
        "## What to Try Next\n",
        "- Experiment with different colors by replacing `'blue'` with other color names.  \n",
        "- Change the background color with `bgcolor('your_color_here')`.  \n",
        "- Adjust the coordinates in `jump(200, 200)` to move the square around the canvas.  \n",
        "- Vary the side length in `forward(100)` to make smaller or larger squares.  \n",
        "- Try rotating the turtle to start at a different angle by changing `face(0)` to another degree."
      ],
      "metadata": {
        "id": "rYnCNVct-J3X"
      }
    },
    {
      "cell_type": "markdown",
      "source": [
        "#  Part 2"
      ],
      "metadata": {
        "id": "2bmtpnqLkY2r"
      }
    },
    {
      "cell_type": "code",
      "source": [
        "# Step 1: Initialize the turtle canvas\n",
        "canvas_width = 1000\n",
        "canvas_height = 800\n",
        "initializeTurtle(initial_window_size=(canvas_width, canvas_height), mode='auto')\n",
        "\n",
        "# Step 2: Set up helper functions for random colors and drawing polygons\n",
        "\n",
        "import random\n",
        "import math\n",
        "\n",
        "# Function to generate a random color in RGB format\n",
        "def random_color():\n",
        "    r = random.random()\n",
        "    g = random.random()\n",
        "    b = random.random()\n",
        "    return color_rgb(r, g, b)\n",
        "\n",
        "# Function to draw a polygon with 'n_sides' and the given 'side_length'\n",
        "def draw_polygon(n_sides, side_length):\n",
        "    angle = 360 / n_sides  # Calculate the internal angle of the polygon\n",
        "    for _ in range(n_sides):\n",
        "        forward(side_length)\n",
        "        right(angle)\n",
        "\n",
        "# Step 3: Draw a horizontal line of polygons, increasing the number of sides from 3 to 50\n",
        "\n",
        "# Starting position for the line of polygons (positive coordinates, on-screen)\n",
        "start_x = 100  # Start at x = 200 (positive)\n",
        "start_y = 300  # Start at y = 300 (positive, going down the canvas)\n",
        "jump(start_x, start_y)  # Move the turtle to the starting point\n",
        "\n",
        "side_length = 20  # Length of each side of the polygon\n",
        "spacing = 20  # Spacing between each polygon\n",
        "\n",
        "for n_sides in range(3, 20):\n",
        "    color(random_color())  # Set a random color for each polygon\n",
        "    draw_polygon(n_sides, side_length)  # Draw the polygon with n sides\n",
        "    penup()  # Stop drawing when moving to the next position\n",
        "    jump(getx() + spacing + side_length, start_y)  # Move to the right for the next polygon\n",
        "    pendown()  # Start drawing again\n",
        "\n",
        "# Step 4: Display the result\n",
        "show()\n"
      ],
      "metadata": {
        "id": "OFYqAYJ95RSM",
        "colab": {
          "base_uri": "https://localhost:8080/",
          "height": 861
        },
        "outputId": "baec648d-a3e2-4a83-d947-895200ca069b"
      },
      "execution_count": null,
      "outputs": [
        {
          "output_type": "display_data",
          "data": {
            "text/plain": [
              "<IPython.core.display.HTML object>"
            ],
            "text/html": [
              "\n",
              "<style>\n",
              "table {border-collapse: collapse;}\n",
              "button {width: 80px; margin: 5px 5px 5px 0px; text-align: center; font-size: 1em;}\n",
              "canvas {margin-top: 5px;}\n",
              "#status {background-color: #cdcdff; color: #000000; font-size: 1em;}\n",
              "#art {text-align: center; background-color: #efefff; padding: 0px 5px 0px 5px;}\n",
              ".right {text-align: right;}\n",
              ".left {text-align: left;}\n",
              ".numbers {margin: 0px 10px 0px 10px; font-size: 1em; color: 'purple';\n",
              "white-space: pre; font-family: 'Courier New', monospace;}\n",
              "</style>\n",
              "<table>\n",
              "<tr><td colspan=4 id='art'><canvas id=\"turtleCanvas\"></td></tr>\n",
              "<tr id=\"status\">\n",
              "  <td class=\"left\">\n",
              "    <div id=\"info\">\n",
              "      <div class=\"numbers\"><b>Turtle</b> - Waiting ..                </div>\n",
              "    </div>\n",
              "  </td>\n",
              "  <td class=\"left\">\n",
              "    <div id=\"coord\">\n",
              "      <div class='numbers'><b>Mouse</b> - x:   0 y:   0</div>\n",
              "    </div>\n",
              "  </td>\n",
              "  <td class=\"right\">\n",
              "    <button onClick=\"replay();\" id=\"replay\">Replay</button>\n",
              "    <button onClick=\"saveImg();\" id=\"save\">Save</button>\n",
              "  </td>\n",
              "</tr>\n",
              "</table>\n",
              "<script>\n",
              "function saveImg() {\n",
              "  var a = document.createElement(\"a\");\n",
              "  a.download = \"turtle.png\"; a.href = c.toDataURL(\"image/png\"); a.click();\n",
              "}\n",
              "function replay() {\n",
              "  var t=Math.max(Math.round(2000/p.length), 1);\n",
              "  disableControls(true);\n",
              "  setTimeout(function() { play(t); }, 50);\n",
              "}\n",
              "function disableControls(disable) {\n",
              "  document.getElementById(\"replay\").disabled = disable;\n",
              "  document.getElementById(\"save\").disabled = disable;\n",
              "}\n",
              "function play(delay) {\n",
              "  clearCanvas(bgcolor);\n",
              "  cold = ctx.getImageData(0, 0, c.width, c.height);\n",
              "  if(delay > 0) {\n",
              "    (function myLoop(i) {\n",
              "      setTimeout(function() {\n",
              "        plot(i, delay);\n",
              "        if (++i < p.length) { myLoop(i); } else { disableControls(false); }\n",
              "      }, delay)\n",
              "    })(1);\n",
              "  } else {\n",
              "    for (var ip=1; ip<p.length; ip++) { plot(ip, delay); }\n",
              "    disableControls(false);\n",
              "  }\n",
              "}\n",
              "function plot(ip, delay) {\n",
              "  if(dirty) { ctx.putImageData(cold, 0, 0); }\n",
              "  if(p[ip-1].fill!=p[ip].fill   || p[ip-1].width!=p[ip].width ||\n",
              "     p[ip-1].color!=p[ip].color || p[ip-1].fillcolor!=p[ip].fillcolor ||\n",
              "     ip==1) {\n",
              "    if(p[ip-1].fill) {\n",
              "      ctx.fillStyle = p[ip-1].fillcolor;\n",
              "      ctx.fill();\n",
              "    }\n",
              "    ctx.beginPath();\n",
              "    ctx.moveTo(p[ip-1].x, p[ip-1].y);\n",
              "    ctx.strokeStyle = p[ip].color;\n",
              "    ctx.lineWidth = p[ip].width;\n",
              "  }\n",
              "  if(p[ip].pen) { ctx.lineTo(p[ip].x, p[ip].y); }\n",
              "  else          { ctx.moveTo(p[ip].x, p[ip].y); }\n",
              "  ctx.stroke();\n",
              "  if(turtle && (delay > 0 || ip==p.length-1)) { showTurtle(ip); }\n",
              "  updateStatus(p[ip].x, p[ip].y, p[ip].h, ip);\n",
              "}\n",
              "function updateStatus(x,y,h,ip) {\n",
              "  px=String(Math.round(x)).padStart(4,' ');\n",
              "  py=String(Math.round(y)).padStart(4,' ');\n",
              "  ph=String(Math.round(h)).padStart(4,' ');\n",
              "  pi=String(ip).padStart(6,' ');\n",
              "  document.getElementById(\"info\").innerHTML=\n",
              "  \"<div class='numbers'><b>Turtle</b> - x:\"+px+\" y:\"+py+\n",
              "  \" Heading:\"+ph+\" - Points:\"+pi+\"</div>\";\n",
              "}\n",
              "function updateStatusStatic(ip) {\n",
              "  pi=String(ip).padStart(6,' ');\n",
              "  document.getElementById(\"info\").innerHTML=\n",
              "  \"<div class='numbers'><b>Turtle</b> - Points:\"+pi+\n",
              "  \" (non interactive)           </div>\";\n",
              "}\n",
              "function getCoordinates(e) {\n",
              "  var rect = c.getBoundingClientRect();\n",
              "  mx=String(Math.round(e.clientX-rect.left)).padStart(4,' ');\n",
              "  my=String(Math.round(e.clientY-rect.top)).padStart(4,' ');\n",
              "  document.getElementById(\"coord\").innerHTML=\n",
              "  \"<div class='numbers'><b>Mouse</b> - x:\"+mx+\" y:\"+my+\"</div>\";\n",
              "}\n",
              "function showTurtle(ip) {\n",
              "  cold = ctx.getImageData(0, 0, c.width, c.height);\n",
              "  ctx.translate(p[ip].x, p[ip].y);\n",
              "  ctx.rotate(p[ip].h*Math.PI/180.);\n",
              "  ctx.drawImage(timg, -timg.width/2, -timg.height / 2, timg.width, timg.height);\n",
              "  ctx.rotate(-p[ip].h*Math.PI/180.);\n",
              "  ctx.translate(-p[ip].x, -p[ip].y);\n",
              "  dirty = true;\n",
              "}\n",
              "function clearCanvas(color){\n",
              "  bgcolor = color;\n",
              "  ctx.fillStyle = color;\n",
              "  ctx.fillRect(0, 0, c.width, c.height);\n",
              "}\n",
              "function initTurtle() {\n",
              "  var turl = \"https://raw.githubusercontent.com/tproffen/ORCSGirlsPython/master/Images/turtle.png\";\n",
              "  timg = new Image();\n",
              "  timg.src = turl; timg.setAttribute('crossorigin', 'anonymous');\n",
              "}\n",
              "//-----------------------------------------------------------------//\n",
              "//----------- Functions called from Python ------------------------//\n",
              "//-----------------------------------------------------------------//\n",
              "function updateDrawingCanvas(json) {\n",
              "  var art = JSON.parse(json);\n",
              "  bgcolor = art.bgcolor;\n",
              "  turtle = art.turtle;\n",
              "  c.width = art.width; c.height = art.height;\n",
              "  document.getElementById(\"art\").style.backgroundColor  = art.canvascolor;\n",
              "  document.getElementById(\"status\").style.backgroundColor  = art.statuscolor;\n",
              "\n",
              "  p=art.lines;\n",
              "  disableControls(true);\n",
              "  setTimeout(function() { play(art.delay); }, 50);\n",
              "}\n",
              "//-----------------------------------------------------------------//\n",
              "function updateDrawingSVG(svg,np) {\n",
              "\n",
              "  blob = new Blob([svg],{type:'image/svg+xml;charset=utf-8'});\n",
              "  url = URL.createObjectURL(blob);\n",
              "  var img = new Image();\n",
              "  img.onload = function(e){\n",
              "    c.width=img.width; c.height=img.height;\n",
              "    ctx.drawImage( img, 0, 0 );\n",
              "  };\n",
              "  img.src = url;\n",
              "  document.getElementById(\"save\").disabled = false;\n",
              "  updateStatusStatic(np);\n",
              "}\n",
              "//-----------------------------------------------------------------//\n",
              "//-----------------------------------------------------------------//\n",
              "var c = document.getElementById(\"turtleCanvas\");\n",
              "var ctx = c.getContext(\"2d\");\n",
              "var cold = ctx.getImageData(0, 0, c.width, c.height);\n",
              "var p = [], timg, turtle = false; path = false; dirty = false;\n",
              "\n",
              "initTurtle(); disableControls(true); c.addEventListener('mousemove',getCoordinates);\n",
              "</script>\n"
            ]
          },
          "metadata": {}
        },
        {
          "output_type": "display_data",
          "data": {
            "text/plain": [
              "<IPython.core.display.Javascript object>"
            ],
            "application/javascript": [
              "updateDrawingCanvas('{\"bgcolor\": \"white\", \"statuscolor\": \"#ededff\", \"turtle\": false, \"canvascolor\": \"#fafafa\", \"width\": 1000, \"height\": 800, \"delay\": 0, \"lines\": [{\"pen\": false, \"x\": 500.0, \"y\": 400.0, \"h\": 0.0, \"color\": \"blue\", \"width\": 2, \"fill\": false, \"fillcolor\": \"yellow\"}, {\"pen\": false, \"x\": 100, \"y\": 300, \"h\": 0.0, \"color\": \"blue\", \"width\": 2, \"fill\": false, \"fillcolor\": \"yellow\"}, {\"pen\": true, \"x\": 100.0, \"y\": 280.0, \"h\": 0.0, \"color\": \"#466e05\", \"width\": 2, \"fill\": false, \"fillcolor\": \"yellow\"}, {\"pen\": true, \"x\": 100.0, \"y\": 280.0, \"h\": 120.0, \"color\": \"#466e05\", \"width\": 2, \"fill\": false, \"fillcolor\": \"yellow\"}, {\"pen\": true, \"x\": 117.32050807568878, \"y\": 290.0, \"h\": 120.0, \"color\": \"#466e05\", \"width\": 2, \"fill\": false, \"fillcolor\": \"yellow\"}, {\"pen\": true, \"x\": 117.32050807568878, \"y\": 290.0, \"h\": 240.0, \"color\": \"#466e05\", \"width\": 2, \"fill\": false, \"fillcolor\": \"yellow\"}, {\"pen\": true, \"x\": 100.00000000000001, \"y\": 300.0, \"h\": 240.0, \"color\": \"#466e05\", \"width\": 2, \"fill\": false, \"fillcolor\": \"yellow\"}, {\"pen\": true, \"x\": 100.00000000000001, \"y\": 300.0, \"h\": 0.0, \"color\": \"#466e05\", \"width\": 2, \"fill\": false, \"fillcolor\": \"yellow\"}, {\"pen\": false, \"x\": 140.0, \"y\": 300, \"h\": 0.0, \"color\": \"#466e05\", \"width\": 2, \"fill\": false, \"fillcolor\": \"yellow\"}, {\"pen\": true, \"x\": 140.0, \"y\": 280.0, \"h\": 0.0, \"color\": \"#09d3d2\", \"width\": 2, \"fill\": false, \"fillcolor\": \"yellow\"}, {\"pen\": true, \"x\": 140.0, \"y\": 280.0, \"h\": 90.0, \"color\": \"#09d3d2\", \"width\": 2, \"fill\": false, \"fillcolor\": \"yellow\"}, {\"pen\": true, \"x\": 160.0, \"y\": 280.0, \"h\": 90.0, \"color\": \"#09d3d2\", \"width\": 2, \"fill\": false, \"fillcolor\": \"yellow\"}, {\"pen\": true, \"x\": 160.0, \"y\": 280.0, \"h\": 180.0, \"color\": \"#09d3d2\", \"width\": 2, \"fill\": false, \"fillcolor\": \"yellow\"}, {\"pen\": true, \"x\": 160.0, \"y\": 300.0, \"h\": 180.0, \"color\": \"#09d3d2\", \"width\": 2, \"fill\": false, \"fillcolor\": \"yellow\"}, {\"pen\": true, \"x\": 160.0, \"y\": 300.0, \"h\": 270.0, \"color\": \"#09d3d2\", \"width\": 2, \"fill\": false, \"fillcolor\": \"yellow\"}, {\"pen\": true, \"x\": 140.0, \"y\": 300.0, \"h\": 270.0, \"color\": \"#09d3d2\", \"width\": 2, \"fill\": false, \"fillcolor\": \"yellow\"}, {\"pen\": true, \"x\": 140.0, \"y\": 300.0, \"h\": 0.0, \"color\": \"#09d3d2\", \"width\": 2, \"fill\": false, \"fillcolor\": \"yellow\"}, {\"pen\": false, \"x\": 180.0, \"y\": 300, \"h\": 0.0, \"color\": \"#09d3d2\", \"width\": 2, \"fill\": false, \"fillcolor\": \"yellow\"}, {\"pen\": true, \"x\": 180.0, \"y\": 280.0, \"h\": 0.0, \"color\": \"#9d4472\", \"width\": 2, \"fill\": false, \"fillcolor\": \"yellow\"}, {\"pen\": true, \"x\": 180.0, \"y\": 280.0, \"h\": 72.0, \"color\": \"#9d4472\", \"width\": 2, \"fill\": false, \"fillcolor\": \"yellow\"}, {\"pen\": true, \"x\": 199.02113032590307, \"y\": 273.819660112501, \"h\": 72.0, \"color\": \"#9d4472\", \"width\": 2, \"fill\": false, \"fillcolor\": \"yellow\"}, {\"pen\": true, \"x\": 199.02113032590307, \"y\": 273.819660112501, \"h\": 144.0, \"color\": \"#9d4472\", \"width\": 2, \"fill\": false, \"fillcolor\": \"yellow\"}, {\"pen\": true, \"x\": 210.77683537175253, \"y\": 290.0, \"h\": 144.0, \"color\": \"#9d4472\", \"width\": 2, \"fill\": false, \"fillcolor\": \"yellow\"}, {\"pen\": true, \"x\": 210.77683537175253, \"y\": 290.0, \"h\": 216.0, \"color\": \"#9d4472\", \"width\": 2, \"fill\": false, \"fillcolor\": \"yellow\"}, {\"pen\": true, \"x\": 199.02113032590307, \"y\": 306.180339887499, \"h\": 216.0, \"color\": \"#9d4472\", \"width\": 2, \"fill\": false, \"fillcolor\": \"yellow\"}, {\"pen\": true, \"x\": 199.02113032590307, \"y\": 306.180339887499, \"h\": 288.0, \"color\": \"#9d4472\", \"width\": 2, \"fill\": false, \"fillcolor\": \"yellow\"}, {\"pen\": true, \"x\": 180.0, \"y\": 300.00000000000006, \"h\": 288.0, \"color\": \"#9d4472\", \"width\": 2, \"fill\": false, \"fillcolor\": \"yellow\"}, {\"pen\": true, \"x\": 180.0, \"y\": 300.00000000000006, \"h\": 0.0, \"color\": \"#9d4472\", \"width\": 2, \"fill\": false, \"fillcolor\": \"yellow\"}, {\"pen\": false, \"x\": 220.0, \"y\": 300, \"h\": 0.0, \"color\": \"#9d4472\", \"width\": 2, \"fill\": false, \"fillcolor\": \"yellow\"}, {\"pen\": true, \"x\": 220.0, \"y\": 280.0, \"h\": 0.0, \"color\": \"#e0bcc8\", \"width\": 2, \"fill\": false, \"fillcolor\": \"yellow\"}, {\"pen\": true, \"x\": 220.0, \"y\": 280.0, \"h\": 60.0, \"color\": \"#e0bcc8\", \"width\": 2, \"fill\": false, \"fillcolor\": \"yellow\"}, {\"pen\": true, \"x\": 237.32050807568876, \"y\": 270.0, \"h\": 60.0, \"color\": \"#e0bcc8\", \"width\": 2, \"fill\": false, \"fillcolor\": \"yellow\"}, {\"pen\": true, \"x\": 237.32050807568876, \"y\": 270.0, \"h\": 120.0, \"color\": \"#e0bcc8\", \"width\": 2, \"fill\": false, \"fillcolor\": \"yellow\"}, {\"pen\": true, \"x\": 254.64101615137753, \"y\": 280.0, \"h\": 120.0, \"color\": \"#e0bcc8\", \"width\": 2, \"fill\": false, \"fillcolor\": \"yellow\"}, {\"pen\": true, \"x\": 254.64101615137753, \"y\": 280.0, \"h\": 180.0, \"color\": \"#e0bcc8\", \"width\": 2, \"fill\": false, \"fillcolor\": \"yellow\"}, {\"pen\": true, \"x\": 254.64101615137753, \"y\": 300.0, \"h\": 180.0, \"color\": \"#e0bcc8\", \"width\": 2, \"fill\": false, \"fillcolor\": \"yellow\"}, {\"pen\": true, \"x\": 254.64101615137753, \"y\": 300.0, \"h\": 240.0, \"color\": \"#e0bcc8\", \"width\": 2, \"fill\": false, \"fillcolor\": \"yellow\"}, {\"pen\": true, \"x\": 237.32050807568876, \"y\": 310.0, \"h\": 240.0, \"color\": \"#e0bcc8\", \"width\": 2, \"fill\": false, \"fillcolor\": \"yellow\"}, {\"pen\": true, \"x\": 237.32050807568876, \"y\": 310.0, \"h\": 300.0, \"color\": \"#e0bcc8\", \"width\": 2, \"fill\": false, \"fillcolor\": \"yellow\"}, {\"pen\": true, \"x\": 220.0, \"y\": 300.0, \"h\": 300.0, \"color\": \"#e0bcc8\", \"width\": 2, \"fill\": false, \"fillcolor\": \"yellow\"}, {\"pen\": true, \"x\": 220.0, \"y\": 300.0, \"h\": 0.0, \"color\": \"#e0bcc8\", \"width\": 2, \"fill\": false, \"fillcolor\": \"yellow\"}, {\"pen\": false, \"x\": 260.0, \"y\": 300, \"h\": 0.0, \"color\": \"#e0bcc8\", \"width\": 2, \"fill\": false, \"fillcolor\": \"yellow\"}, {\"pen\": true, \"x\": 260.0, \"y\": 280.0, \"h\": 0.0, \"color\": \"#4dd875\", \"width\": 2, \"fill\": false, \"fillcolor\": \"yellow\"}, {\"pen\": true, \"x\": 260.0, \"y\": 280.0, \"h\": 51.42857142857143, \"color\": \"#4dd875\", \"width\": 2, \"fill\": false, \"fillcolor\": \"yellow\"}, {\"pen\": true, \"x\": 275.6366296493606, \"y\": 267.53020396282534, \"h\": 51.42857142857143, \"color\": \"#4dd875\", \"width\": 2, \"fill\": false, \"fillcolor\": \"yellow\"}, {\"pen\": true, \"x\": 275.6366296493606, \"y\": 267.53020396282534, \"h\": 102.85714285714286, \"color\": \"#4dd875\", \"width\": 2, \"fill\": false, \"fillcolor\": \"yellow\"}, {\"pen\": true, \"x\": 295.13518789299707, \"y\": 271.98062264195164, \"h\": 102.85714285714286, \"color\": \"#4dd875\", \"width\": 2, \"fill\": false, \"fillcolor\": \"yellow\"}, {\"pen\": true, \"x\": 295.13518789299707, \"y\": 271.98062264195164, \"h\": 154.28571428571428, \"color\": \"#4dd875\", \"width\": 2, \"fill\": false, \"fillcolor\": \"yellow\"}, {\"pen\": true, \"x\": 303.81286267534824, \"y\": 290.0, \"h\": 154.28571428571428, \"color\": \"#4dd875\", \"width\": 2, \"fill\": false, \"fillcolor\": \"yellow\"}, {\"pen\": true, \"x\": 303.81286267534824, \"y\": 290.0, \"h\": 205.71428571428572, \"color\": \"#4dd875\", \"width\": 2, \"fill\": false, \"fillcolor\": \"yellow\"}, {\"pen\": true, \"x\": 295.13518789299707, \"y\": 308.01937735804836, \"h\": 205.71428571428572, \"color\": \"#4dd875\", \"width\": 2, \"fill\": false, \"fillcolor\": \"yellow\"}, {\"pen\": true, \"x\": 295.13518789299707, \"y\": 308.01937735804836, \"h\": 257.14285714285717, \"color\": \"#4dd875\", \"width\": 2, \"fill\": false, \"fillcolor\": \"yellow\"}, {\"pen\": true, \"x\": 275.6366296493606, \"y\": 312.46979603717466, \"h\": 257.14285714285717, \"color\": \"#4dd875\", \"width\": 2, \"fill\": false, \"fillcolor\": \"yellow\"}, {\"pen\": true, \"x\": 275.6366296493606, \"y\": 312.46979603717466, \"h\": 308.5714285714286, \"color\": \"#4dd875\", \"width\": 2, \"fill\": false, \"fillcolor\": \"yellow\"}, {\"pen\": true, \"x\": 260.0, \"y\": 300.0, \"h\": 308.5714285714286, \"color\": \"#4dd875\", \"width\": 2, \"fill\": false, \"fillcolor\": \"yellow\"}, {\"pen\": true, \"x\": 260.0, \"y\": 300.0, \"h\": 5.684341886080802e-14, \"color\": \"#4dd875\", \"width\": 2, \"fill\": false, \"fillcolor\": \"yellow\"}, {\"pen\": false, \"x\": 300.0, \"y\": 300, \"h\": 5.684341886080802e-14, \"color\": \"#4dd875\", \"width\": 2, \"fill\": false, \"fillcolor\": \"yellow\"}, {\"pen\": true, \"x\": 300.0, \"y\": 280.0, \"h\": 5.684341886080802e-14, \"color\": \"#1b8cb3\", \"width\": 2, \"fill\": false, \"fillcolor\": \"yellow\"}, {\"pen\": true, \"x\": 300.0, \"y\": 280.0, \"h\": 45.00000000000006, \"color\": \"#1b8cb3\", \"width\": 2, \"fill\": false, \"fillcolor\": \"yellow\"}, {\"pen\": true, \"x\": 314.14213562373095, \"y\": 265.85786437626905, \"h\": 45.00000000000006, \"color\": \"#1b8cb3\", \"width\": 2, \"fill\": false, \"fillcolor\": \"yellow\"}, {\"pen\": true, \"x\": 314.14213562373095, \"y\": 265.85786437626905, \"h\": 90.00000000000006, \"color\": \"#1b8cb3\", \"width\": 2, \"fill\": false, \"fillcolor\": \"yellow\"}, {\"pen\": true, \"x\": 334.14213562373095, \"y\": 265.85786437626905, \"h\": 90.00000000000006, \"color\": \"#1b8cb3\", \"width\": 2, \"fill\": false, \"fillcolor\": \"yellow\"}, {\"pen\": true, \"x\": 334.14213562373095, \"y\": 265.85786437626905, \"h\": 135.00000000000006, \"color\": \"#1b8cb3\", \"width\": 2, \"fill\": false, \"fillcolor\": \"yellow\"}, {\"pen\": true, \"x\": 348.2842712474619, \"y\": 280.0, \"h\": 135.00000000000006, \"color\": \"#1b8cb3\", \"width\": 2, \"fill\": false, \"fillcolor\": \"yellow\"}, {\"pen\": true, \"x\": 348.2842712474619, \"y\": 280.0, \"h\": 180.00000000000006, \"color\": \"#1b8cb3\", \"width\": 2, \"fill\": false, \"fillcolor\": \"yellow\"}, {\"pen\": true, \"x\": 348.2842712474619, \"y\": 300.0, \"h\": 180.00000000000006, \"color\": \"#1b8cb3\", \"width\": 2, \"fill\": false, \"fillcolor\": \"yellow\"}, {\"pen\": true, \"x\": 348.2842712474619, \"y\": 300.0, \"h\": 225.00000000000006, \"color\": \"#1b8cb3\", \"width\": 2, \"fill\": false, \"fillcolor\": \"yellow\"}, {\"pen\": true, \"x\": 334.14213562373095, \"y\": 314.14213562373095, \"h\": 225.00000000000006, \"color\": \"#1b8cb3\", \"width\": 2, \"fill\": false, \"fillcolor\": \"yellow\"}, {\"pen\": true, \"x\": 334.14213562373095, \"y\": 314.14213562373095, \"h\": 270.00000000000006, \"color\": \"#1b8cb3\", \"width\": 2, \"fill\": false, \"fillcolor\": \"yellow\"}, {\"pen\": true, \"x\": 314.14213562373095, \"y\": 314.14213562373095, \"h\": 270.00000000000006, \"color\": \"#1b8cb3\", \"width\": 2, \"fill\": false, \"fillcolor\": \"yellow\"}, {\"pen\": true, \"x\": 314.14213562373095, \"y\": 314.14213562373095, \"h\": 315.00000000000006, \"color\": \"#1b8cb3\", \"width\": 2, \"fill\": false, \"fillcolor\": \"yellow\"}, {\"pen\": true, \"x\": 300.0, \"y\": 300.0, \"h\": 315.00000000000006, \"color\": \"#1b8cb3\", \"width\": 2, \"fill\": false, \"fillcolor\": \"yellow\"}, {\"pen\": true, \"x\": 300.0, \"y\": 300.0, \"h\": 5.684341886080802e-14, \"color\": \"#1b8cb3\", \"width\": 2, \"fill\": false, \"fillcolor\": \"yellow\"}, {\"pen\": false, \"x\": 340.0, \"y\": 300, \"h\": 5.684341886080802e-14, \"color\": \"#1b8cb3\", \"width\": 2, \"fill\": false, \"fillcolor\": \"yellow\"}, {\"pen\": true, \"x\": 340.0, \"y\": 280.0, \"h\": 5.684341886080802e-14, \"color\": \"#1c7d58\", \"width\": 2, \"fill\": false, \"fillcolor\": \"yellow\"}, {\"pen\": true, \"x\": 340.0, \"y\": 280.0, \"h\": 40.00000000000006, \"color\": \"#1c7d58\", \"width\": 2, \"fill\": false, \"fillcolor\": \"yellow\"}, {\"pen\": true, \"x\": 352.8557521937308, \"y\": 264.67911113762045, \"h\": 40.00000000000006, \"color\": \"#1c7d58\", \"width\": 2, \"fill\": false, \"fillcolor\": \"yellow\"}, {\"pen\": true, \"x\": 352.8557521937308, \"y\": 264.67911113762045, \"h\": 80.00000000000006, \"color\": \"#1c7d58\", \"width\": 2, \"fill\": false, \"fillcolor\": \"yellow\"}, {\"pen\": true, \"x\": 372.55190725397495, \"y\": 261.2061475842819, \"h\": 80.00000000000006, \"color\": \"#1c7d58\", \"width\": 2, \"fill\": false, \"fillcolor\": \"yellow\"}, {\"pen\": true, \"x\": 372.55190725397495, \"y\": 261.2061475842819, \"h\": 120.00000000000006, \"color\": \"#1c7d58\", \"width\": 2, \"fill\": false, \"fillcolor\": \"yellow\"}, {\"pen\": true, \"x\": 389.8724153296637, \"y\": 271.2061475842819, \"h\": 120.00000000000006, \"color\": \"#1c7d58\", \"width\": 2, \"fill\": false, \"fillcolor\": \"yellow\"}, {\"pen\": true, \"x\": 389.8724153296637, \"y\": 271.2061475842819, \"h\": 160.00000000000006, \"color\": \"#1c7d58\", \"width\": 2, \"fill\": false, \"fillcolor\": \"yellow\"}, {\"pen\": true, \"x\": 396.71281819617707, \"y\": 290.00000000000006, \"h\": 160.00000000000006, \"color\": \"#1c7d58\", \"width\": 2, \"fill\": false, \"fillcolor\": \"yellow\"}, {\"pen\": true, \"x\": 396.71281819617707, \"y\": 290.00000000000006, \"h\": 200.00000000000006, \"color\": \"#1c7d58\", \"width\": 2, \"fill\": false, \"fillcolor\": \"yellow\"}, {\"pen\": true, \"x\": 389.8724153296637, \"y\": 308.7938524157182, \"h\": 200.00000000000006, \"color\": \"#1c7d58\", \"width\": 2, \"fill\": false, \"fillcolor\": \"yellow\"}, {\"pen\": true, \"x\": 389.8724153296637, \"y\": 308.7938524157182, \"h\": 240.00000000000006, \"color\": \"#1c7d58\", \"width\": 2, \"fill\": false, \"fillcolor\": \"yellow\"}, {\"pen\": true, \"x\": 372.5519072539749, \"y\": 318.7938524157182, \"h\": 240.00000000000006, \"color\": \"#1c7d58\", \"width\": 2, \"fill\": false, \"fillcolor\": \"yellow\"}, {\"pen\": true, \"x\": 372.5519072539749, \"y\": 318.7938524157182, \"h\": 280.00000000000006, \"color\": \"#1c7d58\", \"width\": 2, \"fill\": false, \"fillcolor\": \"yellow\"}, {\"pen\": true, \"x\": 352.8557521937307, \"y\": 315.3208888623796, \"h\": 280.00000000000006, \"color\": \"#1c7d58\", \"width\": 2, \"fill\": false, \"fillcolor\": \"yellow\"}, {\"pen\": true, \"x\": 352.8557521937307, \"y\": 315.3208888623796, \"h\": 320.00000000000006, \"color\": \"#1c7d58\", \"width\": 2, \"fill\": false, \"fillcolor\": \"yellow\"}, {\"pen\": true, \"x\": 339.99999999999994, \"y\": 300.00000000000006, \"h\": 320.00000000000006, \"color\": \"#1c7d58\", \"width\": 2, \"fill\": false, \"fillcolor\": \"yellow\"}, {\"pen\": true, \"x\": 339.99999999999994, \"y\": 300.00000000000006, \"h\": 5.684341886080802e-14, \"color\": \"#1c7d58\", \"width\": 2, \"fill\": false, \"fillcolor\": \"yellow\"}, {\"pen\": false, \"x\": 379.99999999999994, \"y\": 300, \"h\": 5.684341886080802e-14, \"color\": \"#1c7d58\", \"width\": 2, \"fill\": false, \"fillcolor\": \"yellow\"}, {\"pen\": true, \"x\": 379.99999999999994, \"y\": 280.0, \"h\": 5.684341886080802e-14, \"color\": \"#d83307\", \"width\": 2, \"fill\": false, \"fillcolor\": \"yellow\"}, {\"pen\": true, \"x\": 379.99999999999994, \"y\": 280.0, \"h\": 36.00000000000006, \"color\": \"#d83307\", \"width\": 2, \"fill\": false, \"fillcolor\": \"yellow\"}, {\"pen\": true, \"x\": 391.7557050458494, \"y\": 263.8196601125011, \"h\": 36.00000000000006, \"color\": \"#d83307\", \"width\": 2, \"fill\": false, \"fillcolor\": \"yellow\"}, {\"pen\": true, \"x\": 391.7557050458494, \"y\": 263.8196601125011, \"h\": 72.00000000000006, \"color\": \"#d83307\", \"width\": 2, \"fill\": false, \"fillcolor\": \"yellow\"}, {\"pen\": true, \"x\": 410.7768353717525, \"y\": 257.63932022500217, \"h\": 72.00000000000006, \"color\": \"#d83307\", \"width\": 2, \"fill\": false, \"fillcolor\": \"yellow\"}, {\"pen\": true, \"x\": 410.7768353717525, \"y\": 257.63932022500217, \"h\": 108.00000000000006, \"color\": \"#d83307\", \"width\": 2, \"fill\": false, \"fillcolor\": \"yellow\"}, {\"pen\": true, \"x\": 429.79796569765557, \"y\": 263.81966011250114, \"h\": 108.00000000000006, \"color\": \"#d83307\", \"width\": 2, \"fill\": false, \"fillcolor\": \"yellow\"}, {\"pen\": true, \"x\": 429.79796569765557, \"y\": 263.81966011250114, \"h\": 144.00000000000006, \"color\": \"#d83307\", \"width\": 2, \"fill\": false, \"fillcolor\": \"yellow\"}, {\"pen\": true, \"x\": 441.553670743505, \"y\": 280.0000000000001, \"h\": 144.00000000000006, \"color\": \"#d83307\", \"width\": 2, \"fill\": false, \"fillcolor\": \"yellow\"}, {\"pen\": true, \"x\": 441.553670743505, \"y\": 280.0000000000001, \"h\": 180.00000000000006, \"color\": \"#d83307\", \"width\": 2, \"fill\": false, \"fillcolor\": \"yellow\"}, {\"pen\": true, \"x\": 441.553670743505, \"y\": 300.0000000000001, \"h\": 180.00000000000006, \"color\": \"#d83307\", \"width\": 2, \"fill\": false, \"fillcolor\": \"yellow\"}, {\"pen\": true, \"x\": 441.553670743505, \"y\": 300.0000000000001, \"h\": 216.00000000000006, \"color\": \"#d83307\", \"width\": 2, \"fill\": false, \"fillcolor\": \"yellow\"}, {\"pen\": true, \"x\": 429.7979656976555, \"y\": 316.18033988749903, \"h\": 216.00000000000006, \"color\": \"#d83307\", \"width\": 2, \"fill\": false, \"fillcolor\": \"yellow\"}, {\"pen\": true, \"x\": 429.7979656976555, \"y\": 316.18033988749903, \"h\": 252.00000000000006, \"color\": \"#d83307\", \"width\": 2, \"fill\": false, \"fillcolor\": \"yellow\"}, {\"pen\": true, \"x\": 410.77683537175244, \"y\": 322.36067977499795, \"h\": 252.00000000000006, \"color\": \"#d83307\", \"width\": 2, \"fill\": false, \"fillcolor\": \"yellow\"}, {\"pen\": true, \"x\": 410.77683537175244, \"y\": 322.36067977499795, \"h\": 288.00000000000006, \"color\": \"#d83307\", \"width\": 2, \"fill\": false, \"fillcolor\": \"yellow\"}, {\"pen\": true, \"x\": 391.75570504584937, \"y\": 316.180339887499, \"h\": 288.00000000000006, \"color\": \"#d83307\", \"width\": 2, \"fill\": false, \"fillcolor\": \"yellow\"}, {\"pen\": true, \"x\": 391.75570504584937, \"y\": 316.180339887499, \"h\": 324.00000000000006, \"color\": \"#d83307\", \"width\": 2, \"fill\": false, \"fillcolor\": \"yellow\"}, {\"pen\": true, \"x\": 379.99999999999994, \"y\": 300.0, \"h\": 324.00000000000006, \"color\": \"#d83307\", \"width\": 2, \"fill\": false, \"fillcolor\": \"yellow\"}, {\"pen\": true, \"x\": 379.99999999999994, \"y\": 300.0, \"h\": 5.684341886080802e-14, \"color\": \"#d83307\", \"width\": 2, \"fill\": false, \"fillcolor\": \"yellow\"}, {\"pen\": false, \"x\": 419.99999999999994, \"y\": 300, \"h\": 5.684341886080802e-14, \"color\": \"#d83307\", \"width\": 2, \"fill\": false, \"fillcolor\": \"yellow\"}, {\"pen\": true, \"x\": 419.99999999999994, \"y\": 280.0, \"h\": 5.684341886080802e-14, \"color\": \"#4f1eb0\", \"width\": 2, \"fill\": false, \"fillcolor\": \"yellow\"}, {\"pen\": true, \"x\": 419.99999999999994, \"y\": 280.0, \"h\": 32.72727272727278, \"color\": \"#4f1eb0\", \"width\": 2, \"fill\": false, \"fillcolor\": \"yellow\"}, {\"pen\": true, \"x\": 430.8128163491119, \"y\": 263.1749293433764, \"h\": 32.72727272727278, \"color\": \"#4f1eb0\", \"width\": 2, \"fill\": false, \"fillcolor\": \"yellow\"}, {\"pen\": true, \"x\": 430.8128163491119, \"y\": 263.1749293433764, \"h\": 65.45454545454551, \"color\": \"#4f1eb0\", \"width\": 2, \"fill\": false, \"fillcolor\": \"yellow\"}, {\"pen\": true, \"x\": 449.0054562562023, \"y\": 254.86662908333867, \"h\": 65.45454545454551, \"color\": \"#4f1eb0\", \"width\": 2, \"fill\": false, \"fillcolor\": \"yellow\"}, {\"pen\": true, \"x\": 449.0054562562023, \"y\": 254.86662908333867, \"h\": 98.18181818181824, \"color\": \"#4f1eb0\", \"width\": 2, \"fill\": false, \"fillcolor\": \"yellow\"}, {\"pen\": true, \"x\": 468.80188509382094, \"y\": 257.7129258488044, \"h\": 98.18181818181824, \"color\": \"#4f1eb0\", \"width\": 2, \"fill\": false, \"fillcolor\": \"yellow\"}, {\"pen\": true, \"x\": 468.80188509382094, \"y\": 257.7129258488044, \"h\": 130.90909090909096, \"color\": \"#4f1eb0\", \"width\": 2, \"fill\": false, \"fillcolor\": \"yellow\"}, {\"pen\": true, \"x\": 483.9168765809061, \"y\": 270.8101405277101, \"h\": 130.90909090909096, \"color\": \"#4f1eb0\", \"width\": 2, \"fill\": false, \"fillcolor\": \"yellow\"}, {\"pen\": true, \"x\": 483.9168765809061, \"y\": 270.8101405277101, \"h\": 163.63636363636368, \"color\": \"#4f1eb0\", \"width\": 2, \"fill\": false, \"fillcolor\": \"yellow\"}, {\"pen\": true, \"x\": 489.55152771773464, \"y\": 290.0, \"h\": 163.63636363636368, \"color\": \"#4f1eb0\", \"width\": 2, \"fill\": false, \"fillcolor\": \"yellow\"}, {\"pen\": true, \"x\": 489.55152771773464, \"y\": 290.0, \"h\": 196.3636363636364, \"color\": \"#4f1eb0\", \"width\": 2, \"fill\": false, \"fillcolor\": \"yellow\"}, {\"pen\": true, \"x\": 483.91687658090603, \"y\": 309.1898594722899, \"h\": 196.3636363636364, \"color\": \"#4f1eb0\", \"width\": 2, \"fill\": false, \"fillcolor\": \"yellow\"}, {\"pen\": true, \"x\": 483.91687658090603, \"y\": 309.1898594722899, \"h\": 229.09090909090912, \"color\": \"#4f1eb0\", \"width\": 2, \"fill\": false, \"fillcolor\": \"yellow\"}, {\"pen\": true, \"x\": 468.8018850938209, \"y\": 322.2870741511956, \"h\": 229.09090909090912, \"color\": \"#4f1eb0\", \"width\": 2, \"fill\": false, \"fillcolor\": \"yellow\"}, {\"pen\": true, \"x\": 468.8018850938209, \"y\": 322.2870741511956, \"h\": 261.81818181818187, \"color\": \"#4f1eb0\", \"width\": 2, \"fill\": false, \"fillcolor\": \"yellow\"}, {\"pen\": true, \"x\": 449.00545625620225, \"y\": 325.1333709166613, \"h\": 261.81818181818187, \"color\": \"#4f1eb0\", \"width\": 2, \"fill\": false, \"fillcolor\": \"yellow\"}, {\"pen\": true, \"x\": 449.00545625620225, \"y\": 325.1333709166613, \"h\": 294.5454545454546, \"color\": \"#4f1eb0\", \"width\": 2, \"fill\": false, \"fillcolor\": \"yellow\"}, {\"pen\": true, \"x\": 430.81281634911187, \"y\": 316.82507065662355, \"h\": 294.5454545454546, \"color\": \"#4f1eb0\", \"width\": 2, \"fill\": false, \"fillcolor\": \"yellow\"}, {\"pen\": true, \"x\": 430.81281634911187, \"y\": 316.82507065662355, \"h\": 327.27272727272737, \"color\": \"#4f1eb0\", \"width\": 2, \"fill\": false, \"fillcolor\": \"yellow\"}, {\"pen\": true, \"x\": 419.99999999999994, \"y\": 299.9999999999999, \"h\": 327.27272727272737, \"color\": \"#4f1eb0\", \"width\": 2, \"fill\": false, \"fillcolor\": \"yellow\"}, {\"pen\": true, \"x\": 419.99999999999994, \"y\": 299.9999999999999, \"h\": 1.1368683772161603e-13, \"color\": \"#4f1eb0\", \"width\": 2, \"fill\": false, \"fillcolor\": \"yellow\"}, {\"pen\": false, \"x\": 459.99999999999994, \"y\": 300, \"h\": 1.1368683772161603e-13, \"color\": \"#4f1eb0\", \"width\": 2, \"fill\": false, \"fillcolor\": \"yellow\"}, {\"pen\": true, \"x\": 460.0, \"y\": 280.0, \"h\": 1.1368683772161603e-13, \"color\": \"#ac0e26\", \"width\": 2, \"fill\": false, \"fillcolor\": \"yellow\"}, {\"pen\": true, \"x\": 460.0, \"y\": 280.0, \"h\": 30.000000000000114, \"color\": \"#ac0e26\", \"width\": 2, \"fill\": false, \"fillcolor\": \"yellow\"}, {\"pen\": true, \"x\": 470.00000000000006, \"y\": 262.67949192431126, \"h\": 30.000000000000114, \"color\": \"#ac0e26\", \"width\": 2, \"fill\": false, \"fillcolor\": \"yellow\"}, {\"pen\": true, \"x\": 470.00000000000006, \"y\": 262.67949192431126, \"h\": 60.000000000000114, \"color\": \"#ac0e26\", \"width\": 2, \"fill\": false, \"fillcolor\": \"yellow\"}, {\"pen\": true, \"x\": 487.32050807568885, \"y\": 252.6794919243113, \"h\": 60.000000000000114, \"color\": \"#ac0e26\", \"width\": 2, \"fill\": false, \"fillcolor\": \"yellow\"}, {\"pen\": true, \"x\": 487.32050807568885, \"y\": 252.6794919243113, \"h\": 90.00000000000011, \"color\": \"#ac0e26\", \"width\": 2, \"fill\": false, \"fillcolor\": \"yellow\"}, {\"pen\": true, \"x\": 507.32050807568885, \"y\": 252.67949192431132, \"h\": 90.00000000000011, \"color\": \"#ac0e26\", \"width\": 2, \"fill\": false, \"fillcolor\": \"yellow\"}, {\"pen\": true, \"x\": 507.32050807568885, \"y\": 252.67949192431132, \"h\": 120.00000000000011, \"color\": \"#ac0e26\", \"width\": 2, \"fill\": false, \"fillcolor\": \"yellow\"}, {\"pen\": true, \"x\": 524.6410161513776, \"y\": 262.6794919243114, \"h\": 120.00000000000011, \"color\": \"#ac0e26\", \"width\": 2, \"fill\": false, \"fillcolor\": \"yellow\"}, {\"pen\": true, \"x\": 524.6410161513776, \"y\": 262.6794919243114, \"h\": 150.0000000000001, \"color\": \"#ac0e26\", \"width\": 2, \"fill\": false, \"fillcolor\": \"yellow\"}, {\"pen\": true, \"x\": 534.6410161513776, \"y\": 280.00000000000017, \"h\": 150.0000000000001, \"color\": \"#ac0e26\", \"width\": 2, \"fill\": false, \"fillcolor\": \"yellow\"}, {\"pen\": true, \"x\": 534.6410161513776, \"y\": 280.00000000000017, \"h\": 180.0000000000001, \"color\": \"#ac0e26\", \"width\": 2, \"fill\": false, \"fillcolor\": \"yellow\"}, {\"pen\": true, \"x\": 534.6410161513776, \"y\": 300.00000000000017, \"h\": 180.0000000000001, \"color\": \"#ac0e26\", \"width\": 2, \"fill\": false, \"fillcolor\": \"yellow\"}, {\"pen\": true, \"x\": 534.6410161513776, \"y\": 300.00000000000017, \"h\": 210.0000000000001, \"color\": \"#ac0e26\", \"width\": 2, \"fill\": false, \"fillcolor\": \"yellow\"}, {\"pen\": true, \"x\": 524.6410161513776, \"y\": 317.3205080756889, \"h\": 210.0000000000001, \"color\": \"#ac0e26\", \"width\": 2, \"fill\": false, \"fillcolor\": \"yellow\"}, {\"pen\": true, \"x\": 524.6410161513776, \"y\": 317.3205080756889, \"h\": 240.0000000000001, \"color\": \"#ac0e26\", \"width\": 2, \"fill\": false, \"fillcolor\": \"yellow\"}, {\"pen\": true, \"x\": 507.3205080756888, \"y\": 327.32050807568885, \"h\": 240.0000000000001, \"color\": \"#ac0e26\", \"width\": 2, \"fill\": false, \"fillcolor\": \"yellow\"}, {\"pen\": true, \"x\": 507.3205080756888, \"y\": 327.32050807568885, \"h\": 270.0000000000001, \"color\": \"#ac0e26\", \"width\": 2, \"fill\": false, \"fillcolor\": \"yellow\"}, {\"pen\": true, \"x\": 487.3205080756888, \"y\": 327.3205080756888, \"h\": 270.0000000000001, \"color\": \"#ac0e26\", \"width\": 2, \"fill\": false, \"fillcolor\": \"yellow\"}, {\"pen\": true, \"x\": 487.3205080756888, \"y\": 327.3205080756888, \"h\": 300.0000000000001, \"color\": \"#ac0e26\", \"width\": 2, \"fill\": false, \"fillcolor\": \"yellow\"}, {\"pen\": true, \"x\": 470.00000000000006, \"y\": 317.32050807568874, \"h\": 300.0000000000001, \"color\": \"#ac0e26\", \"width\": 2, \"fill\": false, \"fillcolor\": \"yellow\"}, {\"pen\": true, \"x\": 470.00000000000006, \"y\": 317.32050807568874, \"h\": 330.0000000000001, \"color\": \"#ac0e26\", \"width\": 2, \"fill\": false, \"fillcolor\": \"yellow\"}, {\"pen\": true, \"x\": 460.0000000000001, \"y\": 299.99999999999994, \"h\": 330.0000000000001, \"color\": \"#ac0e26\", \"width\": 2, \"fill\": false, \"fillcolor\": \"yellow\"}, {\"pen\": true, \"x\": 460.0000000000001, \"y\": 299.99999999999994, \"h\": 1.1368683772161603e-13, \"color\": \"#ac0e26\", \"width\": 2, \"fill\": false, \"fillcolor\": \"yellow\"}, {\"pen\": false, \"x\": 500.0000000000001, \"y\": 300, \"h\": 1.1368683772161603e-13, \"color\": \"#ac0e26\", \"width\": 2, \"fill\": false, \"fillcolor\": \"yellow\"}, {\"pen\": true, \"x\": 500.00000000000017, \"y\": 280.0, \"h\": 1.1368683772161603e-13, \"color\": \"#c16851\", \"width\": 2, \"fill\": false, \"fillcolor\": \"yellow\"}, {\"pen\": true, \"x\": 500.00000000000017, \"y\": 280.0, \"h\": 27.692307692307807, \"color\": \"#c16851\", \"width\": 2, \"fill\": false, \"fillcolor\": \"yellow\"}, {\"pen\": true, \"x\": 509.2944634408756, \"y\": 262.2908794869358, \"h\": 27.692307692307807, \"color\": \"#c16851\", \"width\": 2, \"fill\": false, \"fillcolor\": \"yellow\"}, {\"pen\": true, \"x\": 509.2944634408756, \"y\": 262.2908794869358, \"h\": 55.3846153846155, \"color\": \"#c16851\", \"width\": 2, \"fill\": false, \"fillcolor\": \"yellow\"}, {\"pen\": true, \"x\": 525.7541407587487, \"y\": 250.92958455231272, \"h\": 55.3846153846155, \"color\": \"#c16851\", \"width\": 2, \"fill\": false, \"fillcolor\": \"yellow\"}, {\"pen\": true, \"x\": 525.7541407587487, \"y\": 250.92958455231272, \"h\": 83.0769230769232, \"color\": \"#c16851\", \"width\": 2, \"fill\": false, \"fillcolor\": \"yellow\"}, {\"pen\": true, \"x\": 545.6083182407098, \"y\": 248.5188509472063, \"h\": 83.0769230769232, \"color\": \"#c16851\", \"width\": 2, \"fill\": false, \"fillcolor\": \"yellow\"}, {\"pen\": true, \"x\": 545.6083182407098, \"y\": 248.5188509472063, \"h\": 110.76923076923089, \"color\": \"#c16851\", \"width\": 2, \"fill\": false, \"fillcolor\": \"yellow\"}, {\"pen\": true, \"x\": 564.308643094418, \"y\": 255.61094868805705, \"h\": 110.76923076923089, \"color\": \"#c16851\", \"width\": 2, \"fill\": false, \"fillcolor\": \"yellow\"}, {\"pen\": true, \"x\": 564.308643094418, \"y\": 255.61094868805705, \"h\": 138.46153846153857, \"color\": \"#c16851\", \"width\": 2, \"fill\": false, \"fillcolor\": \"yellow\"}, {\"pen\": true, \"x\": 577.5710962592339, \"y\": 270.5811636514791, \"h\": 138.46153846153857, \"color\": \"#c16851\", \"width\": 2, \"fill\": false, \"fillcolor\": \"yellow\"}, {\"pen\": true, \"x\": 577.5710962592339, \"y\": 270.5811636514791, \"h\": 166.15384615384625, \"color\": \"#c16851\", \"width\": 2, \"fill\": false, \"fillcolor\": \"yellow\"}, {\"pen\": true, \"x\": 582.357409544985, \"y\": 290.0000000000001, \"h\": 166.15384615384625, \"color\": \"#c16851\", \"width\": 2, \"fill\": false, \"fillcolor\": \"yellow\"}, {\"pen\": true, \"x\": 582.357409544985, \"y\": 290.0000000000001, \"h\": 193.84615384615392, \"color\": \"#c16851\", \"width\": 2, \"fill\": false, \"fillcolor\": \"yellow\"}, {\"pen\": true, \"x\": 577.5710962592339, \"y\": 309.41883634852115, \"h\": 193.84615384615392, \"color\": \"#c16851\", \"width\": 2, \"fill\": false, \"fillcolor\": \"yellow\"}, {\"pen\": true, \"x\": 577.5710962592339, \"y\": 309.41883634852115, \"h\": 221.5384615384616, \"color\": \"#c16851\", \"width\": 2, \"fill\": false, \"fillcolor\": \"yellow\"}, {\"pen\": true, \"x\": 564.3086430944179, \"y\": 324.38905131194315, \"h\": 221.5384615384616, \"color\": \"#c16851\", \"width\": 2, \"fill\": false, \"fillcolor\": \"yellow\"}, {\"pen\": true, \"x\": 564.3086430944179, \"y\": 324.38905131194315, \"h\": 249.23076923076928, \"color\": \"#c16851\", \"width\": 2, \"fill\": false, \"fillcolor\": \"yellow\"}, {\"pen\": true, \"x\": 545.6083182407097, \"y\": 331.48114905279385, \"h\": 249.23076923076928, \"color\": \"#c16851\", \"width\": 2, \"fill\": false, \"fillcolor\": \"yellow\"}, {\"pen\": true, \"x\": 545.6083182407097, \"y\": 331.48114905279385, \"h\": 276.92307692307696, \"color\": \"#c16851\", \"width\": 2, \"fill\": false, \"fillcolor\": \"yellow\"}, {\"pen\": true, \"x\": 525.7541407587486, \"y\": 329.07041544768737, \"h\": 276.92307692307696, \"color\": \"#c16851\", \"width\": 2, \"fill\": false, \"fillcolor\": \"yellow\"}, {\"pen\": true, \"x\": 525.7541407587486, \"y\": 329.07041544768737, \"h\": 304.61538461538464, \"color\": \"#c16851\", \"width\": 2, \"fill\": false, \"fillcolor\": \"yellow\"}, {\"pen\": true, \"x\": 509.29446344087546, \"y\": 317.70912051306425, \"h\": 304.61538461538464, \"color\": \"#c16851\", \"width\": 2, \"fill\": false, \"fillcolor\": \"yellow\"}, {\"pen\": true, \"x\": 509.29446344087546, \"y\": 317.70912051306425, \"h\": 332.3076923076923, \"color\": \"#c16851\", \"width\": 2, \"fill\": false, \"fillcolor\": \"yellow\"}, {\"pen\": true, \"x\": 500.0000000000001, \"y\": 300.00000000000006, \"h\": 332.3076923076923, \"color\": \"#c16851\", \"width\": 2, \"fill\": false, \"fillcolor\": \"yellow\"}, {\"pen\": true, \"x\": 500.0000000000001, \"y\": 300.00000000000006, \"h\": 0.0, \"color\": \"#c16851\", \"width\": 2, \"fill\": false, \"fillcolor\": \"yellow\"}, {\"pen\": false, \"x\": 540.0000000000001, \"y\": 300, \"h\": 0.0, \"color\": \"#c16851\", \"width\": 2, \"fill\": false, \"fillcolor\": \"yellow\"}, {\"pen\": true, \"x\": 540.0000000000001, \"y\": 280.0, \"h\": 0.0, \"color\": \"#ea7126\", \"width\": 2, \"fill\": false, \"fillcolor\": \"yellow\"}, {\"pen\": true, \"x\": 540.0000000000001, \"y\": 280.0, \"h\": 25.714285714285715, \"color\": \"#ea7126\", \"width\": 2, \"fill\": false, \"fillcolor\": \"yellow\"}, {\"pen\": true, \"x\": 548.6776747823512, \"y\": 261.98062264195164, \"h\": 25.714285714285715, \"color\": \"#ea7126\", \"width\": 2, \"fill\": false, \"fillcolor\": \"yellow\"}, {\"pen\": true, \"x\": 548.6776747823512, \"y\": 261.98062264195164, \"h\": 51.42857142857143, \"color\": \"#ea7126\", \"width\": 2, \"fill\": false, \"fillcolor\": \"yellow\"}, {\"pen\": true, \"x\": 564.3143044317118, \"y\": 249.51082660477698, \"h\": 51.42857142857143, \"color\": \"#ea7126\", \"width\": 2, \"fill\": false, \"fillcolor\": \"yellow\"}, {\"pen\": true, \"x\": 564.3143044317118, \"y\": 249.51082660477698, \"h\": 77.14285714285714, \"color\": \"#ea7126\", \"width\": 2, \"fill\": false, \"fillcolor\": \"yellow\"}, {\"pen\": true, \"x\": 583.8128626753482, \"y\": 245.06040792565068, \"h\": 77.14285714285714, \"color\": \"#ea7126\", \"width\": 2, \"fill\": false, \"fillcolor\": \"yellow\"}, {\"pen\": true, \"x\": 583.8128626753482, \"y\": 245.06040792565068, \"h\": 102.85714285714286, \"color\": \"#ea7126\", \"width\": 2, \"fill\": false, \"fillcolor\": \"yellow\"}, {\"pen\": true, \"x\": 603.3114209189847, \"y\": 249.51082660477698, \"h\": 102.85714285714286, \"color\": \"#ea7126\", \"width\": 2, \"fill\": false, \"fillcolor\": \"yellow\"}, {\"pen\": true, \"x\": 603.3114209189847, \"y\": 249.51082660477698, \"h\": 128.57142857142858, \"color\": \"#ea7126\", \"width\": 2, \"fill\": false, \"fillcolor\": \"yellow\"}, {\"pen\": true, \"x\": 618.9480505683453, \"y\": 261.98062264195164, \"h\": 128.57142857142858, \"color\": \"#ea7126\", \"width\": 2, \"fill\": false, \"fillcolor\": \"yellow\"}, {\"pen\": true, \"x\": 618.9480505683453, \"y\": 261.98062264195164, \"h\": 154.2857142857143, \"color\": \"#ea7126\", \"width\": 2, \"fill\": false, \"fillcolor\": \"yellow\"}, {\"pen\": true, \"x\": 627.6257253506964, \"y\": 280.0, \"h\": 154.2857142857143, \"color\": \"#ea7126\", \"width\": 2, \"fill\": false, \"fillcolor\": \"yellow\"}, {\"pen\": true, \"x\": 627.6257253506964, \"y\": 280.0, \"h\": 180.00000000000003, \"color\": \"#ea7126\", \"width\": 2, \"fill\": false, \"fillcolor\": \"yellow\"}, {\"pen\": true, \"x\": 627.6257253506964, \"y\": 300.0, \"h\": 180.00000000000003, \"color\": \"#ea7126\", \"width\": 2, \"fill\": false, \"fillcolor\": \"yellow\"}, {\"pen\": true, \"x\": 627.6257253506964, \"y\": 300.0, \"h\": 205.71428571428575, \"color\": \"#ea7126\", \"width\": 2, \"fill\": false, \"fillcolor\": \"yellow\"}, {\"pen\": true, \"x\": 618.9480505683453, \"y\": 318.01937735804836, \"h\": 205.71428571428575, \"color\": \"#ea7126\", \"width\": 2, \"fill\": false, \"fillcolor\": \"yellow\"}, {\"pen\": true, \"x\": 618.9480505683453, \"y\": 318.01937735804836, \"h\": 231.42857142857147, \"color\": \"#ea7126\", \"width\": 2, \"fill\": false, \"fillcolor\": \"yellow\"}, {\"pen\": true, \"x\": 603.3114209189846, \"y\": 330.489173395223, \"h\": 231.42857142857147, \"color\": \"#ea7126\", \"width\": 2, \"fill\": false, \"fillcolor\": \"yellow\"}, {\"pen\": true, \"x\": 603.3114209189846, \"y\": 330.489173395223, \"h\": 257.14285714285717, \"color\": \"#ea7126\", \"width\": 2, \"fill\": false, \"fillcolor\": \"yellow\"}, {\"pen\": true, \"x\": 583.8128626753481, \"y\": 334.9395920743493, \"h\": 257.14285714285717, \"color\": \"#ea7126\", \"width\": 2, \"fill\": false, \"fillcolor\": \"yellow\"}, {\"pen\": true, \"x\": 583.8128626753481, \"y\": 334.9395920743493, \"h\": 282.8571428571429, \"color\": \"#ea7126\", \"width\": 2, \"fill\": false, \"fillcolor\": \"yellow\"}, {\"pen\": true, \"x\": 564.3143044317117, \"y\": 330.489173395223, \"h\": 282.8571428571429, \"color\": \"#ea7126\", \"width\": 2, \"fill\": false, \"fillcolor\": \"yellow\"}, {\"pen\": true, \"x\": 564.3143044317117, \"y\": 330.489173395223, \"h\": 308.5714285714286, \"color\": \"#ea7126\", \"width\": 2, \"fill\": false, \"fillcolor\": \"yellow\"}, {\"pen\": true, \"x\": 548.6776747823511, \"y\": 318.01937735804836, \"h\": 308.5714285714286, \"color\": \"#ea7126\", \"width\": 2, \"fill\": false, \"fillcolor\": \"yellow\"}, {\"pen\": true, \"x\": 548.6776747823511, \"y\": 318.01937735804836, \"h\": 334.28571428571433, \"color\": \"#ea7126\", \"width\": 2, \"fill\": false, \"fillcolor\": \"yellow\"}, {\"pen\": true, \"x\": 540.0, \"y\": 300.0, \"h\": 334.28571428571433, \"color\": \"#ea7126\", \"width\": 2, \"fill\": false, \"fillcolor\": \"yellow\"}, {\"pen\": true, \"x\": 540.0, \"y\": 300.0, \"h\": 5.684341886080802e-14, \"color\": \"#ea7126\", \"width\": 2, \"fill\": false, \"fillcolor\": \"yellow\"}, {\"pen\": false, \"x\": 580.0, \"y\": 300, \"h\": 5.684341886080802e-14, \"color\": \"#ea7126\", \"width\": 2, \"fill\": false, \"fillcolor\": \"yellow\"}, {\"pen\": true, \"x\": 580.0, \"y\": 280.0, \"h\": 5.684341886080802e-14, \"color\": \"#6f42b5\", \"width\": 2, \"fill\": false, \"fillcolor\": \"yellow\"}, {\"pen\": true, \"x\": 580.0, \"y\": 280.0, \"h\": 24.000000000000057, \"color\": \"#6f42b5\", \"width\": 2, \"fill\": false, \"fillcolor\": \"yellow\"}, {\"pen\": true, \"x\": 588.134732861516, \"y\": 261.729090847148, \"h\": 24.000000000000057, \"color\": \"#6f42b5\", \"width\": 2, \"fill\": false, \"fillcolor\": \"yellow\"}, {\"pen\": true, \"x\": 588.134732861516, \"y\": 261.729090847148, \"h\": 48.00000000000006, \"color\": \"#6f42b5\", \"width\": 2, \"fill\": false, \"fillcolor\": \"yellow\"}, {\"pen\": true, \"x\": 602.9976293710639, \"y\": 248.34647871997083, \"h\": 48.00000000000006, \"color\": \"#6f42b5\", \"width\": 2, \"fill\": false, \"fillcolor\": \"yellow\"}, {\"pen\": true, \"x\": 602.9976293710639, \"y\": 248.34647871997083, \"h\": 72.00000000000006, \"color\": \"#6f42b5\", \"width\": 2, \"fill\": false, \"fillcolor\": \"yellow\"}, {\"pen\": true, \"x\": 622.018759696967, \"y\": 242.16613883247192, \"h\": 72.00000000000006, \"color\": \"#6f42b5\", \"width\": 2, \"fill\": false, \"fillcolor\": \"yellow\"}, {\"pen\": true, \"x\": 622.018759696967, \"y\": 242.16613883247192, \"h\": 96.00000000000006, \"color\": \"#6f42b5\", \"width\": 2, \"fill\": false, \"fillcolor\": \"yellow\"}, {\"pen\": true, \"x\": 641.9091976043325, \"y\": 244.256708097825, \"h\": 96.00000000000006, \"color\": \"#6f42b5\", \"width\": 2, \"fill\": false, \"fillcolor\": \"yellow\"}, {\"pen\": true, \"x\": 641.9091976043325, \"y\": 244.256708097825, \"h\": 120.00000000000006, \"color\": \"#6f42b5\", \"width\": 2, \"fill\": false, \"fillcolor\": \"yellow\"}, {\"pen\": true, \"x\": 659.2297056800212, \"y\": 254.25670809782503, \"h\": 120.00000000000006, \"color\": \"#6f42b5\", \"width\": 2, \"fill\": false, \"fillcolor\": \"yellow\"}, {\"pen\": true, \"x\": 659.2297056800212, \"y\": 254.25670809782503, \"h\": 144.00000000000006, \"color\": \"#6f42b5\", \"width\": 2, \"fill\": false, \"fillcolor\": \"yellow\"}, {\"pen\": true, \"x\": 670.9854107258707, \"y\": 270.437047985324, \"h\": 144.00000000000006, \"color\": \"#6f42b5\", \"width\": 2, \"fill\": false, \"fillcolor\": \"yellow\"}, {\"pen\": true, \"x\": 670.9854107258707, \"y\": 270.437047985324, \"h\": 168.00000000000006, \"color\": \"#6f42b5\", \"width\": 2, \"fill\": false, \"fillcolor\": \"yellow\"}, {\"pen\": true, \"x\": 675.1436445422258, \"y\": 290.0000000000001, \"h\": 168.00000000000006, \"color\": \"#6f42b5\", \"width\": 2, \"fill\": false, \"fillcolor\": \"yellow\"}, {\"pen\": true, \"x\": 675.1436445422258, \"y\": 290.0000000000001, \"h\": 192.00000000000006, \"color\": \"#6f42b5\", \"width\": 2, \"fill\": false, \"fillcolor\": \"yellow\"}, {\"pen\": true, \"x\": 670.9854107258707, \"y\": 309.5629520146762, \"h\": 192.00000000000006, \"color\": \"#6f42b5\", \"width\": 2, \"fill\": false, \"fillcolor\": \"yellow\"}, {\"pen\": true, \"x\": 670.9854107258707, \"y\": 309.5629520146762, \"h\": 216.00000000000006, \"color\": \"#6f42b5\", \"width\": 2, \"fill\": false, \"fillcolor\": \"yellow\"}, {\"pen\": true, \"x\": 659.2297056800212, \"y\": 325.74329190217514, \"h\": 216.00000000000006, \"color\": \"#6f42b5\", \"width\": 2, \"fill\": false, \"fillcolor\": \"yellow\"}, {\"pen\": true, \"x\": 659.2297056800212, \"y\": 325.74329190217514, \"h\": 240.00000000000006, \"color\": \"#6f42b5\", \"width\": 2, \"fill\": false, \"fillcolor\": \"yellow\"}, {\"pen\": true, \"x\": 641.9091976043325, \"y\": 335.74329190217514, \"h\": 240.00000000000006, \"color\": \"#6f42b5\", \"width\": 2, \"fill\": false, \"fillcolor\": \"yellow\"}, {\"pen\": true, \"x\": 641.9091976043325, \"y\": 335.74329190217514, \"h\": 264.00000000000006, \"color\": \"#6f42b5\", \"width\": 2, \"fill\": false, \"fillcolor\": \"yellow\"}, {\"pen\": true, \"x\": 622.018759696967, \"y\": 337.8338611675282, \"h\": 264.00000000000006, \"color\": \"#6f42b5\", \"width\": 2, \"fill\": false, \"fillcolor\": \"yellow\"}, {\"pen\": true, \"x\": 622.018759696967, \"y\": 337.8338611675282, \"h\": 288.00000000000006, \"color\": \"#6f42b5\", \"width\": 2, \"fill\": false, \"fillcolor\": \"yellow\"}, {\"pen\": true, \"x\": 602.9976293710639, \"y\": 331.6535212800292, \"h\": 288.00000000000006, \"color\": \"#6f42b5\", \"width\": 2, \"fill\": false, \"fillcolor\": \"yellow\"}, {\"pen\": true, \"x\": 602.9976293710639, \"y\": 331.6535212800292, \"h\": 312.00000000000006, \"color\": \"#6f42b5\", \"width\": 2, \"fill\": false, \"fillcolor\": \"yellow\"}, {\"pen\": true, \"x\": 588.134732861516, \"y\": 318.270909152852, \"h\": 312.00000000000006, \"color\": \"#6f42b5\", \"width\": 2, \"fill\": false, \"fillcolor\": \"yellow\"}, {\"pen\": true, \"x\": 588.134732861516, \"y\": 318.270909152852, \"h\": 336.00000000000006, \"color\": \"#6f42b5\", \"width\": 2, \"fill\": false, \"fillcolor\": \"yellow\"}, {\"pen\": true, \"x\": 580.0, \"y\": 300.0, \"h\": 336.00000000000006, \"color\": \"#6f42b5\", \"width\": 2, \"fill\": false, \"fillcolor\": \"yellow\"}, {\"pen\": true, \"x\": 580.0, \"y\": 300.0, \"h\": 5.684341886080802e-14, \"color\": \"#6f42b5\", \"width\": 2, \"fill\": false, \"fillcolor\": \"yellow\"}, {\"pen\": false, \"x\": 620.0, \"y\": 300, \"h\": 5.684341886080802e-14, \"color\": \"#6f42b5\", \"width\": 2, \"fill\": false, \"fillcolor\": \"yellow\"}, {\"pen\": true, \"x\": 620.0, \"y\": 280.0, \"h\": 5.684341886080802e-14, \"color\": \"#aae3b7\", \"width\": 2, \"fill\": false, \"fillcolor\": \"yellow\"}, {\"pen\": true, \"x\": 620.0, \"y\": 280.0, \"h\": 22.500000000000057, \"color\": \"#aae3b7\", \"width\": 2, \"fill\": false, \"fillcolor\": \"yellow\"}, {\"pen\": true, \"x\": 627.6536686473019, \"y\": 261.52240934977425, \"h\": 22.500000000000057, \"color\": \"#aae3b7\", \"width\": 2, \"fill\": false, \"fillcolor\": \"yellow\"}, {\"pen\": true, \"x\": 627.6536686473019, \"y\": 261.52240934977425, \"h\": 45.00000000000006, \"color\": \"#aae3b7\", \"width\": 2, \"fill\": false, \"fillcolor\": \"yellow\"}, {\"pen\": true, \"x\": 641.7958042710328, \"y\": 247.3802737260433, \"h\": 45.00000000000006, \"color\": \"#aae3b7\", \"width\": 2, \"fill\": false, \"fillcolor\": \"yellow\"}, {\"pen\": true, \"x\": 641.7958042710328, \"y\": 247.3802737260433, \"h\": 67.50000000000006, \"color\": \"#aae3b7\", \"width\": 2, \"fill\": false, \"fillcolor\": \"yellow\"}, {\"pen\": true, \"x\": 660.2733949212585, \"y\": 239.72660507874153, \"h\": 67.50000000000006, \"color\": \"#aae3b7\", \"width\": 2, \"fill\": false, \"fillcolor\": \"yellow\"}, {\"pen\": true, \"x\": 660.2733949212585, \"y\": 239.72660507874153, \"h\": 90.00000000000006, \"color\": \"#aae3b7\", \"width\": 2, \"fill\": false, \"fillcolor\": \"yellow\"}, {\"pen\": true, \"x\": 680.2733949212585, \"y\": 239.72660507874156, \"h\": 90.00000000000006, \"color\": \"#aae3b7\", \"width\": 2, \"fill\": false, \"fillcolor\": \"yellow\"}, {\"pen\": true, \"x\": 680.2733949212585, \"y\": 239.72660507874156, \"h\": 112.50000000000006, \"color\": \"#aae3b7\", \"width\": 2, \"fill\": false, \"fillcolor\": \"yellow\"}, {\"pen\": true, \"x\": 698.7509855714842, \"y\": 247.38027372604338, \"h\": 112.50000000000006, \"color\": \"#aae3b7\", \"width\": 2, \"fill\": false, \"fillcolor\": \"yellow\"}, {\"pen\": true, \"x\": 698.7509855714842, \"y\": 247.38027372604338, \"h\": 135.00000000000006, \"color\": \"#aae3b7\", \"width\": 2, \"fill\": false, \"fillcolor\": \"yellow\"}, {\"pen\": true, \"x\": 712.8931211952151, \"y\": 261.52240934977436, \"h\": 135.00000000000006, \"color\": \"#aae3b7\", \"width\": 2, \"fill\": false, \"fillcolor\": \"yellow\"}, {\"pen\": true, \"x\": 712.8931211952151, \"y\": 261.52240934977436, \"h\": 157.50000000000006, \"color\": \"#aae3b7\", \"width\": 2, \"fill\": false, \"fillcolor\": \"yellow\"}, {\"pen\": true, \"x\": 720.5467898425169, \"y\": 280.0000000000001, \"h\": 157.50000000000006, \"color\": \"#aae3b7\", \"width\": 2, \"fill\": false, \"fillcolor\": \"yellow\"}, {\"pen\": true, \"x\": 720.5467898425169, \"y\": 280.0000000000001, \"h\": 180.00000000000006, \"color\": \"#aae3b7\", \"width\": 2, \"fill\": false, \"fillcolor\": \"yellow\"}, {\"pen\": true, \"x\": 720.5467898425169, \"y\": 300.0000000000001, \"h\": 180.00000000000006, \"color\": \"#aae3b7\", \"width\": 2, \"fill\": false, \"fillcolor\": \"yellow\"}, {\"pen\": true, \"x\": 720.5467898425169, \"y\": 300.0000000000001, \"h\": 202.50000000000006, \"color\": \"#aae3b7\", \"width\": 2, \"fill\": false, \"fillcolor\": \"yellow\"}, {\"pen\": true, \"x\": 712.893121195215, \"y\": 318.47759065022586, \"h\": 202.50000000000006, \"color\": \"#aae3b7\", \"width\": 2, \"fill\": false, \"fillcolor\": \"yellow\"}, {\"pen\": true, \"x\": 712.893121195215, \"y\": 318.47759065022586, \"h\": 225.00000000000006, \"color\": \"#aae3b7\", \"width\": 2, \"fill\": false, \"fillcolor\": \"yellow\"}, {\"pen\": true, \"x\": 698.7509855714841, \"y\": 332.6197262739568, \"h\": 225.00000000000006, \"color\": \"#aae3b7\", \"width\": 2, \"fill\": false, \"fillcolor\": \"yellow\"}, {\"pen\": true, \"x\": 698.7509855714841, \"y\": 332.6197262739568, \"h\": 247.50000000000006, \"color\": \"#aae3b7\", \"width\": 2, \"fill\": false, \"fillcolor\": \"yellow\"}, {\"pen\": true, \"x\": 680.2733949212584, \"y\": 340.2733949212586, \"h\": 247.50000000000006, \"color\": \"#aae3b7\", \"width\": 2, \"fill\": false, \"fillcolor\": \"yellow\"}, {\"pen\": true, \"x\": 680.2733949212584, \"y\": 340.2733949212586, \"h\": 270.00000000000006, \"color\": \"#aae3b7\", \"width\": 2, \"fill\": false, \"fillcolor\": \"yellow\"}, {\"pen\": true, \"x\": 660.2733949212584, \"y\": 340.2733949212586, \"h\": 270.00000000000006, \"color\": \"#aae3b7\", \"width\": 2, \"fill\": false, \"fillcolor\": \"yellow\"}, {\"pen\": true, \"x\": 660.2733949212584, \"y\": 340.2733949212586, \"h\": 292.50000000000006, \"color\": \"#aae3b7\", \"width\": 2, \"fill\": false, \"fillcolor\": \"yellow\"}, {\"pen\": true, \"x\": 641.7958042710327, \"y\": 332.6197262739568, \"h\": 292.50000000000006, \"color\": \"#aae3b7\", \"width\": 2, \"fill\": false, \"fillcolor\": \"yellow\"}, {\"pen\": true, \"x\": 641.7958042710327, \"y\": 332.6197262739568, \"h\": 315.00000000000006, \"color\": \"#aae3b7\", \"width\": 2, \"fill\": false, \"fillcolor\": \"yellow\"}, {\"pen\": true, \"x\": 627.6536686473017, \"y\": 318.47759065022586, \"h\": 315.00000000000006, \"color\": \"#aae3b7\", \"width\": 2, \"fill\": false, \"fillcolor\": \"yellow\"}, {\"pen\": true, \"x\": 627.6536686473017, \"y\": 318.47759065022586, \"h\": 337.50000000000006, \"color\": \"#aae3b7\", \"width\": 2, \"fill\": false, \"fillcolor\": \"yellow\"}, {\"pen\": true, \"x\": 620.0, \"y\": 300.0000000000001, \"h\": 337.50000000000006, \"color\": \"#aae3b7\", \"width\": 2, \"fill\": false, \"fillcolor\": \"yellow\"}, {\"pen\": true, \"x\": 620.0, \"y\": 300.0000000000001, \"h\": 5.684341886080802e-14, \"color\": \"#aae3b7\", \"width\": 2, \"fill\": false, \"fillcolor\": \"yellow\"}, {\"pen\": false, \"x\": 660.0, \"y\": 300, \"h\": 5.684341886080802e-14, \"color\": \"#aae3b7\", \"width\": 2, \"fill\": false, \"fillcolor\": \"yellow\"}, {\"pen\": true, \"x\": 660.0, \"y\": 280.0, \"h\": 5.684341886080802e-14, \"color\": \"#2621cf\", \"width\": 2, \"fill\": false, \"fillcolor\": \"yellow\"}, {\"pen\": true, \"x\": 660.0, \"y\": 280.0, \"h\": 21.17647058823535, \"color\": \"#2621cf\", \"width\": 2, \"fill\": false, \"fillcolor\": \"yellow\"}, {\"pen\": true, \"x\": 667.224833323743, \"y\": 261.35055541191286, \"h\": 21.17647058823535, \"color\": \"#2621cf\", \"width\": 2, \"fill\": false, \"fillcolor\": \"yellow\"}, {\"pen\": true, \"x\": 667.224833323743, \"y\": 261.35055541191286, \"h\": 42.352941176470644, \"color\": \"#2621cf\", \"width\": 2, \"fill\": false, \"fillcolor\": \"yellow\"}, {\"pen\": true, \"x\": 680.6987461966742, \"y\": 246.5703770674997, \"h\": 42.352941176470644, \"color\": \"#2621cf\", \"width\": 2, \"fill\": false, \"fillcolor\": \"yellow\"}, {\"pen\": true, \"x\": 680.6987461966742, \"y\": 246.5703770674997, \"h\": 63.52941176470594, \"color\": \"#2621cf\", \"width\": 2, \"fill\": false, \"fillcolor\": \"yellow\"}, {\"pen\": true, \"x\": 698.6020120237754, \"y\": 237.65560995196896, \"h\": 63.52941176470594, \"color\": \"#2621cf\", \"width\": 2, \"fill\": false, \"fillcolor\": \"yellow\"}, {\"pen\": true, \"x\": 698.6020120237754, \"y\": 237.65560995196896, \"h\": 84.70588235294123, \"color\": \"#2621cf\", \"width\": 2, \"fill\": false, \"fillcolor\": \"yellow\"}, {\"pen\": true, \"x\": 718.5166955496761, \"y\": 235.81024276270293, \"h\": 84.70588235294123, \"color\": \"#2621cf\", \"width\": 2, \"fill\": false, \"fillcolor\": \"yellow\"}, {\"pen\": true, \"x\": 718.5166955496761, \"y\": 235.81024276270293, \"h\": 105.88235294117652, \"color\": \"#2621cf\", \"width\": 2, \"fill\": false, \"fillcolor\": \"yellow\"}, {\"pen\": true, \"x\": 737.7532084131325, \"y\": 241.2835025641446, \"h\": 105.88235294117652, \"color\": \"#2621cf\", \"width\": 2, \"fill\": false, \"fillcolor\": \"yellow\"}, {\"pen\": true, \"x\": 737.7532084131325, \"y\": 241.2835025641446, \"h\": 127.05882352941181, \"color\": \"#2621cf\", \"width\": 2, \"fill\": false, \"fillcolor\": \"yellow\"}, {\"pen\": true, \"x\": 753.7135529587373, \"y\": 253.33619529172975, \"h\": 127.05882352941181, \"color\": \"#2621cf\", \"width\": 2, \"fill\": false, \"fillcolor\": \"yellow\"}, {\"pen\": true, \"x\": 753.7135529587373, \"y\": 253.33619529172975, \"h\": 148.2352941176471, \"color\": \"#2621cf\", \"width\": 2, \"fill\": false, \"fillcolor\": \"yellow\"}, {\"pen\": true, \"x\": 764.2421962162844, \"y\": 270.34053800632205, \"h\": 148.2352941176471, \"color\": \"#2621cf\", \"width\": 2, \"fill\": false, \"fillcolor\": \"yellow\"}, {\"pen\": true, \"x\": 764.2421962162844, \"y\": 270.34053800632205, \"h\": 169.4117647058824, \"color\": \"#2621cf\", \"width\": 2, \"fill\": false, \"fillcolor\": \"yellow\"}, {\"pen\": true, \"x\": 767.9171865726157, \"y\": 290.0000000000001, \"h\": 169.4117647058824, \"color\": \"#2621cf\", \"width\": 2, \"fill\": false, \"fillcolor\": \"yellow\"}, {\"pen\": true, \"x\": 767.9171865726157, \"y\": 290.0000000000001, \"h\": 190.5882352941177, \"color\": \"#2621cf\", \"width\": 2, \"fill\": false, \"fillcolor\": \"yellow\"}, {\"pen\": true, \"x\": 764.2421962162842, \"y\": 309.6594619936781, \"h\": 190.5882352941177, \"color\": \"#2621cf\", \"width\": 2, \"fill\": false, \"fillcolor\": \"yellow\"}, {\"pen\": true, \"x\": 764.2421962162842, \"y\": 309.6594619936781, \"h\": 211.764705882353, \"color\": \"#2621cf\", \"width\": 2, \"fill\": false, \"fillcolor\": \"yellow\"}, {\"pen\": true, \"x\": 753.7135529587371, \"y\": 326.6638047082704, \"h\": 211.764705882353, \"color\": \"#2621cf\", \"width\": 2, \"fill\": false, \"fillcolor\": \"yellow\"}, {\"pen\": true, \"x\": 753.7135529587371, \"y\": 326.6638047082704, \"h\": 232.94117647058832, \"color\": \"#2621cf\", \"width\": 2, \"fill\": false, \"fillcolor\": \"yellow\"}, {\"pen\": true, \"x\": 737.7532084131323, \"y\": 338.7164974358555, \"h\": 232.94117647058832, \"color\": \"#2621cf\", \"width\": 2, \"fill\": false, \"fillcolor\": \"yellow\"}, {\"pen\": true, \"x\": 737.7532084131323, \"y\": 338.7164974358555, \"h\": 254.11764705882362, \"color\": \"#2621cf\", \"width\": 2, \"fill\": false, \"fillcolor\": \"yellow\"}, {\"pen\": true, \"x\": 718.5166955496759, \"y\": 344.18975723729716, \"h\": 254.11764705882362, \"color\": \"#2621cf\", \"width\": 2, \"fill\": false, \"fillcolor\": \"yellow\"}, {\"pen\": true, \"x\": 718.5166955496759, \"y\": 344.18975723729716, \"h\": 275.2941176470589, \"color\": \"#2621cf\", \"width\": 2, \"fill\": false, \"fillcolor\": \"yellow\"}, {\"pen\": true, \"x\": 698.6020120237752, \"y\": 342.3443900480311, \"h\": 275.2941176470589, \"color\": \"#2621cf\", \"width\": 2, \"fill\": false, \"fillcolor\": \"yellow\"}, {\"pen\": true, \"x\": 698.6020120237752, \"y\": 342.3443900480311, \"h\": 296.4705882352942, \"color\": \"#2621cf\", \"width\": 2, \"fill\": false, \"fillcolor\": \"yellow\"}, {\"pen\": true, \"x\": 680.6987461966739, \"y\": 333.4296229325003, \"h\": 296.4705882352942, \"color\": \"#2621cf\", \"width\": 2, \"fill\": false, \"fillcolor\": \"yellow\"}, {\"pen\": true, \"x\": 680.6987461966739, \"y\": 333.4296229325003, \"h\": 317.6470588235295, \"color\": \"#2621cf\", \"width\": 2, \"fill\": false, \"fillcolor\": \"yellow\"}, {\"pen\": true, \"x\": 667.2248333237428, \"y\": 318.6494445880871, \"h\": 317.6470588235295, \"color\": \"#2621cf\", \"width\": 2, \"fill\": false, \"fillcolor\": \"yellow\"}, {\"pen\": true, \"x\": 667.2248333237428, \"y\": 318.6494445880871, \"h\": 338.8235294117648, \"color\": \"#2621cf\", \"width\": 2, \"fill\": false, \"fillcolor\": \"yellow\"}, {\"pen\": true, \"x\": 659.9999999999998, \"y\": 299.99999999999994, \"h\": 338.8235294117648, \"color\": \"#2621cf\", \"width\": 2, \"fill\": false, \"fillcolor\": \"yellow\"}, {\"pen\": true, \"x\": 659.9999999999998, \"y\": 299.99999999999994, \"h\": 1.1368683772161603e-13, \"color\": \"#2621cf\", \"width\": 2, \"fill\": false, \"fillcolor\": \"yellow\"}, {\"pen\": false, \"x\": 699.9999999999998, \"y\": 300, \"h\": 1.1368683772161603e-13, \"color\": \"#2621cf\", \"width\": 2, \"fill\": false, \"fillcolor\": \"yellow\"}, {\"pen\": true, \"x\": 699.9999999999998, \"y\": 280.0, \"h\": 1.1368683772161603e-13, \"color\": \"#83be08\", \"width\": 2, \"fill\": false, \"fillcolor\": \"yellow\"}, {\"pen\": true, \"x\": 699.9999999999998, \"y\": 280.0, \"h\": 20.000000000000114, \"color\": \"#83be08\", \"width\": 2, \"fill\": false, \"fillcolor\": \"yellow\"}, {\"pen\": true, \"x\": 706.8404028665132, \"y\": 261.20614758428184, \"h\": 20.000000000000114, \"color\": \"#83be08\", \"width\": 2, \"fill\": false, \"fillcolor\": \"yellow\"}, {\"pen\": true, \"x\": 706.8404028665132, \"y\": 261.20614758428184, \"h\": 40.000000000000114, \"color\": \"#83be08\", \"width\": 2, \"fill\": false, \"fillcolor\": \"yellow\"}, {\"pen\": true, \"x\": 719.696155060244, \"y\": 245.8852587219023, \"h\": 40.000000000000114, \"color\": \"#83be08\", \"width\": 2, \"fill\": false, \"fillcolor\": \"yellow\"}, {\"pen\": true, \"x\": 719.696155060244, \"y\": 245.8852587219023, \"h\": 60.000000000000114, \"color\": \"#83be08\", \"width\": 2, \"fill\": false, \"fillcolor\": \"yellow\"}, {\"pen\": true, \"x\": 737.0166631359327, \"y\": 235.88525872190232, \"h\": 60.000000000000114, \"color\": \"#83be08\", \"width\": 2, \"fill\": false, \"fillcolor\": \"yellow\"}, {\"pen\": true, \"x\": 737.0166631359327, \"y\": 235.88525872190232, \"h\": 80.00000000000011, \"color\": \"#83be08\", \"width\": 2, \"fill\": false, \"fillcolor\": \"yellow\"}, {\"pen\": true, \"x\": 756.7128181961768, \"y\": 232.41229516856376, \"h\": 80.00000000000011, \"color\": \"#83be08\", \"width\": 2, \"fill\": false, \"fillcolor\": \"yellow\"}, {\"pen\": true, \"x\": 756.7128181961768, \"y\": 232.41229516856376, \"h\": 100.00000000000011, \"color\": \"#83be08\", \"width\": 2, \"fill\": false, \"fillcolor\": \"yellow\"}, {\"pen\": true, \"x\": 776.408973256421, \"y\": 235.8852587219024, \"h\": 100.00000000000011, \"color\": \"#83be08\", \"width\": 2, \"fill\": false, \"fillcolor\": \"yellow\"}, {\"pen\": true, \"x\": 776.408973256421, \"y\": 235.8852587219024, \"h\": 120.00000000000011, \"color\": \"#83be08\", \"width\": 2, \"fill\": false, \"fillcolor\": \"yellow\"}, {\"pen\": true, \"x\": 793.7294813321097, \"y\": 245.88525872190243, \"h\": 120.00000000000011, \"color\": \"#83be08\", \"width\": 2, \"fill\": false, \"fillcolor\": \"yellow\"}, {\"pen\": true, \"x\": 793.7294813321097, \"y\": 245.88525872190243, \"h\": 140.0000000000001, \"color\": \"#83be08\", \"width\": 2, \"fill\": false, \"fillcolor\": \"yellow\"}, {\"pen\": true, \"x\": 806.5852335258404, \"y\": 261.206147584282, \"h\": 140.0000000000001, \"color\": \"#83be08\", \"width\": 2, \"fill\": false, \"fillcolor\": \"yellow\"}, {\"pen\": true, \"x\": 806.5852335258404, \"y\": 261.206147584282, \"h\": 160.0000000000001, \"color\": \"#83be08\", \"width\": 2, \"fill\": false, \"fillcolor\": \"yellow\"}, {\"pen\": true, \"x\": 813.4256363923538, \"y\": 280.00000000000017, \"h\": 160.0000000000001, \"color\": \"#83be08\", \"width\": 2, \"fill\": false, \"fillcolor\": \"yellow\"}, {\"pen\": true, \"x\": 813.4256363923538, \"y\": 280.00000000000017, \"h\": 180.0000000000001, \"color\": \"#83be08\", \"width\": 2, \"fill\": false, \"fillcolor\": \"yellow\"}, {\"pen\": true, \"x\": 813.4256363923538, \"y\": 300.00000000000017, \"h\": 180.0000000000001, \"color\": \"#83be08\", \"width\": 2, \"fill\": false, \"fillcolor\": \"yellow\"}, {\"pen\": true, \"x\": 813.4256363923538, \"y\": 300.00000000000017, \"h\": 200.0000000000001, \"color\": \"#83be08\", \"width\": 2, \"fill\": false, \"fillcolor\": \"yellow\"}, {\"pen\": true, \"x\": 806.5852335258404, \"y\": 318.79385241571833, \"h\": 200.0000000000001, \"color\": \"#83be08\", \"width\": 2, \"fill\": false, \"fillcolor\": \"yellow\"}, {\"pen\": true, \"x\": 806.5852335258404, \"y\": 318.79385241571833, \"h\": 220.0000000000001, \"color\": \"#83be08\", \"width\": 2, \"fill\": false, \"fillcolor\": \"yellow\"}, {\"pen\": true, \"x\": 793.7294813321096, \"y\": 334.1147412780979, \"h\": 220.0000000000001, \"color\": \"#83be08\", \"width\": 2, \"fill\": false, \"fillcolor\": \"yellow\"}, {\"pen\": true, \"x\": 793.7294813321096, \"y\": 334.1147412780979, \"h\": 240.0000000000001, \"color\": \"#83be08\", \"width\": 2, \"fill\": false, \"fillcolor\": \"yellow\"}, {\"pen\": true, \"x\": 776.4089732564207, \"y\": 344.1147412780978, \"h\": 240.0000000000001, \"color\": \"#83be08\", \"width\": 2, \"fill\": false, \"fillcolor\": \"yellow\"}, {\"pen\": true, \"x\": 776.4089732564207, \"y\": 344.1147412780978, \"h\": 260.0000000000001, \"color\": \"#83be08\", \"width\": 2, \"fill\": false, \"fillcolor\": \"yellow\"}, {\"pen\": true, \"x\": 756.7128181961766, \"y\": 347.5877048314364, \"h\": 260.0000000000001, \"color\": \"#83be08\", \"width\": 2, \"fill\": false, \"fillcolor\": \"yellow\"}, {\"pen\": true, \"x\": 756.7128181961766, \"y\": 347.5877048314364, \"h\": 280.0000000000001, \"color\": \"#83be08\", \"width\": 2, \"fill\": false, \"fillcolor\": \"yellow\"}, {\"pen\": true, \"x\": 737.0166631359325, \"y\": 344.1147412780977, \"h\": 280.0000000000001, \"color\": \"#83be08\", \"width\": 2, \"fill\": false, \"fillcolor\": \"yellow\"}, {\"pen\": true, \"x\": 737.0166631359325, \"y\": 344.1147412780977, \"h\": 300.0000000000001, \"color\": \"#83be08\", \"width\": 2, \"fill\": false, \"fillcolor\": \"yellow\"}, {\"pen\": true, \"x\": 719.6961550602438, \"y\": 334.11474127809765, \"h\": 300.0000000000001, \"color\": \"#83be08\", \"width\": 2, \"fill\": false, \"fillcolor\": \"yellow\"}, {\"pen\": true, \"x\": 719.6961550602438, \"y\": 334.11474127809765, \"h\": 320.0000000000001, \"color\": \"#83be08\", \"width\": 2, \"fill\": false, \"fillcolor\": \"yellow\"}, {\"pen\": true, \"x\": 706.840402866513, \"y\": 318.79385241571805, \"h\": 320.0000000000001, \"color\": \"#83be08\", \"width\": 2, \"fill\": false, \"fillcolor\": \"yellow\"}, {\"pen\": true, \"x\": 706.840402866513, \"y\": 318.79385241571805, \"h\": 340.0000000000001, \"color\": \"#83be08\", \"width\": 2, \"fill\": false, \"fillcolor\": \"yellow\"}, {\"pen\": true, \"x\": 699.9999999999997, \"y\": 299.9999999999999, \"h\": 340.0000000000001, \"color\": \"#83be08\", \"width\": 2, \"fill\": false, \"fillcolor\": \"yellow\"}, {\"pen\": true, \"x\": 699.9999999999997, \"y\": 299.9999999999999, \"h\": 1.1368683772161603e-13, \"color\": \"#83be08\", \"width\": 2, \"fill\": false, \"fillcolor\": \"yellow\"}, {\"pen\": false, \"x\": 739.9999999999997, \"y\": 300, \"h\": 1.1368683772161603e-13, \"color\": \"#83be08\", \"width\": 2, \"fill\": false, \"fillcolor\": \"yellow\"}, {\"pen\": true, \"x\": 739.9999999999997, \"y\": 280.0, \"h\": 1.1368683772161603e-13, \"color\": \"#6e7549\", \"width\": 2, \"fill\": false, \"fillcolor\": \"yellow\"}, {\"pen\": true, \"x\": 739.9999999999997, \"y\": 280.0, \"h\": 18.947368421052744, \"color\": \"#6e7549\", \"width\": 2, \"fill\": false, \"fillcolor\": \"yellow\"}, {\"pen\": true, \"x\": 746.4939893840933, \"y\": 261.0836551659873, \"h\": 18.947368421052744, \"color\": \"#6e7549\", \"width\": 2, \"fill\": false, \"fillcolor\": \"yellow\"}, {\"pen\": true, \"x\": 746.4939893840933, \"y\": 261.0836551659873, \"h\": 37.894736842105374, \"color\": \"#6e7549\", \"width\": 2, \"fill\": false, \"fillcolor\": \"yellow\"}, {\"pen\": true, \"x\": 758.7782436378867, \"y\": 245.30084497805944, \"h\": 37.894736842105374, \"color\": \"#6e7549\", \"width\": 2, \"fill\": false, \"fillcolor\": \"yellow\"}, {\"pen\": true, \"x\": 758.7782436378867, \"y\": 245.30084497805944, \"h\": 56.842105263158004, \"color\": \"#6e7549\", \"width\": 2, \"fill\": false, \"fillcolor\": \"yellow\"}, {\"pen\": true, \"x\": 775.5215732031373, \"y\": 234.36188181561093, \"h\": 56.842105263158004, \"color\": \"#6e7549\", \"width\": 2, \"fill\": false, \"fillcolor\": \"yellow\"}, {\"pen\": true, \"x\": 775.5215732031373, \"y\": 234.36188181561093, \"h\": 75.78947368421063, \"color\": \"#6e7549\", \"width\": 2, \"fill\": false, \"fillcolor\": \"yellow\"}, {\"pen\": true, \"x\": 794.909578521924, \"y\": 229.45217207279498, \"h\": 75.78947368421063, \"color\": \"#6e7549\", \"width\": 2, \"fill\": false, \"fillcolor\": \"yellow\"}, {\"pen\": true, \"x\": 794.909578521924, \"y\": 229.45217207279498, \"h\": 94.73684210526326, \"color\": \"#6e7549\", \"width\": 2, \"fill\": false, \"fillcolor\": \"yellow\"}, {\"pen\": true, \"x\": 814.8412683820574, \"y\": 231.10375898224166, \"h\": 94.73684210526326, \"color\": \"#6e7549\", \"width\": 2, \"fill\": false, \"fillcolor\": \"yellow\"}, {\"pen\": true, \"x\": 814.8412683820574, \"y\": 231.10375898224166, \"h\": 113.6842105263159, \"color\": \"#6e7549\", \"width\": 2, \"fill\": false, \"fillcolor\": \"yellow\"}, {\"pen\": true, \"x\": 833.1567349151585, \"y\": 239.13766747530107, \"h\": 113.6842105263159, \"color\": \"#6e7549\", \"width\": 2, \"fill\": false, \"fillcolor\": \"yellow\"}, {\"pen\": true, \"x\": 833.1567349151585, \"y\": 239.13766747530107, \"h\": 132.63157894736852, \"color\": \"#6e7549\", \"width\": 2, \"fill\": false, \"fillcolor\": \"yellow\"}, {\"pen\": true, \"x\": 847.8712131286211, \"y\": 252.68329890781592, \"h\": 132.63157894736852, \"color\": \"#6e7549\", \"width\": 2, \"fill\": false, \"fillcolor\": \"yellow\"}, {\"pen\": true, \"x\": 847.8712131286211, \"y\": 252.68329890781592, \"h\": 151.57894736842115, \"color\": \"#6e7549\", \"width\": 2, \"fill\": false, \"fillcolor\": \"yellow\"}, {\"pen\": true, \"x\": 857.3901609893626, \"y\": 270.2727739319457, \"h\": 151.57894736842115, \"color\": \"#6e7549\", \"width\": 2, \"fill\": false, \"fillcolor\": \"yellow\"}, {\"pen\": true, \"x\": 857.3901609893626, \"y\": 270.2727739319457, \"h\": 170.52631578947378, \"color\": \"#6e7549\", \"width\": 2, \"fill\": false, \"fillcolor\": \"yellow\"}, {\"pen\": true, \"x\": 860.6820527949773, \"y\": 290.00000000000017, \"h\": 170.52631578947378, \"color\": \"#6e7549\", \"width\": 2, \"fill\": false, \"fillcolor\": \"yellow\"}, {\"pen\": true, \"x\": 860.6820527949773, \"y\": 290.00000000000017, \"h\": 189.47368421052641, \"color\": \"#6e7549\", \"width\": 2, \"fill\": false, \"fillcolor\": \"yellow\"}, {\"pen\": true, \"x\": 857.3901609893626, \"y\": 309.7272260680546, \"h\": 189.47368421052641, \"color\": \"#6e7549\", \"width\": 2, \"fill\": false, \"fillcolor\": \"yellow\"}, {\"pen\": true, \"x\": 857.3901609893626, \"y\": 309.7272260680546, \"h\": 208.42105263157904, \"color\": \"#6e7549\", \"width\": 2, \"fill\": false, \"fillcolor\": \"yellow\"}, {\"pen\": true, \"x\": 847.8712131286211, \"y\": 327.31670109218436, \"h\": 208.42105263157904, \"color\": \"#6e7549\", \"width\": 2, \"fill\": false, \"fillcolor\": \"yellow\"}, {\"pen\": true, \"x\": 847.8712131286211, \"y\": 327.31670109218436, \"h\": 227.36842105263167, \"color\": \"#6e7549\", \"width\": 2, \"fill\": false, \"fillcolor\": \"yellow\"}, {\"pen\": true, \"x\": 833.1567349151585, \"y\": 340.8623325246991, \"h\": 227.36842105263167, \"color\": \"#6e7549\", \"width\": 2, \"fill\": false, \"fillcolor\": \"yellow\"}, {\"pen\": true, \"x\": 833.1567349151585, \"y\": 340.8623325246991, \"h\": 246.3157894736843, \"color\": \"#6e7549\", \"width\": 2, \"fill\": false, \"fillcolor\": \"yellow\"}, {\"pen\": true, \"x\": 814.8412683820574, \"y\": 348.8962410177585, \"h\": 246.3157894736843, \"color\": \"#6e7549\", \"width\": 2, \"fill\": false, \"fillcolor\": \"yellow\"}, {\"pen\": true, \"x\": 814.8412683820574, \"y\": 348.8962410177585, \"h\": 265.26315789473693, \"color\": \"#6e7549\", \"width\": 2, \"fill\": false, \"fillcolor\": \"yellow\"}, {\"pen\": true, \"x\": 794.909578521924, \"y\": 350.5478279272051, \"h\": 265.26315789473693, \"color\": \"#6e7549\", \"width\": 2, \"fill\": false, \"fillcolor\": \"yellow\"}, {\"pen\": true, \"x\": 794.909578521924, \"y\": 350.5478279272051, \"h\": 284.2105263157896, \"color\": \"#6e7549\", \"width\": 2, \"fill\": false, \"fillcolor\": \"yellow\"}, {\"pen\": true, \"x\": 775.5215732031375, \"y\": 345.6381181843891, \"h\": 284.2105263157896, \"color\": \"#6e7549\", \"width\": 2, \"fill\": false, \"fillcolor\": \"yellow\"}, {\"pen\": true, \"x\": 775.5215732031375, \"y\": 345.6381181843891, \"h\": 303.1578947368422, \"color\": \"#6e7549\", \"width\": 2, \"fill\": false, \"fillcolor\": \"yellow\"}, {\"pen\": true, \"x\": 758.7782436378869, \"y\": 334.69915502194056, \"h\": 303.1578947368422, \"color\": \"#6e7549\", \"width\": 2, \"fill\": false, \"fillcolor\": \"yellow\"}, {\"pen\": true, \"x\": 758.7782436378869, \"y\": 334.69915502194056, \"h\": 322.1052631578948, \"color\": \"#6e7549\", \"width\": 2, \"fill\": false, \"fillcolor\": \"yellow\"}, {\"pen\": true, \"x\": 746.4939893840935, \"y\": 318.91634483401265, \"h\": 322.1052631578948, \"color\": \"#6e7549\", \"width\": 2, \"fill\": false, \"fillcolor\": \"yellow\"}, {\"pen\": true, \"x\": 746.4939893840935, \"y\": 318.91634483401265, \"h\": 341.0526315789474, \"color\": \"#6e7549\", \"width\": 2, \"fill\": false, \"fillcolor\": \"yellow\"}, {\"pen\": true, \"x\": 739.9999999999999, \"y\": 299.99999999999994, \"h\": 341.0526315789474, \"color\": \"#6e7549\", \"width\": 2, \"fill\": false, \"fillcolor\": \"yellow\"}, {\"pen\": true, \"x\": 739.9999999999999, \"y\": 299.99999999999994, \"h\": 0.0, \"color\": \"#6e7549\", \"width\": 2, \"fill\": false, \"fillcolor\": \"yellow\"}, {\"pen\": false, \"x\": 779.9999999999999, \"y\": 300, \"h\": 0.0, \"color\": \"#6e7549\", \"width\": 2, \"fill\": false, \"fillcolor\": \"yellow\"}]}')"
            ]
          },
          "metadata": {}
        }
      ]
    },
    {
      "cell_type": "code",
      "source": [],
      "metadata": {
        "id": "LIFG2rxfB1CL"
      },
      "execution_count": null,
      "outputs": []
    },
    {
      "cell_type": "code",
      "source": [],
      "metadata": {
        "id": "aTbHxwyqwfta"
      },
      "execution_count": null,
      "outputs": []
    }
  ]
}