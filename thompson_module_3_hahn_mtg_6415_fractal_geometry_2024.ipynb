{
  "nbformat": 4,
  "nbformat_minor": 0,
  "metadata": {
    "colab": {
      "provenance": []
    },
    "kernelspec": {
      "name": "python3",
      "display_name": "Python 3"
    },
    "language_info": {
      "name": "python"
    }
  },
  "cells": [
    {
      "cell_type": "markdown",
      "source": [
        "# Module 3: Three Sides to the Triangle"
      ],
      "metadata": {
        "id": "8F2ihdnPhcOY"
      }
    },
    {
      "cell_type": "code",
      "source": [],
      "metadata": {
        "id": "KPO-ZxOTdLP1"
      },
      "execution_count": null,
      "outputs": []
    },
    {
      "cell_type": "code",
      "source": [
        "!wget -O turtle_setup.py 'https://raw.githubusercontent.com/williamedwardhahn/fractal25/refs/heads/main/turtle_setup.py'\n",
        "from turtle_setup import *"
      ],
      "metadata": {
        "collapsed": true,
        "id": "Dp-2UDLpbyqc",
        "colab": {
          "base_uri": "https://localhost:8080/"
        },
        "outputId": "4ee61c27-743d-4bfc-c4fd-9d874bbe2a93"
      },
      "execution_count": null,
      "outputs": [
        {
          "output_type": "stream",
          "name": "stdout",
          "text": [
            "--2025-02-17 18:48:42--  https://raw.githubusercontent.com/williamedwardhahn/fractal25/refs/heads/main/turtle_setup.py\n",
            "Resolving raw.githubusercontent.com (raw.githubusercontent.com)... 185.199.109.133, 185.199.108.133, 185.199.110.133, ...\n",
            "Connecting to raw.githubusercontent.com (raw.githubusercontent.com)|185.199.109.133|:443... connected.\n",
            "HTTP request sent, awaiting response... 200 OK\n",
            "Length: 13274 (13K) [text/plain]\n",
            "Saving to: ‘turtle_setup.py’\n",
            "\n",
            "\rturtle_setup.py       0%[                    ]       0  --.-KB/s               \rturtle_setup.py     100%[===================>]  12.96K  --.-KB/s    in 0s      \n",
            "\n",
            "2025-02-17 18:48:42 (86.3 MB/s) - ‘turtle_setup.py’ saved [13274/13274]\n",
            "\n"
          ]
        }
      ]
    },
    {
      "cell_type": "markdown",
      "source": [
        "First you define a function to go a given length and turn 120 degrees to create an equilateral triangle."
      ],
      "metadata": {
        "id": "PyWPDBAHwoPZ"
      }
    },
    {
      "cell_type": "code",
      "source": [
        "# Define the function to draw an equilateral triangle\n",
        "def draw_triangle(length):\n",
        "    for _ in range(3):\n",
        "        forward(length)\n",
        "        left(120)"
      ],
      "metadata": {
        "id": "9ZN4epvXmQVo"
      },
      "execution_count": null,
      "outputs": []
    },
    {
      "cell_type": "markdown",
      "source": [
        "This is an example of a basic triangle.  You refine the function, I do not know enough about Python (and my COBOL skills do not help so much anymore!) to know if you need to redefine it if it was defined and executed in a prior block.\n",
        "\n",
        "Regardless you set the color and length, the latter of which is a requirement for the function call to create the triangle.  Changing either of those values does not do anything dramatic but I will play with it to see if I can easily make other shapes which does not have to do with the fractals I know.\n",
        "\n",
        "Okay, this is neat.  I created the function draw_hex and I'm guessing the AI knew exactly how I would want to code it, so I let it do so!\n",
        "\n",
        "So playing with it some more, and having just taught this to my middle school students in Geometry, I have it set to create an n-gon with a user input number of sides.  I have not used inputs before and see it coming up frequently in the future.\n",
        "Frustratingly sometimes this works perfectly and sometimes it hangs.  I do not see any reason for this."
      ],
      "metadata": {
        "id": "w4wD24CAwumM"
      }
    },
    {
      "cell_type": "code",
      "source": [
        "initializeTurtle()\n",
        "showturtle()\n",
        "\n",
        "# Define the function to draw an equilateral triangle\n",
        "def draw_triangle(length):\n",
        "    for _ in range(3):\n",
        "        forward(length)\n",
        "        left(120)\n",
        "def draw_hex(length):\n",
        "    for _ in range(6):\n",
        "        forward(length)\n",
        "        left(60)\n",
        "def draw_ngon(length, n):\n",
        "    for _ in range(n):\n",
        "        forward(length)\n",
        "        left(360/n)\n",
        "\n",
        "n = input(\"Enter number of sides: \")\n",
        "# Set up the turtle\n",
        "jump(300, 500)\n",
        "face(90)\n",
        "color('green')\n",
        "length = 1200/int(n)\n",
        "#draw_triangle(length)\n",
        "#draw_hex(length)\n",
        "draw_ngon(length,int(n) )\n",
        "show()"
      ],
      "metadata": {
        "id": "nY13FrremUD-",
        "colab": {
          "base_uri": "https://localhost:8080/",
          "height": 677
        },
        "outputId": "6e356f4c-b74a-40b4-9616-4e58fd50f81f"
      },
      "execution_count": null,
      "outputs": [
        {
          "output_type": "display_data",
          "data": {
            "text/plain": [
              "<IPython.core.display.HTML object>"
            ],
            "text/html": [
              "\n",
              "<style>\n",
              "table {border-collapse: collapse;}\n",
              "button {width: 80px; margin: 5px 5px 5px 0px; text-align: center; font-size: 1em;}\n",
              "canvas {margin-top: 5px;}\n",
              "#status {background-color: #cdcdff; color: #000000; font-size: 1em;}\n",
              "#art {text-align: center; background-color: #efefff; padding: 0px 5px 0px 5px;}\n",
              ".right {text-align: right;}\n",
              ".left {text-align: left;}\n",
              ".numbers {margin: 0px 10px 0px 10px; font-size: 1em; color: 'purple';\n",
              "white-space: pre; font-family: 'Courier New', monospace;}\n",
              "</style>\n",
              "<table>\n",
              "<tr><td colspan=4 id='art'><canvas id=\"turtleCanvas\"></td></tr>\n",
              "<tr id=\"status\">\n",
              "  <td class=\"left\">\n",
              "    <div id=\"info\">\n",
              "      <div class=\"numbers\"><b>Turtle</b> - Waiting ..                </div>\n",
              "    </div>\n",
              "  </td>\n",
              "  <td class=\"left\">\n",
              "    <div id=\"coord\">\n",
              "      <div class='numbers'><b>Mouse</b> - x:   0 y:   0</div>\n",
              "    </div>\n",
              "  </td>\n",
              "  <td class=\"right\">\n",
              "    <button onClick=\"replay();\" id=\"replay\">Replay</button>\n",
              "    <button onClick=\"saveImg();\" id=\"save\">Save</button>\n",
              "  </td>\n",
              "</tr>\n",
              "</table>\n",
              "<script>\n",
              "function saveImg() {\n",
              "  var a = document.createElement(\"a\");\n",
              "  a.download = \"turtle.png\"; a.href = c.toDataURL(\"image/png\"); a.click();\n",
              "}\n",
              "function replay() {\n",
              "  var t=Math.max(Math.round(2000/p.length), 1);\n",
              "  disableControls(true);\n",
              "  setTimeout(function() { play(t); }, 50);\n",
              "}\n",
              "function disableControls(disable) {\n",
              "  document.getElementById(\"replay\").disabled = disable;\n",
              "  document.getElementById(\"save\").disabled = disable;\n",
              "}\n",
              "function play(delay) {\n",
              "  clearCanvas(bgcolor);\n",
              "  cold = ctx.getImageData(0, 0, c.width, c.height);\n",
              "  if(delay > 0) {\n",
              "    (function myLoop(i) {\n",
              "      setTimeout(function() {\n",
              "        plot(i, delay);\n",
              "        if (++i < p.length) { myLoop(i); } else { disableControls(false); }\n",
              "      }, delay)\n",
              "    })(1);\n",
              "  } else {\n",
              "    for (var ip=1; ip<p.length; ip++) { plot(ip, delay); }\n",
              "    disableControls(false);\n",
              "  }\n",
              "}\n",
              "function plot(ip, delay) {\n",
              "  if(dirty) { ctx.putImageData(cold, 0, 0); }\n",
              "  if(p[ip-1].fill!=p[ip].fill   || p[ip-1].width!=p[ip].width ||\n",
              "     p[ip-1].color!=p[ip].color || p[ip-1].fillcolor!=p[ip].fillcolor ||\n",
              "     ip==1) {\n",
              "    if(p[ip-1].fill) {\n",
              "      ctx.fillStyle = p[ip-1].fillcolor;\n",
              "      ctx.fill();\n",
              "    }\n",
              "    ctx.beginPath();\n",
              "    ctx.moveTo(p[ip-1].x, p[ip-1].y);\n",
              "    ctx.strokeStyle = p[ip].color;\n",
              "    ctx.lineWidth = p[ip].width;\n",
              "  }\n",
              "  if(p[ip].pen) { ctx.lineTo(p[ip].x, p[ip].y); }\n",
              "  else          { ctx.moveTo(p[ip].x, p[ip].y); }\n",
              "  ctx.stroke();\n",
              "  if(turtle && (delay > 0 || ip==p.length-1)) { showTurtle(ip); }\n",
              "  updateStatus(p[ip].x, p[ip].y, p[ip].h, ip);\n",
              "}\n",
              "function updateStatus(x,y,h,ip) {\n",
              "  px=String(Math.round(x)).padStart(4,' ');\n",
              "  py=String(Math.round(y)).padStart(4,' ');\n",
              "  ph=String(Math.round(h)).padStart(4,' ');\n",
              "  pi=String(ip).padStart(6,' ');\n",
              "  document.getElementById(\"info\").innerHTML=\n",
              "  \"<div class='numbers'><b>Turtle</b> - x:\"+px+\" y:\"+py+\n",
              "  \" Heading:\"+ph+\" - Points:\"+pi+\"</div>\";\n",
              "}\n",
              "function updateStatusStatic(ip) {\n",
              "  pi=String(ip).padStart(6,' ');\n",
              "  document.getElementById(\"info\").innerHTML=\n",
              "  \"<div class='numbers'><b>Turtle</b> - Points:\"+pi+\n",
              "  \" (non interactive)           </div>\";\n",
              "}\n",
              "function getCoordinates(e) {\n",
              "  var rect = c.getBoundingClientRect();\n",
              "  mx=String(Math.round(e.clientX-rect.left)).padStart(4,' ');\n",
              "  my=String(Math.round(e.clientY-rect.top)).padStart(4,' ');\n",
              "  document.getElementById(\"coord\").innerHTML=\n",
              "  \"<div class='numbers'><b>Mouse</b> - x:\"+mx+\" y:\"+my+\"</div>\";\n",
              "}\n",
              "function showTurtle(ip) {\n",
              "  cold = ctx.getImageData(0, 0, c.width, c.height);\n",
              "  ctx.translate(p[ip].x, p[ip].y);\n",
              "  ctx.rotate(p[ip].h*Math.PI/180.);\n",
              "  ctx.drawImage(timg, -timg.width/2, -timg.height / 2, timg.width, timg.height);\n",
              "  ctx.rotate(-p[ip].h*Math.PI/180.);\n",
              "  ctx.translate(-p[ip].x, -p[ip].y);\n",
              "  dirty = true;\n",
              "}\n",
              "function clearCanvas(color){\n",
              "  bgcolor = color;\n",
              "  ctx.fillStyle = color;\n",
              "  ctx.fillRect(0, 0, c.width, c.height);\n",
              "}\n",
              "function initTurtle() {\n",
              "  var turl = \"https://raw.githubusercontent.com/tproffen/ORCSGirlsPython/master/Images/turtle.png\";\n",
              "  timg = new Image();\n",
              "  timg.src = turl; timg.setAttribute('crossorigin', 'anonymous');\n",
              "}\n",
              "//-----------------------------------------------------------------//\n",
              "//----------- Functions called from Python ------------------------//\n",
              "//-----------------------------------------------------------------//\n",
              "function updateDrawingCanvas(json) {\n",
              "  var art = JSON.parse(json);\n",
              "  bgcolor = art.bgcolor;\n",
              "  turtle = art.turtle;\n",
              "  c.width = art.width; c.height = art.height;\n",
              "  document.getElementById(\"art\").style.backgroundColor  = art.canvascolor;\n",
              "  document.getElementById(\"status\").style.backgroundColor  = art.statuscolor;\n",
              "\n",
              "  p=art.lines;\n",
              "  disableControls(true);\n",
              "  setTimeout(function() { play(art.delay); }, 50);\n",
              "}\n",
              "//-----------------------------------------------------------------//\n",
              "function updateDrawingSVG(svg,np) {\n",
              "\n",
              "  blob = new Blob([svg],{type:'image/svg+xml;charset=utf-8'});\n",
              "  url = URL.createObjectURL(blob);\n",
              "  var img = new Image();\n",
              "  img.onload = function(e){\n",
              "    c.width=img.width; c.height=img.height;\n",
              "    ctx.drawImage( img, 0, 0 );\n",
              "  };\n",
              "  img.src = url;\n",
              "  document.getElementById(\"save\").disabled = false;\n",
              "  updateStatusStatic(np);\n",
              "}\n",
              "//-----------------------------------------------------------------//\n",
              "//-----------------------------------------------------------------//\n",
              "var c = document.getElementById(\"turtleCanvas\");\n",
              "var ctx = c.getContext(\"2d\");\n",
              "var cold = ctx.getImageData(0, 0, c.width, c.height);\n",
              "var p = [], timg, turtle = false; path = false; dirty = false;\n",
              "\n",
              "initTurtle(); disableControls(true); c.addEventListener('mousemove',getCoordinates);\n",
              "</script>\n"
            ]
          },
          "metadata": {}
        },
        {
          "name": "stdout",
          "output_type": "stream",
          "text": [
            "Enter number of sides: 20\n"
          ]
        },
        {
          "output_type": "display_data",
          "data": {
            "text/plain": [
              "<IPython.core.display.Javascript object>"
            ],
            "application/javascript": [
              "updateDrawingCanvas('{\"bgcolor\": \"white\", \"statuscolor\": \"#ededff\", \"turtle\": true, \"canvascolor\": \"#fafafa\", \"width\": 1000, \"height\": 600, \"delay\": 0, \"lines\": [{\"pen\": false, \"x\": 500.0, \"y\": 300.0, \"h\": 0.0, \"color\": \"blue\", \"width\": 2, \"fill\": false, \"fillcolor\": \"yellow\"}, {\"pen\": false, \"x\": 300, \"y\": 500, \"h\": 0.0, \"color\": \"blue\", \"width\": 2, \"fill\": false, \"fillcolor\": \"yellow\"}, {\"pen\": true, \"x\": 300, \"y\": 500, \"h\": 90, \"color\": \"blue\", \"width\": 2, \"fill\": false, \"fillcolor\": \"yellow\"}, {\"pen\": true, \"x\": 360.0, \"y\": 500.0, \"h\": 90, \"color\": \"green\", \"width\": 2, \"fill\": false, \"fillcolor\": \"yellow\"}, {\"pen\": true, \"x\": 360.0, \"y\": 500.0, \"h\": 72.0, \"color\": \"green\", \"width\": 2, \"fill\": false, \"fillcolor\": \"yellow\"}, {\"pen\": true, \"x\": 417.0633909777092, \"y\": 481.45898033750314, \"h\": 72.0, \"color\": \"green\", \"width\": 2, \"fill\": false, \"fillcolor\": \"yellow\"}, {\"pen\": true, \"x\": 417.0633909777092, \"y\": 481.45898033750314, \"h\": 54.0, \"color\": \"green\", \"width\": 2, \"fill\": false, \"fillcolor\": \"yellow\"}, {\"pen\": true, \"x\": 465.6044106402061, \"y\": 446.19186519995475, \"h\": 54.0, \"color\": \"green\", \"width\": 2, \"fill\": false, \"fillcolor\": \"yellow\"}, {\"pen\": true, \"x\": 465.6044106402061, \"y\": 446.19186519995475, \"h\": 36.0, \"color\": \"green\", \"width\": 2, \"fill\": false, \"fillcolor\": \"yellow\"}, {\"pen\": true, \"x\": 500.87152577775447, \"y\": 397.6508455374579, \"h\": 36.0, \"color\": \"green\", \"width\": 2, \"fill\": false, \"fillcolor\": \"yellow\"}, {\"pen\": true, \"x\": 500.87152577775447, \"y\": 397.6508455374579, \"h\": 18.0, \"color\": \"green\", \"width\": 2, \"fill\": false, \"fillcolor\": \"yellow\"}, {\"pen\": true, \"x\": 519.4125454402513, \"y\": 340.58745455974866, \"h\": 18.0, \"color\": \"green\", \"width\": 2, \"fill\": false, \"fillcolor\": \"yellow\"}, {\"pen\": true, \"x\": 519.4125454402513, \"y\": 340.58745455974866, \"h\": 0.0, \"color\": \"green\", \"width\": 2, \"fill\": false, \"fillcolor\": \"yellow\"}, {\"pen\": true, \"x\": 519.4125454402513, \"y\": 280.58745455974866, \"h\": 0.0, \"color\": \"green\", \"width\": 2, \"fill\": false, \"fillcolor\": \"yellow\"}, {\"pen\": true, \"x\": 519.4125454402513, \"y\": 280.58745455974866, \"h\": 342.0, \"color\": \"green\", \"width\": 2, \"fill\": false, \"fillcolor\": \"yellow\"}, {\"pen\": true, \"x\": 500.8715257777544, \"y\": 223.52406358203945, \"h\": 342.0, \"color\": \"green\", \"width\": 2, \"fill\": false, \"fillcolor\": \"yellow\"}, {\"pen\": true, \"x\": 500.8715257777544, \"y\": 223.52406358203945, \"h\": 324.0, \"color\": \"green\", \"width\": 2, \"fill\": false, \"fillcolor\": \"yellow\"}, {\"pen\": true, \"x\": 465.604410640206, \"y\": 174.9830439195426, \"h\": 324.0, \"color\": \"green\", \"width\": 2, \"fill\": false, \"fillcolor\": \"yellow\"}, {\"pen\": true, \"x\": 465.604410640206, \"y\": 174.9830439195426, \"h\": 306.0, \"color\": \"green\", \"width\": 2, \"fill\": false, \"fillcolor\": \"yellow\"}, {\"pen\": true, \"x\": 417.06339097770916, \"y\": 139.71592878199425, \"h\": 306.0, \"color\": \"green\", \"width\": 2, \"fill\": false, \"fillcolor\": \"yellow\"}, {\"pen\": true, \"x\": 417.06339097770916, \"y\": 139.71592878199425, \"h\": 288.0, \"color\": \"green\", \"width\": 2, \"fill\": false, \"fillcolor\": \"yellow\"}, {\"pen\": true, \"x\": 359.99999999999994, \"y\": 121.17490911949741, \"h\": 288.0, \"color\": \"green\", \"width\": 2, \"fill\": false, \"fillcolor\": \"yellow\"}, {\"pen\": true, \"x\": 359.99999999999994, \"y\": 121.17490911949741, \"h\": 270.0, \"color\": \"green\", \"width\": 2, \"fill\": false, \"fillcolor\": \"yellow\"}, {\"pen\": true, \"x\": 299.99999999999994, \"y\": 121.17490911949743, \"h\": 270.0, \"color\": \"green\", \"width\": 2, \"fill\": false, \"fillcolor\": \"yellow\"}, {\"pen\": true, \"x\": 299.99999999999994, \"y\": 121.17490911949743, \"h\": 252.0, \"color\": \"green\", \"width\": 2, \"fill\": false, \"fillcolor\": \"yellow\"}, {\"pen\": true, \"x\": 242.93660902229072, \"y\": 139.71592878199428, \"h\": 252.0, \"color\": \"green\", \"width\": 2, \"fill\": false, \"fillcolor\": \"yellow\"}, {\"pen\": true, \"x\": 242.93660902229072, \"y\": 139.71592878199428, \"h\": 234.0, \"color\": \"green\", \"width\": 2, \"fill\": false, \"fillcolor\": \"yellow\"}, {\"pen\": true, \"x\": 194.3955893597939, \"y\": 174.98304391954267, \"h\": 234.0, \"color\": \"green\", \"width\": 2, \"fill\": false, \"fillcolor\": \"yellow\"}, {\"pen\": true, \"x\": 194.3955893597939, \"y\": 174.98304391954267, \"h\": 216.0, \"color\": \"green\", \"width\": 2, \"fill\": false, \"fillcolor\": \"yellow\"}, {\"pen\": true, \"x\": 159.1284742222455, \"y\": 223.5240635820395, \"h\": 216.0, \"color\": \"green\", \"width\": 2, \"fill\": false, \"fillcolor\": \"yellow\"}, {\"pen\": true, \"x\": 159.1284742222455, \"y\": 223.5240635820395, \"h\": 198.0, \"color\": \"green\", \"width\": 2, \"fill\": false, \"fillcolor\": \"yellow\"}, {\"pen\": true, \"x\": 140.58745455974866, \"y\": 280.5874545597487, \"h\": 198.0, \"color\": \"green\", \"width\": 2, \"fill\": false, \"fillcolor\": \"yellow\"}, {\"pen\": true, \"x\": 140.58745455974866, \"y\": 280.5874545597487, \"h\": 180.0, \"color\": \"green\", \"width\": 2, \"fill\": false, \"fillcolor\": \"yellow\"}, {\"pen\": true, \"x\": 140.58745455974866, \"y\": 340.5874545597487, \"h\": 180.0, \"color\": \"green\", \"width\": 2, \"fill\": false, \"fillcolor\": \"yellow\"}, {\"pen\": true, \"x\": 140.58745455974866, \"y\": 340.5874545597487, \"h\": 162.0, \"color\": \"green\", \"width\": 2, \"fill\": false, \"fillcolor\": \"yellow\"}, {\"pen\": true, \"x\": 159.12847422224553, \"y\": 397.65084553745794, \"h\": 162.0, \"color\": \"green\", \"width\": 2, \"fill\": false, \"fillcolor\": \"yellow\"}, {\"pen\": true, \"x\": 159.12847422224553, \"y\": 397.65084553745794, \"h\": 144.0, \"color\": \"green\", \"width\": 2, \"fill\": false, \"fillcolor\": \"yellow\"}, {\"pen\": true, \"x\": 194.39558935979392, \"y\": 446.1918651999548, \"h\": 144.0, \"color\": \"green\", \"width\": 2, \"fill\": false, \"fillcolor\": \"yellow\"}, {\"pen\": true, \"x\": 194.39558935979392, \"y\": 446.1918651999548, \"h\": 126.0, \"color\": \"green\", \"width\": 2, \"fill\": false, \"fillcolor\": \"yellow\"}, {\"pen\": true, \"x\": 242.93660902229078, \"y\": 481.4589803375032, \"h\": 126.0, \"color\": \"green\", \"width\": 2, \"fill\": false, \"fillcolor\": \"yellow\"}, {\"pen\": true, \"x\": 242.93660902229078, \"y\": 481.4589803375032, \"h\": 108.0, \"color\": \"green\", \"width\": 2, \"fill\": false, \"fillcolor\": \"yellow\"}, {\"pen\": true, \"x\": 300.0, \"y\": 500.00000000000006, \"h\": 108.0, \"color\": \"green\", \"width\": 2, \"fill\": false, \"fillcolor\": \"yellow\"}, {\"pen\": true, \"x\": 300.0, \"y\": 500.00000000000006, \"h\": 90.0, \"color\": \"green\", \"width\": 2, \"fill\": false, \"fillcolor\": \"yellow\"}]}')"
            ]
          },
          "metadata": {}
        }
      ]
    },
    {
      "cell_type": "code",
      "source": [
        "# Define the recursive Sierpinski triangle function\n",
        "def sierpinski_triangle(length, order,triangle_count):\n",
        "    if order == 0:\n",
        "        draw_triangle(length)\n",
        "        triangle_count=triangle_count+1\n",
        "    else:\n",
        "        color=cycle(colours)\n",
        "        sierpinski_triangle(length / 2, order - 1,triangle_count)\n",
        "        print('path 1',order,length)\n",
        "        triangle_count=triangle_count+1\n",
        "        forward(length / 2)\n",
        "        sierpinski_triangle(length / 2, order - 1,triangle_count)\n",
        "        print('path 2',order,length)\n",
        "        triangle_count=triangle_count+1\n",
        "        backward(length / 2)\n",
        "        left(60)\n",
        "        forward(length / 2)\n",
        "        right(60)\n",
        "        sierpinski_triangle(length / 2, order - 1,triangle_count)\n",
        "        print('path 3',order,length)\n",
        "        triangle_count=triangle_count+1\n",
        "        left(60)\n",
        "        backward(length / 2)\n",
        "        right(60)\n"
      ],
      "metadata": {
        "id": "wWeQCrSQhdPN"
      },
      "execution_count": null,
      "outputs": []
    },
    {
      "cell_type": "markdown",
      "source": [
        "I want to make sure I take this slow to fully understand it.  Setting the order to 0 a basic triangle is created which happens in the first branch of the IF statement, drawing a triangle.\n",
        "\n",
        "The strangest aspect of this is calling the function from within the function.  In COBOL I don't think this is possible, or at least I had never had need to do it so had to look it up and it is of course called recursion.  Reading into the hazards of recursion, it explains why I ran out of memory when I simply increased the order by 1 on the last assignment, it creates an exponential number of processes.\n",
        "I wanted to cycle through colors so looked up code how to do it.  It is proving challenging, but hope to see how the recursion works through changes of colors.\n",
        "\n",
        "Since the colors is not working, I am dumping the order and lengths of triangles for each iteration to see the order in which the triangles are drawn.  I also added an input to the function to count the triangles rather than just list them all but that is not working either, I'm regularly being given an output of 0.\n",
        "\n",
        "The way the triangle is defined is that the order reduces and length are reduced until equal to 0 and a triangle of the appropriate length is drawn.  This happens repeatedly"
      ],
      "metadata": {
        "id": "KARmCbm6RkOU"
      }
    },
    {
      "cell_type": "code",
      "source": [
        "initializeTurtle()\n",
        "showturtle()\n",
        "triangle_count=0\n",
        "from itertools import cycle\n",
        "colours = cycle(['red', 'green', 'pruple', 'blue','orange','black'])\n",
        "\n",
        "# Set up the turtle\n",
        "jump(300, 500)\n",
        "face(90)\n",
        "#color('green')\n",
        "\n",
        "# Draw the Sierpinski triangle\n",
        "length = 400\n",
        "order = 3\n",
        "sierpinski_triangle(length, order,triangle_count)\n",
        "print(triangle_count)\n",
        "\n",
        "show()"
      ],
      "metadata": {
        "id": "dm3jreZwnEMA",
        "colab": {
          "base_uri": "https://localhost:8080/",
          "height": 1000
        },
        "outputId": "9642c5c2-1922-46e4-b4da-6cdb1391e385"
      },
      "execution_count": null,
      "outputs": [
        {
          "output_type": "display_data",
          "data": {
            "text/plain": [
              "<IPython.core.display.HTML object>"
            ],
            "text/html": [
              "\n",
              "<style>\n",
              "table {border-collapse: collapse;}\n",
              "button {width: 80px; margin: 5px 5px 5px 0px; text-align: center; font-size: 1em;}\n",
              "canvas {margin-top: 5px;}\n",
              "#status {background-color: #cdcdff; color: #000000; font-size: 1em;}\n",
              "#art {text-align: center; background-color: #efefff; padding: 0px 5px 0px 5px;}\n",
              ".right {text-align: right;}\n",
              ".left {text-align: left;}\n",
              ".numbers {margin: 0px 10px 0px 10px; font-size: 1em; color: 'purple';\n",
              "white-space: pre; font-family: 'Courier New', monospace;}\n",
              "</style>\n",
              "<table>\n",
              "<tr><td colspan=4 id='art'><canvas id=\"turtleCanvas\"></td></tr>\n",
              "<tr id=\"status\">\n",
              "  <td class=\"left\">\n",
              "    <div id=\"info\">\n",
              "      <div class=\"numbers\"><b>Turtle</b> - Waiting ..                </div>\n",
              "    </div>\n",
              "  </td>\n",
              "  <td class=\"left\">\n",
              "    <div id=\"coord\">\n",
              "      <div class='numbers'><b>Mouse</b> - x:   0 y:   0</div>\n",
              "    </div>\n",
              "  </td>\n",
              "  <td class=\"right\">\n",
              "    <button onClick=\"replay();\" id=\"replay\">Replay</button>\n",
              "    <button onClick=\"saveImg();\" id=\"save\">Save</button>\n",
              "  </td>\n",
              "</tr>\n",
              "</table>\n",
              "<script>\n",
              "function saveImg() {\n",
              "  var a = document.createElement(\"a\");\n",
              "  a.download = \"turtle.png\"; a.href = c.toDataURL(\"image/png\"); a.click();\n",
              "}\n",
              "function replay() {\n",
              "  var t=Math.max(Math.round(2000/p.length), 1);\n",
              "  disableControls(true);\n",
              "  setTimeout(function() { play(t); }, 50);\n",
              "}\n",
              "function disableControls(disable) {\n",
              "  document.getElementById(\"replay\").disabled = disable;\n",
              "  document.getElementById(\"save\").disabled = disable;\n",
              "}\n",
              "function play(delay) {\n",
              "  clearCanvas(bgcolor);\n",
              "  cold = ctx.getImageData(0, 0, c.width, c.height);\n",
              "  if(delay > 0) {\n",
              "    (function myLoop(i) {\n",
              "      setTimeout(function() {\n",
              "        plot(i, delay);\n",
              "        if (++i < p.length) { myLoop(i); } else { disableControls(false); }\n",
              "      }, delay)\n",
              "    })(1);\n",
              "  } else {\n",
              "    for (var ip=1; ip<p.length; ip++) { plot(ip, delay); }\n",
              "    disableControls(false);\n",
              "  }\n",
              "}\n",
              "function plot(ip, delay) {\n",
              "  if(dirty) { ctx.putImageData(cold, 0, 0); }\n",
              "  if(p[ip-1].fill!=p[ip].fill   || p[ip-1].width!=p[ip].width ||\n",
              "     p[ip-1].color!=p[ip].color || p[ip-1].fillcolor!=p[ip].fillcolor ||\n",
              "     ip==1) {\n",
              "    if(p[ip-1].fill) {\n",
              "      ctx.fillStyle = p[ip-1].fillcolor;\n",
              "      ctx.fill();\n",
              "    }\n",
              "    ctx.beginPath();\n",
              "    ctx.moveTo(p[ip-1].x, p[ip-1].y);\n",
              "    ctx.strokeStyle = p[ip].color;\n",
              "    ctx.lineWidth = p[ip].width;\n",
              "  }\n",
              "  if(p[ip].pen) { ctx.lineTo(p[ip].x, p[ip].y); }\n",
              "  else          { ctx.moveTo(p[ip].x, p[ip].y); }\n",
              "  ctx.stroke();\n",
              "  if(turtle && (delay > 0 || ip==p.length-1)) { showTurtle(ip); }\n",
              "  updateStatus(p[ip].x, p[ip].y, p[ip].h, ip);\n",
              "}\n",
              "function updateStatus(x,y,h,ip) {\n",
              "  px=String(Math.round(x)).padStart(4,' ');\n",
              "  py=String(Math.round(y)).padStart(4,' ');\n",
              "  ph=String(Math.round(h)).padStart(4,' ');\n",
              "  pi=String(ip).padStart(6,' ');\n",
              "  document.getElementById(\"info\").innerHTML=\n",
              "  \"<div class='numbers'><b>Turtle</b> - x:\"+px+\" y:\"+py+\n",
              "  \" Heading:\"+ph+\" - Points:\"+pi+\"</div>\";\n",
              "}\n",
              "function updateStatusStatic(ip) {\n",
              "  pi=String(ip).padStart(6,' ');\n",
              "  document.getElementById(\"info\").innerHTML=\n",
              "  \"<div class='numbers'><b>Turtle</b> - Points:\"+pi+\n",
              "  \" (non interactive)           </div>\";\n",
              "}\n",
              "function getCoordinates(e) {\n",
              "  var rect = c.getBoundingClientRect();\n",
              "  mx=String(Math.round(e.clientX-rect.left)).padStart(4,' ');\n",
              "  my=String(Math.round(e.clientY-rect.top)).padStart(4,' ');\n",
              "  document.getElementById(\"coord\").innerHTML=\n",
              "  \"<div class='numbers'><b>Mouse</b> - x:\"+mx+\" y:\"+my+\"</div>\";\n",
              "}\n",
              "function showTurtle(ip) {\n",
              "  cold = ctx.getImageData(0, 0, c.width, c.height);\n",
              "  ctx.translate(p[ip].x, p[ip].y);\n",
              "  ctx.rotate(p[ip].h*Math.PI/180.);\n",
              "  ctx.drawImage(timg, -timg.width/2, -timg.height / 2, timg.width, timg.height);\n",
              "  ctx.rotate(-p[ip].h*Math.PI/180.);\n",
              "  ctx.translate(-p[ip].x, -p[ip].y);\n",
              "  dirty = true;\n",
              "}\n",
              "function clearCanvas(color){\n",
              "  bgcolor = color;\n",
              "  ctx.fillStyle = color;\n",
              "  ctx.fillRect(0, 0, c.width, c.height);\n",
              "}\n",
              "function initTurtle() {\n",
              "  var turl = \"https://raw.githubusercontent.com/tproffen/ORCSGirlsPython/master/Images/turtle.png\";\n",
              "  timg = new Image();\n",
              "  timg.src = turl; timg.setAttribute('crossorigin', 'anonymous');\n",
              "}\n",
              "//-----------------------------------------------------------------//\n",
              "//----------- Functions called from Python ------------------------//\n",
              "//-----------------------------------------------------------------//\n",
              "function updateDrawingCanvas(json) {\n",
              "  var art = JSON.parse(json);\n",
              "  bgcolor = art.bgcolor;\n",
              "  turtle = art.turtle;\n",
              "  c.width = art.width; c.height = art.height;\n",
              "  document.getElementById(\"art\").style.backgroundColor  = art.canvascolor;\n",
              "  document.getElementById(\"status\").style.backgroundColor  = art.statuscolor;\n",
              "\n",
              "  p=art.lines;\n",
              "  disableControls(true);\n",
              "  setTimeout(function() { play(art.delay); }, 50);\n",
              "}\n",
              "//-----------------------------------------------------------------//\n",
              "function updateDrawingSVG(svg,np) {\n",
              "\n",
              "  blob = new Blob([svg],{type:'image/svg+xml;charset=utf-8'});\n",
              "  url = URL.createObjectURL(blob);\n",
              "  var img = new Image();\n",
              "  img.onload = function(e){\n",
              "    c.width=img.width; c.height=img.height;\n",
              "    ctx.drawImage( img, 0, 0 );\n",
              "  };\n",
              "  img.src = url;\n",
              "  document.getElementById(\"save\").disabled = false;\n",
              "  updateStatusStatic(np);\n",
              "}\n",
              "//-----------------------------------------------------------------//\n",
              "//-----------------------------------------------------------------//\n",
              "var c = document.getElementById(\"turtleCanvas\");\n",
              "var ctx = c.getContext(\"2d\");\n",
              "var cold = ctx.getImageData(0, 0, c.width, c.height);\n",
              "var p = [], timg, turtle = false; path = false; dirty = false;\n",
              "\n",
              "initTurtle(); disableControls(true); c.addEventListener('mousemove',getCoordinates);\n",
              "</script>\n"
            ]
          },
          "metadata": {}
        },
        {
          "output_type": "stream",
          "name": "stdout",
          "text": [
            "path 1 1 100.0\n",
            "path 2 1 100.0\n",
            "path 3 1 100.0\n",
            "path 1 2 200.0\n",
            "path 1 1 100.0\n",
            "path 2 1 100.0\n",
            "path 3 1 100.0\n",
            "path 2 2 200.0\n",
            "path 1 1 100.0\n",
            "path 2 1 100.0\n",
            "path 3 1 100.0\n",
            "path 3 2 200.0\n",
            "path 1 3 400\n",
            "path 1 1 100.0\n",
            "path 2 1 100.0\n",
            "path 3 1 100.0\n",
            "path 1 2 200.0\n",
            "path 1 1 100.0\n",
            "path 2 1 100.0\n",
            "path 3 1 100.0\n",
            "path 2 2 200.0\n",
            "path 1 1 100.0\n",
            "path 2 1 100.0\n",
            "path 3 1 100.0\n",
            "path 3 2 200.0\n",
            "path 2 3 400\n",
            "path 1 1 100.0\n",
            "path 2 1 100.0\n",
            "path 3 1 100.0\n",
            "path 1 2 200.0\n",
            "path 1 1 100.0\n",
            "path 2 1 100.0\n",
            "path 3 1 100.0\n",
            "path 2 2 200.0\n",
            "path 1 1 100.0\n",
            "path 2 1 100.0\n",
            "path 3 1 100.0\n",
            "path 3 2 200.0\n",
            "path 3 3 400\n",
            "0\n"
          ]
        },
        {
          "output_type": "display_data",
          "data": {
            "text/plain": [
              "<IPython.core.display.Javascript object>"
            ],
            "application/javascript": [
              "updateDrawingCanvas('{\"bgcolor\": \"white\", \"statuscolor\": \"#ededff\", \"turtle\": true, \"canvascolor\": \"#fafafa\", \"width\": 1000, \"height\": 600, \"delay\": 0, \"lines\": [{\"pen\": false, \"x\": 500.0, \"y\": 300.0, \"h\": 0.0, \"color\": \"blue\", \"width\": 2, \"fill\": false, \"fillcolor\": \"yellow\"}, {\"pen\": false, \"x\": 300, \"y\": 500, \"h\": 0.0, \"color\": \"blue\", \"width\": 2, \"fill\": false, \"fillcolor\": \"yellow\"}, {\"pen\": true, \"x\": 300, \"y\": 500, \"h\": 90, \"color\": \"blue\", \"width\": 2, \"fill\": false, \"fillcolor\": \"yellow\"}, {\"pen\": true, \"x\": 350.0, \"y\": 500.0, \"h\": 90, \"color\": \"blue\", \"width\": 2, \"fill\": false, \"fillcolor\": \"yellow\"}, {\"pen\": true, \"x\": 350.0, \"y\": 500.0, \"h\": 330, \"color\": \"blue\", \"width\": 2, \"fill\": false, \"fillcolor\": \"yellow\"}, {\"pen\": true, \"x\": 325.0, \"y\": 456.6987298107781, \"h\": 330, \"color\": \"blue\", \"width\": 2, \"fill\": false, \"fillcolor\": \"yellow\"}, {\"pen\": true, \"x\": 325.0, \"y\": 456.6987298107781, \"h\": 210, \"color\": \"blue\", \"width\": 2, \"fill\": false, \"fillcolor\": \"yellow\"}, {\"pen\": true, \"x\": 300.0, \"y\": 500.00000000000006, \"h\": 210, \"color\": \"blue\", \"width\": 2, \"fill\": false, \"fillcolor\": \"yellow\"}, {\"pen\": true, \"x\": 300.0, \"y\": 500.00000000000006, \"h\": 90, \"color\": \"blue\", \"width\": 2, \"fill\": false, \"fillcolor\": \"yellow\"}, {\"pen\": true, \"x\": 350.0, \"y\": 500.00000000000006, \"h\": 90, \"color\": \"blue\", \"width\": 2, \"fill\": false, \"fillcolor\": \"yellow\"}, {\"pen\": true, \"x\": 400.0, \"y\": 500.00000000000006, \"h\": 90, \"color\": \"blue\", \"width\": 2, \"fill\": false, \"fillcolor\": \"yellow\"}, {\"pen\": true, \"x\": 400.0, \"y\": 500.00000000000006, \"h\": 330, \"color\": \"blue\", \"width\": 2, \"fill\": false, \"fillcolor\": \"yellow\"}, {\"pen\": true, \"x\": 375.0, \"y\": 456.69872981077816, \"h\": 330, \"color\": \"blue\", \"width\": 2, \"fill\": false, \"fillcolor\": \"yellow\"}, {\"pen\": true, \"x\": 375.0, \"y\": 456.69872981077816, \"h\": 210, \"color\": \"blue\", \"width\": 2, \"fill\": false, \"fillcolor\": \"yellow\"}, {\"pen\": true, \"x\": 350.0, \"y\": 500.0000000000001, \"h\": 210, \"color\": \"blue\", \"width\": 2, \"fill\": false, \"fillcolor\": \"yellow\"}, {\"pen\": true, \"x\": 350.0, \"y\": 500.0000000000001, \"h\": 90, \"color\": \"blue\", \"width\": 2, \"fill\": false, \"fillcolor\": \"yellow\"}, {\"pen\": true, \"x\": 300.0, \"y\": 500.0000000000001, \"h\": 90, \"color\": \"blue\", \"width\": 2, \"fill\": false, \"fillcolor\": \"yellow\"}, {\"pen\": true, \"x\": 300.0, \"y\": 500.0000000000001, \"h\": 30, \"color\": \"blue\", \"width\": 2, \"fill\": false, \"fillcolor\": \"yellow\"}, {\"pen\": true, \"x\": 325.0, \"y\": 456.69872981077816, \"h\": 30, \"color\": \"blue\", \"width\": 2, \"fill\": false, \"fillcolor\": \"yellow\"}, {\"pen\": true, \"x\": 325.0, \"y\": 456.69872981077816, \"h\": 90, \"color\": \"blue\", \"width\": 2, \"fill\": false, \"fillcolor\": \"yellow\"}, {\"pen\": true, \"x\": 375.0, \"y\": 456.69872981077816, \"h\": 90, \"color\": \"blue\", \"width\": 2, \"fill\": false, \"fillcolor\": \"yellow\"}, {\"pen\": true, \"x\": 375.0, \"y\": 456.69872981077816, \"h\": 330, \"color\": \"blue\", \"width\": 2, \"fill\": false, \"fillcolor\": \"yellow\"}, {\"pen\": true, \"x\": 350.0, \"y\": 413.39745962155627, \"h\": 330, \"color\": \"blue\", \"width\": 2, \"fill\": false, \"fillcolor\": \"yellow\"}, {\"pen\": true, \"x\": 350.0, \"y\": 413.39745962155627, \"h\": 210, \"color\": \"blue\", \"width\": 2, \"fill\": false, \"fillcolor\": \"yellow\"}, {\"pen\": true, \"x\": 325.0, \"y\": 456.6987298107782, \"h\": 210, \"color\": \"blue\", \"width\": 2, \"fill\": false, \"fillcolor\": \"yellow\"}, {\"pen\": true, \"x\": 325.0, \"y\": 456.6987298107782, \"h\": 90, \"color\": \"blue\", \"width\": 2, \"fill\": false, \"fillcolor\": \"yellow\"}, {\"pen\": true, \"x\": 325.0, \"y\": 456.6987298107782, \"h\": 30, \"color\": \"blue\", \"width\": 2, \"fill\": false, \"fillcolor\": \"yellow\"}, {\"pen\": true, \"x\": 300.0, \"y\": 500.00000000000017, \"h\": 30, \"color\": \"blue\", \"width\": 2, \"fill\": false, \"fillcolor\": \"yellow\"}, {\"pen\": true, \"x\": 300.0, \"y\": 500.00000000000017, \"h\": 90, \"color\": \"blue\", \"width\": 2, \"fill\": false, \"fillcolor\": \"yellow\"}, {\"pen\": true, \"x\": 400.0, \"y\": 500.00000000000017, \"h\": 90, \"color\": \"blue\", \"width\": 2, \"fill\": false, \"fillcolor\": \"yellow\"}, {\"pen\": true, \"x\": 450.0, \"y\": 500.00000000000017, \"h\": 90, \"color\": \"blue\", \"width\": 2, \"fill\": false, \"fillcolor\": \"yellow\"}, {\"pen\": true, \"x\": 450.0, \"y\": 500.00000000000017, \"h\": 330, \"color\": \"blue\", \"width\": 2, \"fill\": false, \"fillcolor\": \"yellow\"}, {\"pen\": true, \"x\": 425.0, \"y\": 456.6987298107783, \"h\": 330, \"color\": \"blue\", \"width\": 2, \"fill\": false, \"fillcolor\": \"yellow\"}, {\"pen\": true, \"x\": 425.0, \"y\": 456.6987298107783, \"h\": 210, \"color\": \"blue\", \"width\": 2, \"fill\": false, \"fillcolor\": \"yellow\"}, {\"pen\": true, \"x\": 400.0, \"y\": 500.0000000000002, \"h\": 210, \"color\": \"blue\", \"width\": 2, \"fill\": false, \"fillcolor\": \"yellow\"}, {\"pen\": true, \"x\": 400.0, \"y\": 500.0000000000002, \"h\": 90, \"color\": \"blue\", \"width\": 2, \"fill\": false, \"fillcolor\": \"yellow\"}, {\"pen\": true, \"x\": 450.0, \"y\": 500.0000000000002, \"h\": 90, \"color\": \"blue\", \"width\": 2, \"fill\": false, \"fillcolor\": \"yellow\"}, {\"pen\": true, \"x\": 500.0, \"y\": 500.0000000000002, \"h\": 90, \"color\": \"blue\", \"width\": 2, \"fill\": false, \"fillcolor\": \"yellow\"}, {\"pen\": true, \"x\": 500.0, \"y\": 500.0000000000002, \"h\": 330, \"color\": \"blue\", \"width\": 2, \"fill\": false, \"fillcolor\": \"yellow\"}, {\"pen\": true, \"x\": 475.0, \"y\": 456.69872981077833, \"h\": 330, \"color\": \"blue\", \"width\": 2, \"fill\": false, \"fillcolor\": \"yellow\"}, {\"pen\": true, \"x\": 475.0, \"y\": 456.69872981077833, \"h\": 210, \"color\": \"blue\", \"width\": 2, \"fill\": false, \"fillcolor\": \"yellow\"}, {\"pen\": true, \"x\": 450.0, \"y\": 500.0000000000003, \"h\": 210, \"color\": \"blue\", \"width\": 2, \"fill\": false, \"fillcolor\": \"yellow\"}, {\"pen\": true, \"x\": 450.0, \"y\": 500.0000000000003, \"h\": 90, \"color\": \"blue\", \"width\": 2, \"fill\": false, \"fillcolor\": \"yellow\"}, {\"pen\": true, \"x\": 400.0, \"y\": 500.0000000000003, \"h\": 90, \"color\": \"blue\", \"width\": 2, \"fill\": false, \"fillcolor\": \"yellow\"}, {\"pen\": true, \"x\": 400.0, \"y\": 500.0000000000003, \"h\": 30, \"color\": \"blue\", \"width\": 2, \"fill\": false, \"fillcolor\": \"yellow\"}, {\"pen\": true, \"x\": 425.0, \"y\": 456.69872981077833, \"h\": 30, \"color\": \"blue\", \"width\": 2, \"fill\": false, \"fillcolor\": \"yellow\"}, {\"pen\": true, \"x\": 425.0, \"y\": 456.69872981077833, \"h\": 90, \"color\": \"blue\", \"width\": 2, \"fill\": false, \"fillcolor\": \"yellow\"}, {\"pen\": true, \"x\": 475.0, \"y\": 456.69872981077833, \"h\": 90, \"color\": \"blue\", \"width\": 2, \"fill\": false, \"fillcolor\": \"yellow\"}, {\"pen\": true, \"x\": 475.0, \"y\": 456.69872981077833, \"h\": 330, \"color\": \"blue\", \"width\": 2, \"fill\": false, \"fillcolor\": \"yellow\"}, {\"pen\": true, \"x\": 450.0, \"y\": 413.39745962155644, \"h\": 330, \"color\": \"blue\", \"width\": 2, \"fill\": false, \"fillcolor\": \"yellow\"}, {\"pen\": true, \"x\": 450.0, \"y\": 413.39745962155644, \"h\": 210, \"color\": \"blue\", \"width\": 2, \"fill\": false, \"fillcolor\": \"yellow\"}, {\"pen\": true, \"x\": 425.0, \"y\": 456.6987298107784, \"h\": 210, \"color\": \"blue\", \"width\": 2, \"fill\": false, \"fillcolor\": \"yellow\"}, {\"pen\": true, \"x\": 425.0, \"y\": 456.6987298107784, \"h\": 90, \"color\": \"blue\", \"width\": 2, \"fill\": false, \"fillcolor\": \"yellow\"}, {\"pen\": true, \"x\": 425.0, \"y\": 456.6987298107784, \"h\": 30, \"color\": \"blue\", \"width\": 2, \"fill\": false, \"fillcolor\": \"yellow\"}, {\"pen\": true, \"x\": 400.0, \"y\": 500.00000000000034, \"h\": 30, \"color\": \"blue\", \"width\": 2, \"fill\": false, \"fillcolor\": \"yellow\"}, {\"pen\": true, \"x\": 400.0, \"y\": 500.00000000000034, \"h\": 90, \"color\": \"blue\", \"width\": 2, \"fill\": false, \"fillcolor\": \"yellow\"}, {\"pen\": true, \"x\": 300.0, \"y\": 500.00000000000034, \"h\": 90, \"color\": \"blue\", \"width\": 2, \"fill\": false, \"fillcolor\": \"yellow\"}, {\"pen\": true, \"x\": 300.0, \"y\": 500.00000000000034, \"h\": 30, \"color\": \"blue\", \"width\": 2, \"fill\": false, \"fillcolor\": \"yellow\"}, {\"pen\": true, \"x\": 350.0, \"y\": 413.39745962155644, \"h\": 30, \"color\": \"blue\", \"width\": 2, \"fill\": false, \"fillcolor\": \"yellow\"}, {\"pen\": true, \"x\": 350.0, \"y\": 413.39745962155644, \"h\": 90, \"color\": \"blue\", \"width\": 2, \"fill\": false, \"fillcolor\": \"yellow\"}, {\"pen\": true, \"x\": 400.0, \"y\": 413.39745962155644, \"h\": 90, \"color\": \"blue\", \"width\": 2, \"fill\": false, \"fillcolor\": \"yellow\"}, {\"pen\": true, \"x\": 400.0, \"y\": 413.39745962155644, \"h\": 330, \"color\": \"blue\", \"width\": 2, \"fill\": false, \"fillcolor\": \"yellow\"}, {\"pen\": true, \"x\": 375.0, \"y\": 370.09618943233454, \"h\": 330, \"color\": \"blue\", \"width\": 2, \"fill\": false, \"fillcolor\": \"yellow\"}, {\"pen\": true, \"x\": 375.0, \"y\": 370.09618943233454, \"h\": 210, \"color\": \"blue\", \"width\": 2, \"fill\": false, \"fillcolor\": \"yellow\"}, {\"pen\": true, \"x\": 350.0, \"y\": 413.3974596215565, \"h\": 210, \"color\": \"blue\", \"width\": 2, \"fill\": false, \"fillcolor\": \"yellow\"}, {\"pen\": true, \"x\": 350.0, \"y\": 413.3974596215565, \"h\": 90, \"color\": \"blue\", \"width\": 2, \"fill\": false, \"fillcolor\": \"yellow\"}, {\"pen\": true, \"x\": 400.0, \"y\": 413.3974596215565, \"h\": 90, \"color\": \"blue\", \"width\": 2, \"fill\": false, \"fillcolor\": \"yellow\"}, {\"pen\": true, \"x\": 450.0, \"y\": 413.3974596215565, \"h\": 90, \"color\": \"blue\", \"width\": 2, \"fill\": false, \"fillcolor\": \"yellow\"}, {\"pen\": true, \"x\": 450.0, \"y\": 413.3974596215565, \"h\": 330, \"color\": \"blue\", \"width\": 2, \"fill\": false, \"fillcolor\": \"yellow\"}, {\"pen\": true, \"x\": 425.0, \"y\": 370.0961894323346, \"h\": 330, \"color\": \"blue\", \"width\": 2, \"fill\": false, \"fillcolor\": \"yellow\"}, {\"pen\": true, \"x\": 425.0, \"y\": 370.0961894323346, \"h\": 210, \"color\": \"blue\", \"width\": 2, \"fill\": false, \"fillcolor\": \"yellow\"}, {\"pen\": true, \"x\": 400.0, \"y\": 413.39745962155655, \"h\": 210, \"color\": \"blue\", \"width\": 2, \"fill\": false, \"fillcolor\": \"yellow\"}, {\"pen\": true, \"x\": 400.0, \"y\": 413.39745962155655, \"h\": 90, \"color\": \"blue\", \"width\": 2, \"fill\": false, \"fillcolor\": \"yellow\"}, {\"pen\": true, \"x\": 350.0, \"y\": 413.39745962155655, \"h\": 90, \"color\": \"blue\", \"width\": 2, \"fill\": false, \"fillcolor\": \"yellow\"}, {\"pen\": true, \"x\": 350.0, \"y\": 413.39745962155655, \"h\": 30, \"color\": \"blue\", \"width\": 2, \"fill\": false, \"fillcolor\": \"yellow\"}, {\"pen\": true, \"x\": 375.0, \"y\": 370.0961894323346, \"h\": 30, \"color\": \"blue\", \"width\": 2, \"fill\": false, \"fillcolor\": \"yellow\"}, {\"pen\": true, \"x\": 375.0, \"y\": 370.0961894323346, \"h\": 90, \"color\": \"blue\", \"width\": 2, \"fill\": false, \"fillcolor\": \"yellow\"}, {\"pen\": true, \"x\": 425.0, \"y\": 370.0961894323346, \"h\": 90, \"color\": \"blue\", \"width\": 2, \"fill\": false, \"fillcolor\": \"yellow\"}, {\"pen\": true, \"x\": 425.0, \"y\": 370.0961894323346, \"h\": 330, \"color\": \"blue\", \"width\": 2, \"fill\": false, \"fillcolor\": \"yellow\"}, {\"pen\": true, \"x\": 400.0, \"y\": 326.7949192431127, \"h\": 330, \"color\": \"blue\", \"width\": 2, \"fill\": false, \"fillcolor\": \"yellow\"}, {\"pen\": true, \"x\": 400.0, \"y\": 326.7949192431127, \"h\": 210, \"color\": \"blue\", \"width\": 2, \"fill\": false, \"fillcolor\": \"yellow\"}, {\"pen\": true, \"x\": 375.0, \"y\": 370.09618943233465, \"h\": 210, \"color\": \"blue\", \"width\": 2, \"fill\": false, \"fillcolor\": \"yellow\"}, {\"pen\": true, \"x\": 375.0, \"y\": 370.09618943233465, \"h\": 90, \"color\": \"blue\", \"width\": 2, \"fill\": false, \"fillcolor\": \"yellow\"}, {\"pen\": true, \"x\": 375.0, \"y\": 370.09618943233465, \"h\": 30, \"color\": \"blue\", \"width\": 2, \"fill\": false, \"fillcolor\": \"yellow\"}, {\"pen\": true, \"x\": 350.0, \"y\": 413.3974596215566, \"h\": 30, \"color\": \"blue\", \"width\": 2, \"fill\": false, \"fillcolor\": \"yellow\"}, {\"pen\": true, \"x\": 350.0, \"y\": 413.3974596215566, \"h\": 90, \"color\": \"blue\", \"width\": 2, \"fill\": false, \"fillcolor\": \"yellow\"}, {\"pen\": true, \"x\": 350.0, \"y\": 413.3974596215566, \"h\": 30, \"color\": \"blue\", \"width\": 2, \"fill\": false, \"fillcolor\": \"yellow\"}, {\"pen\": true, \"x\": 300.0, \"y\": 500.00000000000045, \"h\": 30, \"color\": \"blue\", \"width\": 2, \"fill\": false, \"fillcolor\": \"yellow\"}, {\"pen\": true, \"x\": 300.0, \"y\": 500.00000000000045, \"h\": 90, \"color\": \"blue\", \"width\": 2, \"fill\": false, \"fillcolor\": \"yellow\"}, {\"pen\": true, \"x\": 500.0, \"y\": 500.00000000000045, \"h\": 90, \"color\": \"blue\", \"width\": 2, \"fill\": false, \"fillcolor\": \"yellow\"}, {\"pen\": true, \"x\": 550.0, \"y\": 500.00000000000045, \"h\": 90, \"color\": \"blue\", \"width\": 2, \"fill\": false, \"fillcolor\": \"yellow\"}, {\"pen\": true, \"x\": 550.0, \"y\": 500.00000000000045, \"h\": 330, \"color\": \"blue\", \"width\": 2, \"fill\": false, \"fillcolor\": \"yellow\"}, {\"pen\": true, \"x\": 525.0, \"y\": 456.69872981077856, \"h\": 330, \"color\": \"blue\", \"width\": 2, \"fill\": false, \"fillcolor\": \"yellow\"}, {\"pen\": true, \"x\": 525.0, \"y\": 456.69872981077856, \"h\": 210, \"color\": \"blue\", \"width\": 2, \"fill\": false, \"fillcolor\": \"yellow\"}, {\"pen\": true, \"x\": 500.0, \"y\": 500.0000000000005, \"h\": 210, \"color\": \"blue\", \"width\": 2, \"fill\": false, \"fillcolor\": \"yellow\"}, {\"pen\": true, \"x\": 500.0, \"y\": 500.0000000000005, \"h\": 90, \"color\": \"blue\", \"width\": 2, \"fill\": false, \"fillcolor\": \"yellow\"}, {\"pen\": true, \"x\": 550.0, \"y\": 500.0000000000005, \"h\": 90, \"color\": \"blue\", \"width\": 2, \"fill\": false, \"fillcolor\": \"yellow\"}, {\"pen\": true, \"x\": 600.0, \"y\": 500.0000000000005, \"h\": 90, \"color\": \"blue\", \"width\": 2, \"fill\": false, \"fillcolor\": \"yellow\"}, {\"pen\": true, \"x\": 600.0, \"y\": 500.0000000000005, \"h\": 330, \"color\": \"blue\", \"width\": 2, \"fill\": false, \"fillcolor\": \"yellow\"}, {\"pen\": true, \"x\": 575.0, \"y\": 456.6987298107786, \"h\": 330, \"color\": \"blue\", \"width\": 2, \"fill\": false, \"fillcolor\": \"yellow\"}, {\"pen\": true, \"x\": 575.0, \"y\": 456.6987298107786, \"h\": 210, \"color\": \"blue\", \"width\": 2, \"fill\": false, \"fillcolor\": \"yellow\"}, {\"pen\": true, \"x\": 550.0, \"y\": 500.00000000000057, \"h\": 210, \"color\": \"blue\", \"width\": 2, \"fill\": false, \"fillcolor\": \"yellow\"}, {\"pen\": true, \"x\": 550.0, \"y\": 500.00000000000057, \"h\": 90, \"color\": \"blue\", \"width\": 2, \"fill\": false, \"fillcolor\": \"yellow\"}, {\"pen\": true, \"x\": 500.0, \"y\": 500.00000000000057, \"h\": 90, \"color\": \"blue\", \"width\": 2, \"fill\": false, \"fillcolor\": \"yellow\"}, {\"pen\": true, \"x\": 500.0, \"y\": 500.00000000000057, \"h\": 30, \"color\": \"blue\", \"width\": 2, \"fill\": false, \"fillcolor\": \"yellow\"}, {\"pen\": true, \"x\": 525.0, \"y\": 456.6987298107786, \"h\": 30, \"color\": \"blue\", \"width\": 2, \"fill\": false, \"fillcolor\": \"yellow\"}, {\"pen\": true, \"x\": 525.0, \"y\": 456.6987298107786, \"h\": 90, \"color\": \"blue\", \"width\": 2, \"fill\": false, \"fillcolor\": \"yellow\"}, {\"pen\": true, \"x\": 575.0, \"y\": 456.6987298107786, \"h\": 90, \"color\": \"blue\", \"width\": 2, \"fill\": false, \"fillcolor\": \"yellow\"}, {\"pen\": true, \"x\": 575.0, \"y\": 456.6987298107786, \"h\": 330, \"color\": \"blue\", \"width\": 2, \"fill\": false, \"fillcolor\": \"yellow\"}, {\"pen\": true, \"x\": 550.0, \"y\": 413.3974596215567, \"h\": 330, \"color\": \"blue\", \"width\": 2, \"fill\": false, \"fillcolor\": \"yellow\"}, {\"pen\": true, \"x\": 550.0, \"y\": 413.3974596215567, \"h\": 210, \"color\": \"blue\", \"width\": 2, \"fill\": false, \"fillcolor\": \"yellow\"}, {\"pen\": true, \"x\": 525.0, \"y\": 456.6987298107787, \"h\": 210, \"color\": \"blue\", \"width\": 2, \"fill\": false, \"fillcolor\": \"yellow\"}, {\"pen\": true, \"x\": 525.0, \"y\": 456.6987298107787, \"h\": 90, \"color\": \"blue\", \"width\": 2, \"fill\": false, \"fillcolor\": \"yellow\"}, {\"pen\": true, \"x\": 525.0, \"y\": 456.6987298107787, \"h\": 30, \"color\": \"blue\", \"width\": 2, \"fill\": false, \"fillcolor\": \"yellow\"}, {\"pen\": true, \"x\": 500.0, \"y\": 500.0000000000006, \"h\": 30, \"color\": \"blue\", \"width\": 2, \"fill\": false, \"fillcolor\": \"yellow\"}, {\"pen\": true, \"x\": 500.0, \"y\": 500.0000000000006, \"h\": 90, \"color\": \"blue\", \"width\": 2, \"fill\": false, \"fillcolor\": \"yellow\"}, {\"pen\": true, \"x\": 600.0, \"y\": 500.0000000000006, \"h\": 90, \"color\": \"blue\", \"width\": 2, \"fill\": false, \"fillcolor\": \"yellow\"}, {\"pen\": true, \"x\": 650.0, \"y\": 500.0000000000006, \"h\": 90, \"color\": \"blue\", \"width\": 2, \"fill\": false, \"fillcolor\": \"yellow\"}, {\"pen\": true, \"x\": 650.0, \"y\": 500.0000000000006, \"h\": 330, \"color\": \"blue\", \"width\": 2, \"fill\": false, \"fillcolor\": \"yellow\"}, {\"pen\": true, \"x\": 625.0, \"y\": 456.69872981077873, \"h\": 330, \"color\": \"blue\", \"width\": 2, \"fill\": false, \"fillcolor\": \"yellow\"}, {\"pen\": true, \"x\": 625.0, \"y\": 456.69872981077873, \"h\": 210, \"color\": \"blue\", \"width\": 2, \"fill\": false, \"fillcolor\": \"yellow\"}, {\"pen\": true, \"x\": 600.0, \"y\": 500.0000000000007, \"h\": 210, \"color\": \"blue\", \"width\": 2, \"fill\": false, \"fillcolor\": \"yellow\"}, {\"pen\": true, \"x\": 600.0, \"y\": 500.0000000000007, \"h\": 90, \"color\": \"blue\", \"width\": 2, \"fill\": false, \"fillcolor\": \"yellow\"}, {\"pen\": true, \"x\": 650.0, \"y\": 500.0000000000007, \"h\": 90, \"color\": \"blue\", \"width\": 2, \"fill\": false, \"fillcolor\": \"yellow\"}, {\"pen\": true, \"x\": 700.0, \"y\": 500.0000000000007, \"h\": 90, \"color\": \"blue\", \"width\": 2, \"fill\": false, \"fillcolor\": \"yellow\"}, {\"pen\": true, \"x\": 700.0, \"y\": 500.0000000000007, \"h\": 330, \"color\": \"blue\", \"width\": 2, \"fill\": false, \"fillcolor\": \"yellow\"}, {\"pen\": true, \"x\": 675.0, \"y\": 456.6987298107788, \"h\": 330, \"color\": \"blue\", \"width\": 2, \"fill\": false, \"fillcolor\": \"yellow\"}, {\"pen\": true, \"x\": 675.0, \"y\": 456.6987298107788, \"h\": 210, \"color\": \"blue\", \"width\": 2, \"fill\": false, \"fillcolor\": \"yellow\"}, {\"pen\": true, \"x\": 650.0, \"y\": 500.00000000000074, \"h\": 210, \"color\": \"blue\", \"width\": 2, \"fill\": false, \"fillcolor\": \"yellow\"}, {\"pen\": true, \"x\": 650.0, \"y\": 500.00000000000074, \"h\": 90, \"color\": \"blue\", \"width\": 2, \"fill\": false, \"fillcolor\": \"yellow\"}, {\"pen\": true, \"x\": 600.0, \"y\": 500.00000000000074, \"h\": 90, \"color\": \"blue\", \"width\": 2, \"fill\": false, \"fillcolor\": \"yellow\"}, {\"pen\": true, \"x\": 600.0, \"y\": 500.00000000000074, \"h\": 30, \"color\": \"blue\", \"width\": 2, \"fill\": false, \"fillcolor\": \"yellow\"}, {\"pen\": true, \"x\": 625.0, \"y\": 456.6987298107788, \"h\": 30, \"color\": \"blue\", \"width\": 2, \"fill\": false, \"fillcolor\": \"yellow\"}, {\"pen\": true, \"x\": 625.0, \"y\": 456.6987298107788, \"h\": 90, \"color\": \"blue\", \"width\": 2, \"fill\": false, \"fillcolor\": \"yellow\"}, {\"pen\": true, \"x\": 675.0, \"y\": 456.6987298107788, \"h\": 90, \"color\": \"blue\", \"width\": 2, \"fill\": false, \"fillcolor\": \"yellow\"}, {\"pen\": true, \"x\": 675.0, \"y\": 456.6987298107788, \"h\": 330, \"color\": \"blue\", \"width\": 2, \"fill\": false, \"fillcolor\": \"yellow\"}, {\"pen\": true, \"x\": 650.0, \"y\": 413.3974596215569, \"h\": 330, \"color\": \"blue\", \"width\": 2, \"fill\": false, \"fillcolor\": \"yellow\"}, {\"pen\": true, \"x\": 650.0, \"y\": 413.3974596215569, \"h\": 210, \"color\": \"blue\", \"width\": 2, \"fill\": false, \"fillcolor\": \"yellow\"}, {\"pen\": true, \"x\": 625.0, \"y\": 456.69872981077884, \"h\": 210, \"color\": \"blue\", \"width\": 2, \"fill\": false, \"fillcolor\": \"yellow\"}, {\"pen\": true, \"x\": 625.0, \"y\": 456.69872981077884, \"h\": 90, \"color\": \"blue\", \"width\": 2, \"fill\": false, \"fillcolor\": \"yellow\"}, {\"pen\": true, \"x\": 625.0, \"y\": 456.69872981077884, \"h\": 30, \"color\": \"blue\", \"width\": 2, \"fill\": false, \"fillcolor\": \"yellow\"}, {\"pen\": true, \"x\": 600.0, \"y\": 500.0000000000008, \"h\": 30, \"color\": \"blue\", \"width\": 2, \"fill\": false, \"fillcolor\": \"yellow\"}, {\"pen\": true, \"x\": 600.0, \"y\": 500.0000000000008, \"h\": 90, \"color\": \"blue\", \"width\": 2, \"fill\": false, \"fillcolor\": \"yellow\"}, {\"pen\": true, \"x\": 500.0, \"y\": 500.0000000000008, \"h\": 90, \"color\": \"blue\", \"width\": 2, \"fill\": false, \"fillcolor\": \"yellow\"}, {\"pen\": true, \"x\": 500.0, \"y\": 500.0000000000008, \"h\": 30, \"color\": \"blue\", \"width\": 2, \"fill\": false, \"fillcolor\": \"yellow\"}, {\"pen\": true, \"x\": 550.0, \"y\": 413.3974596215569, \"h\": 30, \"color\": \"blue\", \"width\": 2, \"fill\": false, \"fillcolor\": \"yellow\"}, {\"pen\": true, \"x\": 550.0, \"y\": 413.3974596215569, \"h\": 90, \"color\": \"blue\", \"width\": 2, \"fill\": false, \"fillcolor\": \"yellow\"}, {\"pen\": true, \"x\": 600.0, \"y\": 413.3974596215569, \"h\": 90, \"color\": \"blue\", \"width\": 2, \"fill\": false, \"fillcolor\": \"yellow\"}, {\"pen\": true, \"x\": 600.0, \"y\": 413.3974596215569, \"h\": 330, \"color\": \"blue\", \"width\": 2, \"fill\": false, \"fillcolor\": \"yellow\"}, {\"pen\": true, \"x\": 575.0, \"y\": 370.096189432335, \"h\": 330, \"color\": \"blue\", \"width\": 2, \"fill\": false, \"fillcolor\": \"yellow\"}, {\"pen\": true, \"x\": 575.0, \"y\": 370.096189432335, \"h\": 210, \"color\": \"blue\", \"width\": 2, \"fill\": false, \"fillcolor\": \"yellow\"}, {\"pen\": true, \"x\": 550.0, \"y\": 413.39745962155695, \"h\": 210, \"color\": \"blue\", \"width\": 2, \"fill\": false, \"fillcolor\": \"yellow\"}, {\"pen\": true, \"x\": 550.0, \"y\": 413.39745962155695, \"h\": 90, \"color\": \"blue\", \"width\": 2, \"fill\": false, \"fillcolor\": \"yellow\"}, {\"pen\": true, \"x\": 600.0, \"y\": 413.39745962155695, \"h\": 90, \"color\": \"blue\", \"width\": 2, \"fill\": false, \"fillcolor\": \"yellow\"}, {\"pen\": true, \"x\": 650.0, \"y\": 413.39745962155695, \"h\": 90, \"color\": \"blue\", \"width\": 2, \"fill\": false, \"fillcolor\": \"yellow\"}, {\"pen\": true, \"x\": 650.0, \"y\": 413.39745962155695, \"h\": 330, \"color\": \"blue\", \"width\": 2, \"fill\": false, \"fillcolor\": \"yellow\"}, {\"pen\": true, \"x\": 625.0, \"y\": 370.09618943233505, \"h\": 330, \"color\": \"blue\", \"width\": 2, \"fill\": false, \"fillcolor\": \"yellow\"}, {\"pen\": true, \"x\": 625.0, \"y\": 370.09618943233505, \"h\": 210, \"color\": \"blue\", \"width\": 2, \"fill\": false, \"fillcolor\": \"yellow\"}, {\"pen\": true, \"x\": 600.0, \"y\": 413.397459621557, \"h\": 210, \"color\": \"blue\", \"width\": 2, \"fill\": false, \"fillcolor\": \"yellow\"}, {\"pen\": true, \"x\": 600.0, \"y\": 413.397459621557, \"h\": 90, \"color\": \"blue\", \"width\": 2, \"fill\": false, \"fillcolor\": \"yellow\"}, {\"pen\": true, \"x\": 550.0, \"y\": 413.397459621557, \"h\": 90, \"color\": \"blue\", \"width\": 2, \"fill\": false, \"fillcolor\": \"yellow\"}, {\"pen\": true, \"x\": 550.0, \"y\": 413.397459621557, \"h\": 30, \"color\": \"blue\", \"width\": 2, \"fill\": false, \"fillcolor\": \"yellow\"}, {\"pen\": true, \"x\": 575.0, \"y\": 370.09618943233505, \"h\": 30, \"color\": \"blue\", \"width\": 2, \"fill\": false, \"fillcolor\": \"yellow\"}, {\"pen\": true, \"x\": 575.0, \"y\": 370.09618943233505, \"h\": 90, \"color\": \"blue\", \"width\": 2, \"fill\": false, \"fillcolor\": \"yellow\"}, {\"pen\": true, \"x\": 625.0, \"y\": 370.09618943233505, \"h\": 90, \"color\": \"blue\", \"width\": 2, \"fill\": false, \"fillcolor\": \"yellow\"}, {\"pen\": true, \"x\": 625.0, \"y\": 370.09618943233505, \"h\": 330, \"color\": \"blue\", \"width\": 2, \"fill\": false, \"fillcolor\": \"yellow\"}, {\"pen\": true, \"x\": 600.0, \"y\": 326.79491924311316, \"h\": 330, \"color\": \"blue\", \"width\": 2, \"fill\": false, \"fillcolor\": \"yellow\"}, {\"pen\": true, \"x\": 600.0, \"y\": 326.79491924311316, \"h\": 210, \"color\": \"blue\", \"width\": 2, \"fill\": false, \"fillcolor\": \"yellow\"}, {\"pen\": true, \"x\": 575.0, \"y\": 370.0961894323351, \"h\": 210, \"color\": \"blue\", \"width\": 2, \"fill\": false, \"fillcolor\": \"yellow\"}, {\"pen\": true, \"x\": 575.0, \"y\": 370.0961894323351, \"h\": 90, \"color\": \"blue\", \"width\": 2, \"fill\": false, \"fillcolor\": \"yellow\"}, {\"pen\": true, \"x\": 575.0, \"y\": 370.0961894323351, \"h\": 30, \"color\": \"blue\", \"width\": 2, \"fill\": false, \"fillcolor\": \"yellow\"}, {\"pen\": true, \"x\": 550.0, \"y\": 413.39745962155706, \"h\": 30, \"color\": \"blue\", \"width\": 2, \"fill\": false, \"fillcolor\": \"yellow\"}, {\"pen\": true, \"x\": 550.0, \"y\": 413.39745962155706, \"h\": 90, \"color\": \"blue\", \"width\": 2, \"fill\": false, \"fillcolor\": \"yellow\"}, {\"pen\": true, \"x\": 550.0, \"y\": 413.39745962155706, \"h\": 30, \"color\": \"blue\", \"width\": 2, \"fill\": false, \"fillcolor\": \"yellow\"}, {\"pen\": true, \"x\": 500.0, \"y\": 500.0000000000009, \"h\": 30, \"color\": \"blue\", \"width\": 2, \"fill\": false, \"fillcolor\": \"yellow\"}, {\"pen\": true, \"x\": 500.0, \"y\": 500.0000000000009, \"h\": 90, \"color\": \"blue\", \"width\": 2, \"fill\": false, \"fillcolor\": \"yellow\"}, {\"pen\": true, \"x\": 300.0, \"y\": 500.0000000000009, \"h\": 90, \"color\": \"blue\", \"width\": 2, \"fill\": false, \"fillcolor\": \"yellow\"}, {\"pen\": true, \"x\": 300.0, \"y\": 500.0000000000009, \"h\": 30, \"color\": \"blue\", \"width\": 2, \"fill\": false, \"fillcolor\": \"yellow\"}, {\"pen\": true, \"x\": 400.0, \"y\": 326.79491924311316, \"h\": 30, \"color\": \"blue\", \"width\": 2, \"fill\": false, \"fillcolor\": \"yellow\"}, {\"pen\": true, \"x\": 400.0, \"y\": 326.79491924311316, \"h\": 90, \"color\": \"blue\", \"width\": 2, \"fill\": false, \"fillcolor\": \"yellow\"}, {\"pen\": true, \"x\": 450.0, \"y\": 326.79491924311316, \"h\": 90, \"color\": \"blue\", \"width\": 2, \"fill\": false, \"fillcolor\": \"yellow\"}, {\"pen\": true, \"x\": 450.0, \"y\": 326.79491924311316, \"h\": 330, \"color\": \"blue\", \"width\": 2, \"fill\": false, \"fillcolor\": \"yellow\"}, {\"pen\": true, \"x\": 425.0, \"y\": 283.49364905389126, \"h\": 330, \"color\": \"blue\", \"width\": 2, \"fill\": false, \"fillcolor\": \"yellow\"}, {\"pen\": true, \"x\": 425.0, \"y\": 283.49364905389126, \"h\": 210, \"color\": \"blue\", \"width\": 2, \"fill\": false, \"fillcolor\": \"yellow\"}, {\"pen\": true, \"x\": 400.0, \"y\": 326.7949192431132, \"h\": 210, \"color\": \"blue\", \"width\": 2, \"fill\": false, \"fillcolor\": \"yellow\"}, {\"pen\": true, \"x\": 400.0, \"y\": 326.7949192431132, \"h\": 90, \"color\": \"blue\", \"width\": 2, \"fill\": false, \"fillcolor\": \"yellow\"}, {\"pen\": true, \"x\": 450.0, \"y\": 326.7949192431132, \"h\": 90, \"color\": \"blue\", \"width\": 2, \"fill\": false, \"fillcolor\": \"yellow\"}, {\"pen\": true, \"x\": 500.0, \"y\": 326.7949192431132, \"h\": 90, \"color\": \"blue\", \"width\": 2, \"fill\": false, \"fillcolor\": \"yellow\"}, {\"pen\": true, \"x\": 500.0, \"y\": 326.7949192431132, \"h\": 330, \"color\": \"blue\", \"width\": 2, \"fill\": false, \"fillcolor\": \"yellow\"}, {\"pen\": true, \"x\": 475.0, \"y\": 283.4936490538913, \"h\": 330, \"color\": \"blue\", \"width\": 2, \"fill\": false, \"fillcolor\": \"yellow\"}, {\"pen\": true, \"x\": 475.0, \"y\": 283.4936490538913, \"h\": 210, \"color\": \"blue\", \"width\": 2, \"fill\": false, \"fillcolor\": \"yellow\"}, {\"pen\": true, \"x\": 450.0, \"y\": 326.79491924311327, \"h\": 210, \"color\": \"blue\", \"width\": 2, \"fill\": false, \"fillcolor\": \"yellow\"}, {\"pen\": true, \"x\": 450.0, \"y\": 326.79491924311327, \"h\": 90, \"color\": \"blue\", \"width\": 2, \"fill\": false, \"fillcolor\": \"yellow\"}, {\"pen\": true, \"x\": 400.0, \"y\": 326.79491924311327, \"h\": 90, \"color\": \"blue\", \"width\": 2, \"fill\": false, \"fillcolor\": \"yellow\"}, {\"pen\": true, \"x\": 400.0, \"y\": 326.79491924311327, \"h\": 30, \"color\": \"blue\", \"width\": 2, \"fill\": false, \"fillcolor\": \"yellow\"}, {\"pen\": true, \"x\": 425.0, \"y\": 283.4936490538913, \"h\": 30, \"color\": \"blue\", \"width\": 2, \"fill\": false, \"fillcolor\": \"yellow\"}, {\"pen\": true, \"x\": 425.0, \"y\": 283.4936490538913, \"h\": 90, \"color\": \"blue\", \"width\": 2, \"fill\": false, \"fillcolor\": \"yellow\"}, {\"pen\": true, \"x\": 475.0, \"y\": 283.4936490538913, \"h\": 90, \"color\": \"blue\", \"width\": 2, \"fill\": false, \"fillcolor\": \"yellow\"}, {\"pen\": true, \"x\": 475.0, \"y\": 283.4936490538913, \"h\": 330, \"color\": \"blue\", \"width\": 2, \"fill\": false, \"fillcolor\": \"yellow\"}, {\"pen\": true, \"x\": 450.0, \"y\": 240.1923788646694, \"h\": 330, \"color\": \"blue\", \"width\": 2, \"fill\": false, \"fillcolor\": \"yellow\"}, {\"pen\": true, \"x\": 450.0, \"y\": 240.1923788646694, \"h\": 210, \"color\": \"blue\", \"width\": 2, \"fill\": false, \"fillcolor\": \"yellow\"}, {\"pen\": true, \"x\": 425.0, \"y\": 283.4936490538913, \"h\": 210, \"color\": \"blue\", \"width\": 2, \"fill\": false, \"fillcolor\": \"yellow\"}, {\"pen\": true, \"x\": 425.0, \"y\": 283.4936490538913, \"h\": 90, \"color\": \"blue\", \"width\": 2, \"fill\": false, \"fillcolor\": \"yellow\"}, {\"pen\": true, \"x\": 425.0, \"y\": 283.4936490538913, \"h\": 30, \"color\": \"blue\", \"width\": 2, \"fill\": false, \"fillcolor\": \"yellow\"}, {\"pen\": true, \"x\": 400.0, \"y\": 326.79491924311327, \"h\": 30, \"color\": \"blue\", \"width\": 2, \"fill\": false, \"fillcolor\": \"yellow\"}, {\"pen\": true, \"x\": 400.0, \"y\": 326.79491924311327, \"h\": 90, \"color\": \"blue\", \"width\": 2, \"fill\": false, \"fillcolor\": \"yellow\"}, {\"pen\": true, \"x\": 500.0, \"y\": 326.79491924311327, \"h\": 90, \"color\": \"blue\", \"width\": 2, \"fill\": false, \"fillcolor\": \"yellow\"}, {\"pen\": true, \"x\": 550.0, \"y\": 326.79491924311327, \"h\": 90, \"color\": \"blue\", \"width\": 2, \"fill\": false, \"fillcolor\": \"yellow\"}, {\"pen\": true, \"x\": 550.0, \"y\": 326.79491924311327, \"h\": 330, \"color\": \"blue\", \"width\": 2, \"fill\": false, \"fillcolor\": \"yellow\"}, {\"pen\": true, \"x\": 525.0, \"y\": 283.4936490538914, \"h\": 330, \"color\": \"blue\", \"width\": 2, \"fill\": false, \"fillcolor\": \"yellow\"}, {\"pen\": true, \"x\": 525.0, \"y\": 283.4936490538914, \"h\": 210, \"color\": \"blue\", \"width\": 2, \"fill\": false, \"fillcolor\": \"yellow\"}, {\"pen\": true, \"x\": 500.0, \"y\": 326.7949192431133, \"h\": 210, \"color\": \"blue\", \"width\": 2, \"fill\": false, \"fillcolor\": \"yellow\"}, {\"pen\": true, \"x\": 500.0, \"y\": 326.7949192431133, \"h\": 90, \"color\": \"blue\", \"width\": 2, \"fill\": false, \"fillcolor\": \"yellow\"}, {\"pen\": true, \"x\": 550.0, \"y\": 326.7949192431133, \"h\": 90, \"color\": \"blue\", \"width\": 2, \"fill\": false, \"fillcolor\": \"yellow\"}, {\"pen\": true, \"x\": 600.0, \"y\": 326.7949192431133, \"h\": 90, \"color\": \"blue\", \"width\": 2, \"fill\": false, \"fillcolor\": \"yellow\"}, {\"pen\": true, \"x\": 600.0, \"y\": 326.7949192431133, \"h\": 330, \"color\": \"blue\", \"width\": 2, \"fill\": false, \"fillcolor\": \"yellow\"}, {\"pen\": true, \"x\": 575.0, \"y\": 283.49364905389143, \"h\": 330, \"color\": \"blue\", \"width\": 2, \"fill\": false, \"fillcolor\": \"yellow\"}, {\"pen\": true, \"x\": 575.0, \"y\": 283.49364905389143, \"h\": 210, \"color\": \"blue\", \"width\": 2, \"fill\": false, \"fillcolor\": \"yellow\"}, {\"pen\": true, \"x\": 550.0, \"y\": 326.7949192431134, \"h\": 210, \"color\": \"blue\", \"width\": 2, \"fill\": false, \"fillcolor\": \"yellow\"}, {\"pen\": true, \"x\": 550.0, \"y\": 326.7949192431134, \"h\": 90, \"color\": \"blue\", \"width\": 2, \"fill\": false, \"fillcolor\": \"yellow\"}, {\"pen\": true, \"x\": 500.0, \"y\": 326.7949192431134, \"h\": 90, \"color\": \"blue\", \"width\": 2, \"fill\": false, \"fillcolor\": \"yellow\"}, {\"pen\": true, \"x\": 500.0, \"y\": 326.7949192431134, \"h\": 30, \"color\": \"blue\", \"width\": 2, \"fill\": false, \"fillcolor\": \"yellow\"}, {\"pen\": true, \"x\": 525.0, \"y\": 283.49364905389143, \"h\": 30, \"color\": \"blue\", \"width\": 2, \"fill\": false, \"fillcolor\": \"yellow\"}, {\"pen\": true, \"x\": 525.0, \"y\": 283.49364905389143, \"h\": 90, \"color\": \"blue\", \"width\": 2, \"fill\": false, \"fillcolor\": \"yellow\"}, {\"pen\": true, \"x\": 575.0, \"y\": 283.49364905389143, \"h\": 90, \"color\": \"blue\", \"width\": 2, \"fill\": false, \"fillcolor\": \"yellow\"}, {\"pen\": true, \"x\": 575.0, \"y\": 283.49364905389143, \"h\": 330, \"color\": \"blue\", \"width\": 2, \"fill\": false, \"fillcolor\": \"yellow\"}, {\"pen\": true, \"x\": 550.0, \"y\": 240.1923788646695, \"h\": 330, \"color\": \"blue\", \"width\": 2, \"fill\": false, \"fillcolor\": \"yellow\"}, {\"pen\": true, \"x\": 550.0, \"y\": 240.1923788646695, \"h\": 210, \"color\": \"blue\", \"width\": 2, \"fill\": false, \"fillcolor\": \"yellow\"}, {\"pen\": true, \"x\": 525.0, \"y\": 283.49364905389143, \"h\": 210, \"color\": \"blue\", \"width\": 2, \"fill\": false, \"fillcolor\": \"yellow\"}, {\"pen\": true, \"x\": 525.0, \"y\": 283.49364905389143, \"h\": 90, \"color\": \"blue\", \"width\": 2, \"fill\": false, \"fillcolor\": \"yellow\"}, {\"pen\": true, \"x\": 525.0, \"y\": 283.49364905389143, \"h\": 30, \"color\": \"blue\", \"width\": 2, \"fill\": false, \"fillcolor\": \"yellow\"}, {\"pen\": true, \"x\": 500.0, \"y\": 326.7949192431134, \"h\": 30, \"color\": \"blue\", \"width\": 2, \"fill\": false, \"fillcolor\": \"yellow\"}, {\"pen\": true, \"x\": 500.0, \"y\": 326.7949192431134, \"h\": 90, \"color\": \"blue\", \"width\": 2, \"fill\": false, \"fillcolor\": \"yellow\"}, {\"pen\": true, \"x\": 400.0, \"y\": 326.7949192431134, \"h\": 90, \"color\": \"blue\", \"width\": 2, \"fill\": false, \"fillcolor\": \"yellow\"}, {\"pen\": true, \"x\": 400.0, \"y\": 326.7949192431134, \"h\": 30, \"color\": \"blue\", \"width\": 2, \"fill\": false, \"fillcolor\": \"yellow\"}, {\"pen\": true, \"x\": 450.0, \"y\": 240.1923788646695, \"h\": 30, \"color\": \"blue\", \"width\": 2, \"fill\": false, \"fillcolor\": \"yellow\"}, {\"pen\": true, \"x\": 450.0, \"y\": 240.1923788646695, \"h\": 90, \"color\": \"blue\", \"width\": 2, \"fill\": false, \"fillcolor\": \"yellow\"}, {\"pen\": true, \"x\": 500.0, \"y\": 240.1923788646695, \"h\": 90, \"color\": \"blue\", \"width\": 2, \"fill\": false, \"fillcolor\": \"yellow\"}, {\"pen\": true, \"x\": 500.0, \"y\": 240.1923788646695, \"h\": 330, \"color\": \"blue\", \"width\": 2, \"fill\": false, \"fillcolor\": \"yellow\"}, {\"pen\": true, \"x\": 475.0, \"y\": 196.89110867544758, \"h\": 330, \"color\": \"blue\", \"width\": 2, \"fill\": false, \"fillcolor\": \"yellow\"}, {\"pen\": true, \"x\": 475.0, \"y\": 196.89110867544758, \"h\": 210, \"color\": \"blue\", \"width\": 2, \"fill\": false, \"fillcolor\": \"yellow\"}, {\"pen\": true, \"x\": 450.0, \"y\": 240.1923788646695, \"h\": 210, \"color\": \"blue\", \"width\": 2, \"fill\": false, \"fillcolor\": \"yellow\"}, {\"pen\": true, \"x\": 450.0, \"y\": 240.1923788646695, \"h\": 90, \"color\": \"blue\", \"width\": 2, \"fill\": false, \"fillcolor\": \"yellow\"}, {\"pen\": true, \"x\": 500.0, \"y\": 240.1923788646695, \"h\": 90, \"color\": \"blue\", \"width\": 2, \"fill\": false, \"fillcolor\": \"yellow\"}, {\"pen\": true, \"x\": 550.0, \"y\": 240.1923788646695, \"h\": 90, \"color\": \"blue\", \"width\": 2, \"fill\": false, \"fillcolor\": \"yellow\"}, {\"pen\": true, \"x\": 550.0, \"y\": 240.1923788646695, \"h\": 330, \"color\": \"blue\", \"width\": 2, \"fill\": false, \"fillcolor\": \"yellow\"}, {\"pen\": true, \"x\": 525.0, \"y\": 196.89110867544758, \"h\": 330, \"color\": \"blue\", \"width\": 2, \"fill\": false, \"fillcolor\": \"yellow\"}, {\"pen\": true, \"x\": 525.0, \"y\": 196.89110867544758, \"h\": 210, \"color\": \"blue\", \"width\": 2, \"fill\": false, \"fillcolor\": \"yellow\"}, {\"pen\": true, \"x\": 500.0, \"y\": 240.1923788646695, \"h\": 210, \"color\": \"blue\", \"width\": 2, \"fill\": false, \"fillcolor\": \"yellow\"}, {\"pen\": true, \"x\": 500.0, \"y\": 240.1923788646695, \"h\": 90, \"color\": \"blue\", \"width\": 2, \"fill\": false, \"fillcolor\": \"yellow\"}, {\"pen\": true, \"x\": 450.0, \"y\": 240.1923788646695, \"h\": 90, \"color\": \"blue\", \"width\": 2, \"fill\": false, \"fillcolor\": \"yellow\"}, {\"pen\": true, \"x\": 450.0, \"y\": 240.1923788646695, \"h\": 30, \"color\": \"blue\", \"width\": 2, \"fill\": false, \"fillcolor\": \"yellow\"}, {\"pen\": true, \"x\": 475.0, \"y\": 196.89110867544758, \"h\": 30, \"color\": \"blue\", \"width\": 2, \"fill\": false, \"fillcolor\": \"yellow\"}, {\"pen\": true, \"x\": 475.0, \"y\": 196.89110867544758, \"h\": 90, \"color\": \"blue\", \"width\": 2, \"fill\": false, \"fillcolor\": \"yellow\"}, {\"pen\": true, \"x\": 525.0, \"y\": 196.89110867544758, \"h\": 90, \"color\": \"blue\", \"width\": 2, \"fill\": false, \"fillcolor\": \"yellow\"}, {\"pen\": true, \"x\": 525.0, \"y\": 196.89110867544758, \"h\": 330, \"color\": \"blue\", \"width\": 2, \"fill\": false, \"fillcolor\": \"yellow\"}, {\"pen\": true, \"x\": 500.0, \"y\": 153.58983848622566, \"h\": 330, \"color\": \"blue\", \"width\": 2, \"fill\": false, \"fillcolor\": \"yellow\"}, {\"pen\": true, \"x\": 500.0, \"y\": 153.58983848622566, \"h\": 210, \"color\": \"blue\", \"width\": 2, \"fill\": false, \"fillcolor\": \"yellow\"}, {\"pen\": true, \"x\": 475.0, \"y\": 196.89110867544758, \"h\": 210, \"color\": \"blue\", \"width\": 2, \"fill\": false, \"fillcolor\": \"yellow\"}, {\"pen\": true, \"x\": 475.0, \"y\": 196.89110867544758, \"h\": 90, \"color\": \"blue\", \"width\": 2, \"fill\": false, \"fillcolor\": \"yellow\"}, {\"pen\": true, \"x\": 475.0, \"y\": 196.89110867544758, \"h\": 30, \"color\": \"blue\", \"width\": 2, \"fill\": false, \"fillcolor\": \"yellow\"}, {\"pen\": true, \"x\": 450.0, \"y\": 240.19237886466954, \"h\": 30, \"color\": \"blue\", \"width\": 2, \"fill\": false, \"fillcolor\": \"yellow\"}, {\"pen\": true, \"x\": 450.0, \"y\": 240.19237886466954, \"h\": 90, \"color\": \"blue\", \"width\": 2, \"fill\": false, \"fillcolor\": \"yellow\"}, {\"pen\": true, \"x\": 450.0, \"y\": 240.19237886466954, \"h\": 30, \"color\": \"blue\", \"width\": 2, \"fill\": false, \"fillcolor\": \"yellow\"}, {\"pen\": true, \"x\": 400.0, \"y\": 326.79491924311344, \"h\": 30, \"color\": \"blue\", \"width\": 2, \"fill\": false, \"fillcolor\": \"yellow\"}, {\"pen\": true, \"x\": 400.0, \"y\": 326.79491924311344, \"h\": 90, \"color\": \"blue\", \"width\": 2, \"fill\": false, \"fillcolor\": \"yellow\"}, {\"pen\": true, \"x\": 400.0, \"y\": 326.79491924311344, \"h\": 30, \"color\": \"blue\", \"width\": 2, \"fill\": false, \"fillcolor\": \"yellow\"}, {\"pen\": true, \"x\": 300.0, \"y\": 500.0000000000012, \"h\": 30, \"color\": \"blue\", \"width\": 2, \"fill\": false, \"fillcolor\": \"yellow\"}, {\"pen\": true, \"x\": 300.0, \"y\": 500.0000000000012, \"h\": 90, \"color\": \"blue\", \"width\": 2, \"fill\": false, \"fillcolor\": \"yellow\"}]}')"
            ]
          },
          "metadata": {}
        }
      ]
    },
    {
      "cell_type": "code",
      "source": [],
      "metadata": {
        "id": "oEp9kS5niAne"
      },
      "execution_count": null,
      "outputs": []
    },
    {
      "cell_type": "markdown",
      "metadata": {
        "id": "jGAC86b_9fse"
      },
      "source": [
        "# Cellular Automata"
      ]
    },
    {
      "cell_type": "code",
      "metadata": {
        "id": "drHX1cz1Urpx"
      },
      "source": [
        "import numpy as np\n",
        "import matplotlib.pyplot as plt\n",
        "\n",
        "def plot(x):\n",
        "    fig, ax = plt.subplots()\n",
        "    im = ax.imshow(x, cmap = 'PuRd')\n",
        "    ax.axis('off')\n",
        "    fig.set_size_inches(10, 10)\n",
        "    plt.show()"
      ],
      "execution_count": null,
      "outputs": []
    },
    {
      "cell_type": "markdown",
      "source": [
        "I was playing with the color and hit an error for unsupported value.  It gave me a partial list of valid values and these look fun.  I am assuming this is specific to the numpy or matplotlib libraries and not party of native Python:\n",
        "\n",
        "supported values are 'Accent', 'Accent_r', 'Blues', 'Blues_r', 'BrBG', 'BrBG_r', 'BuGn', 'BuGn_r', 'BuPu', 'BuPu_r', 'CMRmap', 'CMRmap_r', 'Dark2', 'Dark2_r', 'GnBu', 'GnBu_r', 'Grays', 'Grays_r', 'Greens', 'Greens_r', 'Greys', 'Greys_r', 'OrRd', 'OrRd_r', 'Oranges', 'Oranges_r', 'PRGn', 'PRGn_r', 'Paired', 'Paired_r', 'Pastel1', 'Pastel1_r', 'Pastel2', 'Pastel2_r', 'PiYG', 'PiYG_r', 'PuBu', 'PuBuGn', 'PuBuGn_r', 'PuBu_r', 'PuOr', 'PuOr_r', 'PuRd', 'PuRd_r', 'Purples', 'Purples_r', 'RdBu', 'RdBu_r', 'RdGy', 'RdGy_r', 'RdPu', 'RdPu_r', 'RdYlBu', 'RdYlBu_r', 'RdYlGn', 'RdYlGn_r', 'Reds', 'Reds_r', 'Set1', 'Set1_r', 'Set2', 'Set2_r', 'Set3', 'Set3_r', 'Spectral', 'Spectral_r', 'Wistia', 'Wistia_r', 'YlGn', 'YlGnBu', 'YlGnBu_r', 'YlGn_r', 'YlOrBr', 'YlOrBr_r', 'YlOrRd', 'YlOrRd_r', 'afmhot', 'afmhot_r', 'autumn', 'autumn_r', 'berlin', 'berlin_r', 'binary', 'binary_r', 'bone', 'bone_r', 'brg', 'brg_r', 'bwr', 'bwr_r', 'cividis', 'cividis_r', 'cool', 'cool_r', 'coolwarm', 'coolwarm_r', 'copper', 'copper_r', 'cubehelix', 'cubehelix_r', 'flag', 'flag_r', 'gist_earth', 'gist_earth_r', 'gist_gray', 'gist_gray_r', 'gist_grey', 'gist_grey_r', 'gist_heat', 'gist_heat_r', 'gist_ncar', 'gist_ncar_r', 'gist_rainbow', 'gist_rainbow_r', 'gist_stern', 'gist_stern_r', 'gist_yarg', 'gist_yarg_r', 'gist_yerg', 'gist_yerg_r', 'gnuplot', 'gnuplot2', 'gnuplot2_r', 'gnuplot_r', 'gray', 'gray_r', 'grey', 'grey_r', 'hot', 'hot_r', 'hsv', 'h...\n"
      ],
      "metadata": {
        "id": "CnBg64hLypPA"
      }
    },
    {
      "cell_type": "code",
      "source": [
        "C = np.zeros((100,100)).astype(int)\n",
        "C[0,50] = 1\n",
        "plot(C)"
      ],
      "metadata": {
        "id": "7XJANDGpoB9N",
        "colab": {
          "base_uri": "https://localhost:8080/",
          "height": 807
        },
        "outputId": "01f30f62-f5a6-4234-830d-c53f1838ece3"
      },
      "execution_count": null,
      "outputs": [
        {
          "output_type": "display_data",
          "data": {
            "text/plain": [
              "<Figure size 1000x1000 with 1 Axes>"
            ],
            "image/png": "[encoded data removed]"
          },
          "metadata": {}
        }
      ]
    },
    {
      "cell_type": "code",
      "source": [
        "num = 52\n",
        "print(f'{num:08b}')"
      ],
      "metadata": {
        "id": "IjrLjJ7JpLQs",
        "colab": {
          "base_uri": "https://localhost:8080/"
        },
        "outputId": "e9dc302f-bb1c-41fc-8a24-f397ab664d39"
      },
      "execution_count": null,
      "outputs": [
        {
          "output_type": "stream",
          "name": "stdout",
          "text": [
            "00110100\n"
          ]
        }
      ]
    },
    {
      "cell_type": "markdown",
      "source": [
        "The above converts the given num into binary."
      ],
      "metadata": {
        "id": "T6YmPlTrzdm6"
      }
    },
    {
      "cell_type": "code",
      "metadata": {
        "id": "lDAb0-my2UT4"
      },
      "source": [
        "rule = np.zeros((2,2,2))\n",
        "\n",
        "rule[0,0,0] = 0\n",
        "rule[0,0,1] = 1\n",
        "rule[0,1,0] = 0\n",
        "rule[0,1,1] = 1\n",
        "rule[1,0,0] = 1\n",
        "rule[1,0,1] = 0\n",
        "rule[1,1,0] = 1\n",
        "rule[1,1,1] = 0"
      ],
      "execution_count": null,
      "outputs": []
    },
    {
      "cell_type": "markdown",
      "source": [
        "The above defines the rules for determining if adjacent cells to a given cell is occupited and the results being positive or negative for placment of a new cell.  The rules are called Rule 30 derived by Stephen Wolfram and looks to tie to the chaos theory that I studied last year.\n",
        "\n",
        "The function below looks at the cells above it, above and to the left of it, and above and to the right of it to determined if it should be filled based on the defined rules."
      ],
      "metadata": {
        "id": "ZkIEQaWO1icO"
      }
    },
    {
      "cell_type": "code",
      "metadata": {
        "id": "G_gZIdmp56D2"
      },
      "source": [
        "def CA(X):\n",
        "\n",
        "    for i in range(1,X.shape[0]-1): #row\n",
        "        for j in range(1,X.shape[1]-1): #col\n",
        "\n",
        "            N  = X[i-1,j]\n",
        "            NW = X[i-1,j-1]\n",
        "            NE = X[i-1,j+1]\n",
        "\n",
        "            X[i,j] = rule[NW,N,NE]\n",
        "\n",
        "    return X"
      ],
      "execution_count": null,
      "outputs": []
    },
    {
      "cell_type": "code",
      "metadata": {
        "id": "yfOsxySl3dyx",
        "colab": {
          "base_uri": "https://localhost:8080/",
          "height": 807
        },
        "outputId": "85661203-63b0-47ea-83ce-9a23dcdf06e3"
      },
      "source": [
        "plot(CA(C))"
      ],
      "execution_count": null,
      "outputs": [
        {
          "output_type": "display_data",
          "data": {
            "text/plain": [
              "<Figure size 1000x1000 with 1 Axes>"
            ],
            "image/png": "[encoded data removed]"
          },
          "metadata": {}
        }
      ]
    },
    {
      "cell_type": "code",
      "metadata": {
        "id": "46gjRM2zVyWY",
        "colab": {
          "base_uri": "https://localhost:8080/",
          "height": 807
        },
        "outputId": "8199dce0-0b0e-4f6e-d2bf-8752cfcdba4e"
      },
      "source": [
        "def CA(X):\n",
        "\n",
        "    for i in range(1,X.shape[0]-1): #row\n",
        "        for j in range(1,X.shape[1]-1): #col\n",
        "\n",
        "            X[i,j] = (rule/(2**(4*X[i-1,j-1] + 2*X[i-1,j] + X[i-1,j+1]))) % 2\n",
        "\n",
        "    return X\n",
        "\n",
        "rule = 90\n",
        "\n",
        "plot(CA(C))"
      ],
      "execution_count": null,
      "outputs": [
        {
          "output_type": "display_data",
          "data": {
            "text/plain": [
              "<Figure size 1000x1000 with 1 Axes>"
            ],
            "image/png": "[encoded data removed]"
          },
          "metadata": {}
        }
      ]
    },
    {
      "cell_type": "markdown",
      "source": [
        "For the execution above, which is duplicated in the third run below, the rules for the cells that are checked are different."
      ],
      "metadata": {
        "id": "FN46j-gE5uGC"
      }
    },
    {
      "cell_type": "code",
      "metadata": {
        "id": "fXMhIuwMYx7M",
        "colab": {
          "base_uri": "https://localhost:8080/",
          "height": 1000
        },
        "outputId": "71d58462-b50d-4c94-e1c3-5ebf3ec8e991"
      },
      "source": [
        "for rule in [30, 62, 90, 110, 126]:\n",
        "    plot(CA(C))"
      ],
      "execution_count": null,
      "outputs": [
        {
          "output_type": "display_data",
          "data": {
            "text/plain": [
              "<Figure size 1000x1000 with 1 Axes>"
            ],
            "image/png": "[encoded data removed]"
          },
          "metadata": {}
        },
        {
          "output_type": "display_data",
          "data": {
            "text/plain": [
              "<Figure size 1000x1000 with 1 Axes>"
            ],
            "image/png": "[encoded data removed]"
          },
          "metadata": {}
        },
        {
          "output_type": "display_data",
          "data": {
            "text/plain": [
              "<Figure size 1000x1000 with 1 Axes>"
            ],
            "image/png": "[encoded data removed]"
          },
          "metadata": {}
        },
        {
          "output_type": "display_data",
          "data": {
            "text/plain": [
              "<Figure size 1000x1000 with 1 Axes>"
            ],
            "image/png": "[encoded data removed]"
          },
          "metadata": {}
        },
        {
          "output_type": "display_data",
          "data": {
            "text/plain": [
              "<Figure size 1000x1000 with 1 Axes>"
            ],
            "image/png": "[encoded data removed]"
          },
          "metadata": {}
        }
      ]
    }
  ]
}